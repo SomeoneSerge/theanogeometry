{
 "cells": [
  {
   "cell_type": "code",
   "execution_count": null,
   "metadata": {},
   "outputs": [],
   "source": [
    "# # This file is part of Theano Geometry\n",
    "#\n",
    "# Copyright (C) 2017, Stefan Sommer (sommer@di.ku.dk)\n",
    "# https://bitbucket.org/stefansommer/theanogemetry\n",
    "#\n",
    "# Theano Geometry is free software: you can redistribute it and/or modify\n",
    "# it under the terms of the GNU General Public License as published by\n",
    "# the Free Software Foundation, either version 3 of the License, or\n",
    "# (at your option) any later version.\n",
    "#\n",
    "# Theano Geometry is distributed in the hope that it will be useful,\n",
    "# but WITHOUT ANY WARRANTY; without even the implied warranty of\n",
    "# MERCHANTABILITY or FITNESS FOR A PARTICULAR PURPOSE.  See the\n",
    "# GNU General Public License for more details.\n",
    "#\n",
    "# You should have received a copy of the GNU General Public License\n",
    "# along with Theano Geometry. If not, see <http://www.gnu.org/licenses/>.\n",
    "#"
   ]
  },
  {
   "cell_type": "markdown",
   "metadata": {},
   "source": [
    "# Frame Bundle Geometry on Ellipsoids Embedded in $\\mathbb R^3$"
   ]
  },
  {
   "cell_type": "code",
   "execution_count": null,
   "metadata": {},
   "outputs": [],
   "source": [
    "from src.manifolds.ellipsoid import *\n",
    "M = Ellipsoid(params=np.array([1,1,1]))\n",
    "#M.params.set_value(np.array([1,0.5,0.5]))\n",
    "print(M)\n",
    "\n",
    "from src.plotting import *"
   ]
  },
  {
   "cell_type": "code",
   "execution_count": null,
   "metadata": {},
   "outputs": [],
   "source": [
    "from src.Riemannian import metric\n",
    "from src.framebundle import FM\n",
    "\n",
    "metric.initialize(M)\n",
    "FM.initialize(M)\n",
    "\n",
    "x = np.array([0.,0.])\n",
    "\n",
    "# element u=(x,nu) in FM, nu being frame for T_xM\n",
    "# np.linalg.cholesky(M.gsharpf(x)) gives orthonormal basis for T_xM, multiplication scales in given directions\n",
    "nu = np.dot(np.diag((.5,1.)),np.linalg.cholesky(M.gsharpf(x)))\n",
    "u = np.concatenate((x,nu.flatten()))\n",
    "\n",
    "# FM covector p\n",
    "v = np.array([1.,1.])\n",
    "px = np.linalg.solve(nu,v) # manifold part\n",
    "pu = np.array([0.,0.,0.,0.]) # frame part\n",
    "p = np.concatenate([px,pu])\n",
    "\n",
    "print(\"u = \", u)\n",
    "print(\"p = \", p)"
   ]
  },
  {
   "cell_type": "markdown",
   "metadata": {},
   "source": [
    "# Geodesic on Frame bundle:"
   ]
  },
  {
   "cell_type": "code",
   "execution_count": null,
   "metadata": {
    "scrolled": false
   },
   "outputs": [],
   "source": [
    "# test Hamiltionian dynamics on FM from sub-Riemannian structure <v,w>_FM=<u^-1(v),u^-1(w)>_R^2\n",
    "print(M.H_FMf(u,p))\n",
    "\n",
    "# compute FM geodesic\n",
    "us = M.Exp_Hamiltonian_FMtf(u,p).T\n",
    "\n",
    "# plot\n",
    "newfig()\n",
    "M.plot(rotate=(30,80))\n",
    "M.plotFMx(us,N_vec=5,linewidth=1.5,s=50)\n",
    "plt.show()\n",
    "\n",
    "# dynamics returning both position and momentum\n",
    "(ts,qps) = M.Hamiltonian_dynamics_FMf(u,p)\n",
    "ps = qps[:,1,:]\n",
    "print(\"Energy: \",np.array([M.H_FMf(q,p) for (q,p) in zip(us,ps)]))"
   ]
  },
  {
   "cell_type": "markdown",
   "metadata": {},
   "source": [
    "# Development and Stochastic Development"
   ]
  },
  {
   "cell_type": "code",
   "execution_count": null,
   "metadata": {},
   "outputs": [],
   "source": [
    "# development dynamics\n",
    "from src.framebundle import FM\n",
    "from src.stochastics import stochastic_development\n",
    "FM.initialize(M)\n",
    "stochastic_development.initialize(M)"
   ]
  },
  {
   "cell_type": "code",
   "execution_count": null,
   "metadata": {},
   "outputs": [],
   "source": [
    "# deterministic development\n",
    "\n",
    "# curve in R^2\n",
    "t = np.linspace(0,10,n_steps.get_value()+1)\n",
    "gamma = np.vstack([[20*np.sin(t), t**2 + 2*t]]).T\n",
    "dgamma = np.diff(gamma, axis = 0)\n",
    "\n",
    "(ts,us) = M.developmentf(u,dgamma)\n",
    "\n",
    "# plot with frame\n",
    "newfig()\n",
    "M.plot()\n",
    "M.plotFMx(us)\n",
    "plt.show()\n",
    "\n",
    "# plot only trajectory\n",
    "newfig()\n",
    "M.plot()\n",
    "M.plotx(us[:,0:M.dim.eval()])\n",
    "plt.show()"
   ]
  },
  {
   "cell_type": "code",
   "execution_count": null,
   "metadata": {},
   "outputs": [],
   "source": [
    "# stochastic development\n",
    "w = dWsf(M.dim.eval()) # noise / anti-development\n",
    "(ts,us) = M.stochastic_developmentf(u,w)\n",
    "\n",
    "# plot with frame\n",
    "newfig()\n",
    "M.plot()\n",
    "M.plotFMx(us)\n",
    "plt.show()\n",
    "\n",
    "# plot only trajectory\n",
    "newfig()\n",
    "M.plot()\n",
    "M.plotx(us[:,0:M.dim.eval()])\n",
    "plt.show()\n",
    "\n",
    "# plot noise / anti-development\n",
    "plt.figure()\n",
    "plt.plot(w[:,0],w[:,1])\n",
    "plt.axis('equal')\n",
    "plt.show()"
   ]
  },
  {
   "cell_type": "markdown",
   "metadata": {},
   "source": [
    "# Anisotropic  Normal Distribution"
   ]
  },
  {
   "cell_type": "code",
   "execution_count": null,
   "metadata": {},
   "outputs": [],
   "source": [
    "# plot sample data with trajectories\n",
    "K = 8\n",
    "obss = np.zeros((K,n_steps.eval(),M.dim.eval()))\n",
    "# srng.seed(422)\n",
    "i = 0\n",
    "while i < K:\n",
    "    try:\n",
    "        (ts,us) = M.stochastic_developmentf(u,dWsf(M.dim.eval()))\n",
    "        obss[i] = us[:,0:M.dim.eval()]\n",
    "        i += 1\n",
    "    except np.linalg.linalg.LinAlgError:\n",
    "        pass\n",
    "\n",
    "# plot samples\n",
    "colormap = plt.get_cmap('winter')\n",
    "colors=[colormap(k) for k in np.linspace(0, 1, K)]\n",
    "newfig()\n",
    "M.plot()\n",
    "M.plotFMx(u)\n",
    "for i in range(K):\n",
    "    M.plotx(obss[i],linewidth=.5,color=colors[i])\n",
    "plt.show()"
   ]
  },
  {
   "cell_type": "code",
   "execution_count": null,
   "metadata": {},
   "outputs": [],
   "source": [
    "# sample data\n",
    "K = 1024\n",
    "obss = np.zeros((K,M.dim.eval()))\n",
    "# srng.seed(422)\n",
    "i = 0\n",
    "while i < K:\n",
    "    try:\n",
    "        (ts,us) = M.stochastic_developmentf(u,dWsf(M.dim.eval()))\n",
    "        obss[i] = us[-1][0:M.dim.eval()]\n",
    "        i += 1\n",
    "    except np.linalg.linalg.LinAlgError:\n",
    "        pass\n",
    "\n",
    "# plot samples\n",
    "newfig()\n",
    "M.plot()\n",
    "M.plotFMx(u)\n",
    "for i in range(K):\n",
    "    M.plotx(obss[i])\n",
    "plt.show()"
   ]
  },
  {
   "cell_type": "code",
   "execution_count": null,
   "metadata": {},
   "outputs": [],
   "source": [
    "# plot estimated density, \n",
    "newfig()\n",
    "# plotM(alpha=.4)\n",
    "# plot_sphere_density_estimate(M, np.array([M.Ff(obs) for obs in obss]),pts=100,alpha=.8,bandwidth=.15) # spherical coordinates\n",
    "plot_density_estimate(M,np.array([M.Ff(obs) for obs in obss]),limits=[-3,3,-3,3],pts=500,alpha=.4,bandwidth=.15) # general ellipsoidal coordinates (note: very long computation time)\n",
    "plt.show()"
   ]
  },
  {
   "cell_type": "markdown",
   "metadata": {},
   "source": [
    "# Most Probable Pahts"
   ]
  },
  {
   "cell_type": "code",
   "execution_count": null,
   "metadata": {},
   "outputs": [],
   "source": [
    "# Compute 'most probable path' (in the sense of the driving semi-martingale) between u and x2\n",
    "x2 = np.array([0.5,-0.5])\n",
    "\n",
    "# cotangent vector for the MPP:\n",
    "px2 = M.Log_FM(u,x2)\n",
    "\n",
    "# MPP from u to x2:\n",
    "usv = M.Exp_Hamiltonian_FMf(u,px2).T\n",
    "\n",
    "newfig()\n",
    "ax = plt.gca(projection='3d')\n",
    "M.plot(rotate=(30,-45))\n",
    "M.plotFMx(usv,N_vec=5,linewidth=1.5,s=50)\n",
    "xq = M.Ff(x2)\n",
    "ax.scatter(xq[0],xq[1],xq[2],color='r')\n",
    "plt.show()"
   ]
  },
  {
   "cell_type": "markdown",
   "metadata": {},
   "source": [
    "# Horizontal Vector Fields"
   ]
  },
  {
   "cell_type": "code",
   "execution_count": null,
   "metadata": {
    "scrolled": false
   },
   "outputs": [],
   "source": [
    "def plotHorizontalFields(u,color='b',color_intensity=1.,linewidth=3.,prevx=None,last=True):\n",
    "        xM = u[0:M.dim.eval()]\n",
    "        if xM.shape[0] == M.dim.eval(): # map to manifold\n",
    "            xM = M.Ff(xM)\n",
    "         \n",
    "        ax = plt.gca(projection='3d')\n",
    "        ax.scatter(xM[0],xM[1],xM[2],color=color)\n",
    "\n",
    "        x = u[0:M.dim.eval()]\n",
    "        nu = u[M.dim.eval():].reshape((M.dim.eval(),-1))\n",
    "        \n",
    "        # plot frame and horizontal variation\n",
    "        Hu = M.Horizontalf(u) # horizontal basis fields\n",
    "        Hnu = Hu[M.dim.eval():].reshape((M.dim.eval(),nu.shape[1],nu.shape[1])) # nu part\n",
    "        JFx = M.JFf(x)\n",
    "        for j in range(M.dim.eval()):\n",
    "            nujM = np.dot(JFx,nu[:,j])\n",
    "            HnujM = np.dot(JFx,np.dot(Hnu,nu[:,j]))\n",
    "            ax.quiver(xM[0],xM[1],xM[2],nujM[0],nujM[1],nujM[2], pivot='tail',\n",
    "                      arrow_length_ratio = 0.15, linewidths=1,\n",
    "                      color='black',normalize=True,length=np.linalg.norm(nujM))\n",
    "            for k in range(nu.shape[1]):\n",
    "                basep = xM + nujM\n",
    "                ax.quiver(basep[0],basep[1],basep[2],\n",
    "                          HnujM[0,k],HnujM[1,k],HnujM[2,k], pivot='tail',linewidths=2.,\n",
    "                          color='red',normalize=True,length=0.3)\n",
    "\n",
    "# plot horizontal fields at x = (.1,.1) (vanishes at north pole)\n",
    "x = np.array([0.1,0.1])\n",
    "nu = np.dot(np.diag((.5,1.)),np.linalg.cholesky(M.gsharpf(x)))\n",
    "u = np.concatenate((x,nu.flatten()))\n",
    "\n",
    "newfig()\n",
    "M.plot()\n",
    "plotHorizontalFields(u)\n",
    "plt.show()"
   ]
  },
  {
   "cell_type": "code",
   "execution_count": null,
   "metadata": {},
   "outputs": [],
   "source": []
  }
 ],
 "metadata": {
  "kernelspec": {
   "display_name": "Python 3",
   "language": "python",
   "name": "python3"
  },
  "language_info": {
   "codemirror_mode": {
    "name": "ipython",
    "version": 3
   },
   "file_extension": ".py",
   "mimetype": "text/x-python",
   "name": "python",
   "nbconvert_exporter": "python",
   "pygments_lexer": "ipython3",
   "version": "3.6.3"
  }
 },
 "nbformat": 4,
 "nbformat_minor": 1
}
