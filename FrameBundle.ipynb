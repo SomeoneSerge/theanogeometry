{
 "cells": [
  {
   "cell_type": "code",
   "execution_count": null,
   "metadata": {},
   "outputs": [],
   "source": [
    "# # This file is part of Theano Geometry\n",
    "#\n",
    "# Copyright (C) 2017, Stefan Sommer (sommer@di.ku.dk)\n",
    "# https://bitbucket.org/stefansommer/theanogemetry\n",
    "#\n",
    "# Theano Geometry is free software: you can redistribute it and/or modify\n",
    "# it under the terms of the GNU General Public License as published by\n",
    "# the Free Software Foundation, either version 3 of the License, or\n",
    "# (at your option) any later version.\n",
    "#\n",
    "# Theano Geometry is distributed in the hope that it will be useful,\n",
    "# but WITHOUT ANY WARRANTY; without even the implied warranty of\n",
    "# MERCHANTABILITY or FITNESS FOR A PARTICULAR PURPOSE.  See the\n",
    "# GNU General Public License for more details.\n",
    "#\n",
    "# You should have received a copy of the GNU General Public License\n",
    "# along with Theano Geometry. If not, see <http://www.gnu.org/licenses/>.\n",
    "#"
   ]
  },
  {
   "cell_type": "markdown",
   "metadata": {},
   "source": [
    "# Frame Bundle geometry on $\\mathbb{S}^2$"
   ]
  },
  {
   "cell_type": "code",
   "execution_count": null,
   "metadata": {},
   "outputs": [],
   "source": [
    "from src.manifolds.S2 import *\n",
    "M = S2()\n",
    "print(M)\n",
    "\n",
    "from src.plotting import *\n",
    "M.plot()"
   ]
  },
  {
   "cell_type": "code",
   "execution_count": null,
   "metadata": {},
   "outputs": [],
   "source": [
    "from src.Riemannian import metric\n",
    "metric.initialize(M)\n",
    "\n",
    "# element in FM (element in M, frame):\n",
    "x = np.array([0.,0.])\n",
    "u = np.array([[1.,-1.],[-1.,-1.]])\n",
    "u = M.gramSchmidt(x,u)\n",
    "q = np.hstack([x,u.flatten()])\n",
    "\n",
    "# Covector in FM:\n",
    "v = np.array([1.,0.])\n",
    "px = M.flatf(x,v)\n",
    "pu = np.array([1,0,1,0])\n",
    "p = np.hstack([px,pu])\n",
    "\n",
    "print(\"q = \", q)\n",
    "print(\"p = \", p)"
   ]
  },
  {
   "cell_type": "markdown",
   "metadata": {},
   "source": [
    "# Geodesic on Frame bundle:"
   ]
  },
  {
   "cell_type": "code",
   "execution_count": null,
   "metadata": {
    "scrolled": false
   },
   "outputs": [],
   "source": [
    "# Hamiltonian dynamics\n",
    "from src.framebundle import FM\n",
    "FM.initialize(M)\n",
    "# test Hamiltionian and gradients\n",
    "print(p)\n",
    "print(M.Hfmf(q,p))\n",
    "\n",
    "# geodesic\n",
    "qsv = M.Exptfmf(q,p).T\n",
    "#%matplotlib notebook\n",
    "newfig()\n",
    "M.plot(rotate=(30,-20))\n",
    "M.plotFMx(qsv,N_vec=5,linewidth=1.5,s=50)\n",
    "plt.show()\n",
    "(ts,qpsv) = M.Hamfmf(q,p)\n",
    "psv = qpsv[:,1,:]\n",
    "print(\"Energy: \",np.array([M.Hfmf(q,p) for (q,p) in zip(qsv,psv)]))"
   ]
  },
  {
   "cell_type": "code",
   "execution_count": null,
   "metadata": {},
   "outputs": [],
   "source": [
    "M.plotR2FMx(qsv,N_vec=5)\n",
    "plt.show()"
   ]
  },
  {
   "cell_type": "markdown",
   "metadata": {},
   "source": [
    "# Development and Stochastic Development"
   ]
  },
  {
   "cell_type": "markdown",
   "metadata": {},
   "source": [
    "### Development"
   ]
  },
  {
   "cell_type": "code",
   "execution_count": null,
   "metadata": {},
   "outputs": [],
   "source": [
    "x = np.array([0.1,0.1])\n",
    "\n",
    "# Frame\n",
    "u = np.array([[1,-1],[0,-1]]).astype(theano.config.floatX)\n",
    "u = M.gramSchmidt(x,u)\n",
    "\n",
    "Rot = np.array([[np.cos(45),np.sin(45)],[-np.sin(45),np.cos(45)]])\n",
    "u = np.dot(Rot,u)\n",
    "q = np.hstack([x,u.flatten()])\n",
    "print(\"q = \", q)\n",
    "\n",
    "# Curve in R^2:\n",
    "t = np.linspace(0,10,n_steps.get_value()+1)\n",
    "gamma = np.vstack([20*np.sin(t), t**2 + 2*t]).T\n",
    "dgamma = np.diff(gamma, axis = 0)\n",
    "print(\"dgamma.shape =\", dgamma.shape)"
   ]
  },
  {
   "cell_type": "code",
   "execution_count": null,
   "metadata": {},
   "outputs": [],
   "source": [
    "# Development dynamics\n",
    "from src.stochastics import stochastic_development\n",
    "stochastic_development.initialize(M)\n",
    "# test deterministic development\n",
    "qsv = M.devf(q,dgamma)\n",
    "newfig()\n",
    "M.plot(rotate=(30,-45))\n",
    "M.plotFMx(qsv,linewidth=1.5,s=50)\n",
    "plt.show()\n",
    "#plt.savefig(\"development.pdf\")"
   ]
  },
  {
   "cell_type": "markdown",
   "metadata": {},
   "source": [
    "### Stochastic Development"
   ]
  },
  {
   "cell_type": "code",
   "execution_count": null,
   "metadata": {},
   "outputs": [],
   "source": [
    "n_steps.set_value(1000)\n",
    "x = np.array([0.,0.]).astype(theano.config.floatX)\n",
    "\n",
    "u = np.array([[1.,-1],[1,1]]).astype(theano.config.floatX)\n",
    "u = M.gramSchmidt(x,u)\n",
    "print(\"x = \", x)\n",
    "print(\"ui = \", u)\n",
    "\n",
    "q = np.hstack([x.flatten(),u.flatten()]).astype(theano.config.floatX)\n",
    "print(\"q = \", q)\n",
    "\n",
    "dWt = np.random.normal(0, np.sqrt(dt.eval()), (n_steps.get_value(),2))\n",
    "drift = np.array([0.5,0.5])"
   ]
  },
  {
   "cell_type": "code",
   "execution_count": null,
   "metadata": {},
   "outputs": [],
   "source": [
    "# test stochastic development\n",
    "qsv = M.stoc_devf(q,.8*dWt,drift)\n",
    "newfig()\n",
    "M.plot(rotate=(30,-45))\n",
    "M.plotFMx(qsv,linewidth=1.5,s=50)\n",
    "plt.show()\n",
    "#plt.savefig(\"stocdev.pdf\")"
   ]
  },
  {
   "cell_type": "code",
   "execution_count": null,
   "metadata": {},
   "outputs": [],
   "source": [
    "Wt = np.cumsum(dWt,axis=0)\n",
    "plt.figure()\n",
    "plt.plot(Wt[:,0],Wt[:,1],'b-')\n",
    "plt.plot(np.array([0]),np.array([0]),'go',markersize=5.)\n",
    "plt.plot(Wt[-1:,0],Wt[-1:,1],'ro')\n",
    "plt.show()\n",
    "#plt.savefig(\"StocP.pdf\")"
   ]
  },
  {
   "cell_type": "markdown",
   "metadata": {},
   "source": [
    "# Curvature on FM"
   ]
  },
  {
   "cell_type": "code",
   "execution_count": null,
   "metadata": {},
   "outputs": [],
   "source": [
    "import matplotlib.cm as cm\n",
    "def plot_curvature(q,v0,v1,color='b'):\n",
    "\n",
    "        x = q[0:d.eval()]\n",
    "        ui = q[d.eval():].reshape((d.eval(),2))\n",
    "        \n",
    "        xq = x\n",
    "        if x.shape[0] < 3: # map to S2\n",
    "            x = Ff(x)\n",
    "         \n",
    "        ax = plt.gca(projection='3d')\n",
    "        ax.scatter(x[0],x[1],x[2],color=color)\n",
    "\n",
    "        # Frame along curve:\n",
    "        curm = np.tensordot(np.tensordot(R_uif(xq,ui), v0, axes = [0,0]), v1, axes = [0,0])\n",
    "        colors = cm.rainbow(np.linspace(0, 1, d.eval()))\n",
    "        for j in range(d.eval()):\n",
    "            JFgammai = JFf(xq)\n",
    "            uiq = np.dot(JFgammai,ui[j,:])\n",
    "            curV = np.dot(JFgammai,curm[j,:])\n",
    "            ax.quiver(x[0],x[1],x[2],uiq[0],uiq[1],uiq[2], pivot='tail',\n",
    "                      arrow_length_ratio = 0.15, linewidths=1.5,\n",
    "                      color=colors[j],normalize=True,length=1.5*np.linalg.norm(uiq)/2)\n",
    "            #end_Hvecq = (x + uiq/2)\n",
    "            ax.quiver(x[0],x[1],x[2],\n",
    "                      curV[0],curV[1],curV[2], pivot='tail',\n",
    "                      arrow_length_ratio = 0.15, linewidths=2,\n",
    "                      color=colors[j],normalize=True,length=np.linalg.norm(uiq)/2)"
   ]
  },
  {
   "cell_type": "code",
   "execution_count": null,
   "metadata": {},
   "outputs": [],
   "source": [
    "# Curvature\n",
    "from src.Riemannian import curvature\n",
    "curvature.initialize(M)\n",
    "\n",
    "cur = M.R_uif(x,ui)\n",
    "\n",
    "v0 = np.array([1,0])\n",
    "v1 = np.array([0,1])\n",
    "curm = np.tensordot(np.tensordot(cur, ui0[:,0], axes = [0,0]), ui0[:,1], axes = [0,0])\n",
    "print(\"curvature = \", curm)\n",
    "\n",
    "# Plot of curvature:\n",
    "newfig()\n",
    "plotM(rotate=(50,-40))\n",
    "plot_cuvature(q0,ui0[0,:],ui0[1,:])\n",
    "plt.show()\n",
    "#plt.savefig(\"Curvature.pdf\")"
   ]
  },
  {
   "cell_type": "markdown",
   "metadata": {},
   "source": [
    "# Most Probable Pahts"
   ]
  },
  {
   "cell_type": "code",
   "execution_count": null,
   "metadata": {},
   "outputs": [],
   "source": [
    "# Hamiltonian dynamics\n",
    "from src.FM import *\n",
    "\n",
    "x1 = np.array([0,0])\n",
    "x2 = np.array([0.5,-0.5])\n",
    "\n",
    "v0 = np.array([[1./3,0.],[0.,1./3]]).astype(theano.config.floatX)\n",
    "ui0 = GramSchmidt(v0,x1)\n",
    "q1 = np.hstack([x1,ui0.flatten()]).astype(theano.config.floatX)\n",
    "print(\"q = \", q1)\n",
    "\n",
    "xi0 = np.array([1,0]).astype(theano.config.floatX)\n",
    "xia = np.array([0,0,0,0]).astype(theano.config.floatX)\n",
    "\n",
    "p0 = np.hstack([xi0,xia]).astype(theano.config.floatX)\n",
    "print(\"p = \",p0)"
   ]
  },
  {
   "cell_type": "code",
   "execution_count": null,
   "metadata": {},
   "outputs": [],
   "source": [
    "# Tangent vector giving the MPP:\n",
    "Hor_v = Logfm(q1,x2)\n",
    "\n",
    "# MPP from q1 to x2:\n",
    "qsv = Exptfmf(q1,gMflatf(q1,Hor_v)).T\n",
    "\n",
    "newfig()\n",
    "ax = plt.gca(projection='3d')\n",
    "plotM(rotate=(30,-20))\n",
    "plotFMx(qsv,N_vec=5,linewidth=1.5,s=50)\n",
    "xq = Ff(x2)\n",
    "ax.scatter(xq[0],xq[1],xq[2],color='r')\n",
    "plt.show()\n",
    "#plt.savefig(\"MPP.pdf\")"
   ]
  },
  {
   "cell_type": "markdown",
   "metadata": {},
   "source": [
    "# Horizontal Vector Fields"
   ]
  },
  {
   "cell_type": "code",
   "execution_count": null,
   "metadata": {},
   "outputs": [],
   "source": [
    "n_steps.set_value(100)\n",
    "# Observation and frame\n",
    "x0 = np.array([0.5,0.5]).astype(theano.config.floatX)\n",
    "\n",
    "# Frame\n",
    "v0 = np.array([[1,1],[0,-1]]).astype(theano.config.floatX)\n",
    "ui0 = GramSchmidt(v0,x0)#sp.linalg.orth(v0) # Gramm-Schmidt!!\n",
    "\n",
    "Rot = np.array([[np.cos(45),np.sin(45)],[-np.sin(45),np.cos(45)]])\n",
    "ui0 = np.dot(Rot,ui0)\n",
    "q0 = np.hstack([x0.flatten(),ui0.flatten()]).astype(theano.config.floatX)\n",
    "print(\"q = \", q0)\n",
    "\n",
    "t = np.linspace(0,1,n_steps.get_value())\n",
    "gamma0 = 2*np.vstack([t**2+1,-t**2-np.sin(t)]).T\n",
    "dgamma0 = 2*np.vstack([2*t,-2*t+np.cos(t)]).T"
   ]
  },
  {
   "cell_type": "code",
   "execution_count": null,
   "metadata": {},
   "outputs": [],
   "source": [
    "def plotHorix(q,dgamma,i0=0,color='b',color_intensity=1.,linewidth=3.,prevx=None,last=True):\n",
    "        if len(q.shape)>1:\n",
    "            for i in range(q.shape[0]):\n",
    "                plotHorix(q[i],dgamma,i0=i,# if prevx is None else None,\n",
    "                      color=color,\n",
    "                      linewidth=linewidth if i==0 or i==q.shape[0]-1 else .8,\n",
    "                      color_intensity=color_intensity if i==0 or i==q.shape[0]-1 else .7,\n",
    "                      prevx=q[i-1] if i>0 else None,\n",
    "                      last=i==(q.shape[0]-1))\n",
    "            return\n",
    "\n",
    "        x = q[0:d.eval()]\n",
    "        ui = q[d.eval():].reshape((d.eval(),2))\n",
    "        \n",
    "        xq = x\n",
    "        if x.shape[0] < 3: # map to S2\n",
    "            x = Ff(x)\n",
    "         \n",
    "        ax = plt.gca(projection='3d')\n",
    "        if prevx is None or last:\n",
    "            ax.scatter(x[0],x[1],x[2],color=color)\n",
    "        if prevx is not None:\n",
    "            prevxx = prevx[0:d.eval()]\n",
    "            if prevxx.shape[0] < 3:\n",
    "                prevxx = Ff(prevxx)\n",
    "            xx = np.stack((prevxx,x))\n",
    "            ax.plot(xx[:,0],xx[:,1],xx[:,2],linewidth=linewidth,color=color)\n",
    "\n",
    "        # Frame along curve:\n",
    "        if i0 is 0:\n",
    "            Hvec = Horif(xq,ui)\n",
    "            for j in range(d.eval()):\n",
    "                JFgammai = JFf(xq)\n",
    "                uiq = np.dot(JFgammai,ui[j,:])\n",
    "                Hvecq = np.dot(JFgammai,Hvec[j,:])\n",
    "                ax.quiver(x[0],x[1],x[2],uiq[0],uiq[1],uiq[2], pivot='tail',\n",
    "                          arrow_length_ratio = 0.15, linewidths=1,\n",
    "                          color='black',normalize=True,length=np.linalg.norm(uiq))\n",
    "                ax.quiver(x[0],x[1],x[2],Hvecq[0],Hvecq[1],Hvecq[2], pivot='tail',\n",
    "                          arrow_length_ratio = 0.15,normalize=True,linewidths=3, length=0.5,\n",
    "                          color='red')\n",
    "                #for k in range(rank.eval()):\n",
    "                v = np.dot(Hvec[(2*j+2):(2*j+4),:],dgamma)\n",
    "                Hvecui = np.dot(JFgammai,v)\n",
    "                #Hvecui = np.dot(JFgammai,Hvec[(2*(j+1)+k),:])\n",
    "                end_Hvecq = (x + uiq)\n",
    "                ax.quiver(end_Hvecq[0],end_Hvecq[1],end_Hvecq[2],\n",
    "                          Hvecui[0],Hvecui[1],Hvecui[2], pivot='tail',linewidths=2.,\n",
    "                          normalize=True,length=0.3)\n",
    "            # velocity vector:\n",
    "            dgamma_v = np.dot(JFgammai,dgamma)\n",
    "            ax.quiver(x[0],x[1],x[2],dgamma_v[0],dgamma_v[1],dgamma_v[2], pivot='tail',\n",
    "                      arrow_length_ratio = 0.15,normalize=True,linewidths=3, length=0.7,\n",
    "                      color='green')\n",
    "                "
   ]
  },
  {
   "cell_type": "code",
   "execution_count": null,
   "metadata": {
    "scrolled": false
   },
   "outputs": [],
   "source": [
    "# Development dynamics\n",
    "from src.Stochastic_Development import *\n",
    "# test deterministic development\n",
    "qsv = devf(q0,dgamma0)\n",
    "Hori_v = Horif(x0,ui0)\n",
    "print(\"Horizontal vector fields = \", Hori_v)\n",
    "\n",
    "newfig()\n",
    "plotM(rotate=(40,-45))\n",
    "dqsv = qsv[1,0:d.eval()] - qsv[0,0:d.eval()]\n",
    "plotHorix(qsv,dqsv)\n",
    "#plt.savefig(\"Hori.pdf\")"
   ]
  },
  {
   "cell_type": "code",
   "execution_count": null,
   "metadata": {},
   "outputs": [],
   "source": [
    "print(Hori_v[d.eval():,:])\n",
    "print(np.dot(Hori_v[d.eval():(d.eval()+2),:],dgamma0[0,:]))\n",
    "print(np.dot(Hori_v[(d.eval()+2):(d.eval()+4),:],dgamma0[0,:]))"
   ]
  },
  {
   "cell_type": "code",
   "execution_count": null,
   "metadata": {},
   "outputs": [],
   "source": [
    "print(DgMf(np.array([0.,0.])))"
   ]
  }
 ],
 "metadata": {
  "kernelspec": {
   "display_name": "Python 3",
   "language": "python",
   "name": "python3"
  },
  "language_info": {
   "codemirror_mode": {
    "name": "ipython",
    "version": 3
   },
   "file_extension": ".py",
   "mimetype": "text/x-python",
   "name": "python",
   "nbconvert_exporter": "python",
   "pygments_lexer": "ipython3",
   "version": "3.5.2"
  }
 },
 "nbformat": 4,
 "nbformat_minor": 1
}
