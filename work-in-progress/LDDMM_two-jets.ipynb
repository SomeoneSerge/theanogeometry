{
 "cells": [
  {
   "cell_type": "code",
   "execution_count": null,
   "metadata": {},
   "outputs": [],
   "source": [
    "# # This file is part of Theano Geometry\n",
    "#\n",
    "# Copyright (C) 2017, Stefan Sommer (sommer@di.ku.dk)\n",
    "# https://bitbucket.org/stefansommer/theanogemetry\n",
    "#\n",
    "# Theano Geometry is free software: you can redistribute it and/or modify\n",
    "# it under the terms of the GNU General Public License as published by\n",
    "# the Free Software Foundation, either version 3 of the License, or\n",
    "# (at your option) any later version.\n",
    "#\n",
    "# Theano Geometry is distributed in the hope that it will be useful,\n",
    "# but WITHOUT ANY WARRANTY; without even the implied warranty of\n",
    "# MERCHANTABILITY or FITNESS FOR A PARTICULAR PURPOSE.  See the\n",
    "# GNU General Public License for more details.\n",
    "#\n",
    "# You should have received a copy of the GNU General Public License\n",
    "# along with Theano Geometry. If not, see <http://www.gnu.org/licenses/>.\n",
    "#"
   ]
  },
  {
   "cell_type": "code",
   "execution_count": null,
   "metadata": {},
   "outputs": [],
   "source": [
    "# LDDMM landmark two-jet dynamics"
   ]
  },
  {
   "cell_type": "code",
   "execution_count": null,
   "metadata": {},
   "outputs": [],
   "source": [
    "#import src.params as params\n",
    "#params.manifold = 'landmarks'\n",
    "from src.manifolds.landmarks import *\n",
    "M = landmarks(2)\n",
    "print(M)\n",
    "\n",
    "from src.plotting import *"
   ]
  },
  {
   "cell_type": "code",
   "execution_count": null,
   "metadata": {},
   "outputs": [],
   "source": [
    "# Riemannian structure\n",
    "from src.Riemannian import metric\n",
    "metric.initialize(M)"
   ]
  },
  {
   "cell_type": "code",
   "execution_count": null,
   "metadata": {},
   "outputs": [],
   "source": [
    "# example configuration\n",
    "M.k_sigma.set_value(np.diag((.5,.5)))\n",
    "\n",
    "x = np.array([[0.5,1],[1,1]])\n",
    "q = x.flatten()\n",
    "v = np.array([[0.,1],[0.,1]])\n",
    "p = M.flatf(q,v.flatten())\n",
    "\n",
    "print(\"q = \", q)\n",
    "print(\"p = \", p)"
   ]
  },
  {
   "cell_type": "code",
   "execution_count": null,
   "metadata": {},
   "outputs": [],
   "source": [
    "# regular 0th order Hamiltonian dynamics\n",
    "from src.dynamics import Hamiltonian\n",
    "Hamiltonian.initialize(M)\n",
    "# test Hamiltionian and gradients\n",
    "print(p)\n",
    "print(M.Hf(q,p))\n",
    "\n",
    "# geodesic\n",
    "qs = M.Exp_Hamiltoniantf(q,p).T\n",
    "M.plot()\n",
    "M.plotx(qs,v)\n",
    "plt.show()\n",
    "(ts,qps) = M.Hamiltonian_dynamicsf(q,p)\n",
    "ps = qps[:,1,:]\n",
    "print(\"Energy: \",np.array([M.Hf(q,p) for (q,p) in zip(qs,ps)]))"
   ]
  },
  {
   "cell_type": "code",
   "execution_count": null,
   "metadata": {},
   "outputs": [],
   "source": [
    "from src.dynamics import jets\n",
    "jets.initialize(M)\n",
    "\n",
    "# test\n",
    "qqsv = M.Ham_advectf(np.vstack((q.reshape((-1,M.m.eval())),np.array([[0.6,1],[.9,1]]))),\n",
    "                   qs,ps)[1].reshape((n_steps.eval(),-1))\n",
    "M.plotx(qqsv)\n",
    "# grid\n",
    "(grid,Nx,Ny) = M.getGrid(-.25,1.75,0.,2.,xpts=50,ypts=50)\n",
    "mgrid = M.Ham_advectf(grid,qs,ps)[1][-1]\n",
    "M.plotGrid(mgrid,Nx,Ny,coloring=True)\n",
    "plt.axis('equal')\n",
    "plt.show()\n",
    "pass"
   ]
  },
  {
   "cell_type": "code",
   "execution_count": null,
   "metadata": {},
   "outputs": [],
   "source": [
    "# WHAT SHOULD BE DONE WITH THIS???\n",
    "\n",
    "# 2nd order jet Hamiltonian dynamics\n",
    "def Hjet(q,p,mu1,mu2):\n",
    "    Kq = K(q,theano.gradient.disconnected_grad(q)).reshape((N,m,N,m)).dimshuffle((0,2,1,3)) # shape=((N,N,m,m)) (i,j,alpha,beta)\n",
    "    #Kq = K(q,q).reshape((N,m,N,m)).dimshuffle((0,2,1,3)) # shape=((N,N,m,m)) (i,j,alpha,beta)\n",
    "    #r_sq = T.square((q.dimshuffle(0,'x',1)-q.dimshuffle('x',0,1))).sum(2)\n",
    "    #Ksigma = r_sq#T.exp( - r_sq / (2*SIGMA**2) )\n",
    "    #DKq = T.jacobian((\n",
    "    #    (Ksigma[:,:,np.newaxis,np.newaxis]*T.eye(m)[np.newaxis,np.newaxis,:,:]).dimshuffle((0,2,1,3)).reshape((-1,d))\n",
    "    #).flatten(),q).sum(1).reshape((N,N,m,m,m)) # (i,j,alpha,beta,gamma)\n",
    "    DKq = T.jacobian(Kq.flatten(),q).sum(1).reshape((N,N,m,m,m)) # (i,j,alpha,beta,gamma)    \n",
    "    #D2Kq = T.jacobian(DKq.flatten(),q).sum(1).reshape((N,N,m,m,m,m)) # (i,j,alpha,beta,gamma,delta)\n",
    "    #D3Kq = T.jacobian(D2Kq.flatten(),q).sum(1).reshape((N,N,m,m,m,m,m)) # (i,j,alpha,beta,gamma,delta,epsilon)\n",
    "    #D4Kq = T.jacobian(D3Kq.flatten(),q).sum(1).reshape((N,N,m,m,m,m,m,m)) # (i,j,alpha,beta,gamma,delta,epsilon,phi)\n",
    "    \n",
    "    return (  .5*T.tensordot(p,T.tensordot(p,Kq,((0,1),(2,3))),((0,1),(0,1)))\n",
    "             - T.tensordot(p,T.tensordot(mu1,DKq,((0,1,2),(2,3,4))),((0,1),(0,1)))  +0*mu2[0,0,0,0] )\n",
    "             #+ T.tensordot(p,T.tensordot(mu2,D2Kq,((0,1,2,3),(2,3,4,5))),((0,1),(0,1))) )\n",
    "#           - .5*T.tensordot(mu1,T.tensordot(mu1,D2Kq,((0,1,2),(2,3,4))),((0,1,2),(0,1,2)))\n",
    "#              + T.tensordot(mu1,T.tensordot(mu2,D3Kq,((0,1,3,2),(2,3,4,5))),((0,1,2),(0,1,2))) )\n",
    "#           + .5*T.tensordot(mu2,T.tensordot(mu2,D4Kq,((0,1,3,2),(2,3,6,7))),((0,1,2,3),(0,1,2,3))) )\n",
    "q = T.matrix()\n",
    "p = T.matrix()\n",
    "mu1 = T.tensor3()\n",
    "mu2 = T.tensor4()\n",
    "Hjetf = theano.function([p,q,mu1,mu2],Hjet(p,q,mu1,mu2),mode='FAST_COMPILE',on_unused_input='ignore')\n",
    "\n",
    "def coad(xi,mu):\n",
    "    (xi1,xi2) = xi\n",
    "    (mu1,mu2) = mu\n",
    "    return (\n",
    "        (mu1[:,:,np.newaxis,:]*xi1[:,np.newaxis,:,:]).sum(3)\n",
    "           -(xi1[:,:,:,np.newaxis]*mu1[:,:,np.newaxis,:]).sum(1)\n",
    "          +(mu2[:,:,np.newaxis,:,:]*xi2[:,np.newaxis,:,:,:]).sum((3,4))\n",
    "          -(xi2[:,:,:,np.newaxis,:]*mu2[:,:,np.newaxis,:,:]).sum((1,4))\n",
    "          -(xi2[:,:,:,:,np.newaxis]*mu2[:,:,:,np.newaxis,:]).sum((1,2))\n",
    "        ,\n",
    "        (mu2[:,:,np.newaxis,:,:]*xi1[:,np.newaxis,:,:,np.newaxis]).sum(3)\n",
    "            +(mu2[:,:,np.newaxis,:,:]*xi1[:,np.newaxis,:,:,np.newaxis]).sum(3)\n",
    "            -(xi1[:,:,:,np.newaxis,np.newaxis]*mu2[:,:,np.newaxis,:,:]).sum(1)\n",
    "    )\n",
    "xi1 = T.tensor3()\n",
    "xi2 = T.tensor4()\n",
    "coadf = theano.function([xi1,xi2,mu1,mu2],coad((xi1,xi2),(mu1,mu2)),mode='FAST_COMPILE',on_unused_input='ignore')\n",
    "\n",
    "def state_to_weinstein_darboux(x):\n",
    "    q = x[0:N*m].reshape((N,m))\n",
    "    p = x[N*m:N*m+N*m].reshape((N,m))\n",
    "    mu1 = x[N*m+N*m:N*m+N*m+N*m*m].reshape((N,m,m))\n",
    "    mu2 = x[N*m+N*m+N*m*m:N*m+N*m+N*m*m+N*m*m*m].reshape((N,m,m,m))\n",
    "    return (q,p,mu1,mu2)\n",
    "\n",
    "def weinstein_darboux_to_state(q,p,mu1,mu2):\n",
    "    return T.stack((q.flatten(),p.flatten(),mu1.flatten(),mu2.flatten()))\n",
    "    \n",
    "def ode_Ham_jet(t,x):\n",
    "    dq  = lambda q,p,mu1,mu2: T.grad(Hjet(q,p,mu1,mu2),p)\n",
    "    dp  = lambda q,p,mu1,mu2: -T.grad(Hjet(q,p,mu1,mu2),q)\n",
    "    xi  = lambda q,p,mu1,mu2: (T.grad(Hjet(q,p,mu1,mu2),mu1),T.grad(Hjet(q,p,mu1,mu2),mu2))\n",
    "    negdmu = lambda q,p,mu1,mu2: coad(xi(q,p,mu1,mu2),(mu1,mu2))\n",
    "\n",
    "    (q,p,mu1,mu2) = state_to_weinstein_darboux(x)\n",
    "    dqt = dq(p,q,mu1,mu2)\n",
    "    dpt = dp(p,q,mu1,mu2)\n",
    "    (negdmu1t,negdmu2t) = negdmu(q,p,mu1,mu2)\n",
    "    return weinstein_darboux_to_state(dqt,dpt,-negdmu1t,-negdmu2t)\n",
    "Ham = lambda q,p,mu1,mu2: integrate(ode_Ham_jet,weinstein_darboux_to_state(q,p,mu1,mu2))\n",
    "Hamf = theano.function([q,p,mu1,mu2], Ham(q,p,mu1,mu2),mode='FAST_COMPILE',on_unused_input='ignore')"
   ]
  },
  {
   "cell_type": "code",
   "execution_count": null,
   "metadata": {},
   "outputs": [],
   "source": []
  }
 ],
 "metadata": {
  "kernelspec": {
   "display_name": "Python 3",
   "language": "python",
   "name": "python3"
  },
  "language_info": {
   "codemirror_mode": {
    "name": "ipython",
    "version": 3
   },
   "file_extension": ".py",
   "mimetype": "text/x-python",
   "name": "python",
   "nbconvert_exporter": "python",
   "pygments_lexer": "ipython3",
   "version": "3.5.2"
  }
 },
 "nbformat": 4,
 "nbformat_minor": 1
}
