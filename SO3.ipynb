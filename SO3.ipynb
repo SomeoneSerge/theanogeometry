{
 "cells": [
  {
   "cell_type": "code",
   "execution_count": null,
   "metadata": {
    "collapsed": true
   },
   "outputs": [],
   "source": [
    "# # This file is part of Theano Geometry\n",
    "#\n",
    "# Copyright (C) 2017, Stefan Sommer (sommer@di.ku.dk)\n",
    "# https://bitbucket.org/stefansommer/theanogemetry\n",
    "#\n",
    "# Theano Geometry is free software: you can redistribute it and/or modify\n",
    "# it under the terms of the GNU General Public License as published by\n",
    "# the Free Software Foundation, either version 3 of the License, or\n",
    "# (at your option) any later version.\n",
    "#\n",
    "# Theano Geometry is distributed in the hope that it will be useful,\n",
    "# but WITHOUT ANY WARRANTY; without even the implied warranty of\n",
    "# MERCHANTABILITY or FITNESS FOR A PARTICULAR PURPOSE.  See the\n",
    "# GNU General Public License for more details.\n",
    "#\n",
    "# You should have received a copy of the GNU General Public License\n",
    "# along with Theano Geometry. If not, see <http://www.gnu.org/licenses/>.\n",
    "#"
   ]
  },
  {
   "cell_type": "markdown",
   "metadata": {},
   "source": [
    "# SO(3) group operations and dynamics"
   ]
  },
  {
   "cell_type": "code",
   "execution_count": null,
   "metadata": {},
   "outputs": [],
   "source": [
    "from src.groups.SON import *\n",
    "G = SON(3)\n",
    "print(G)"
   ]
  },
  {
   "cell_type": "code",
   "execution_count": null,
   "metadata": {},
   "outputs": [],
   "source": [
    "# visualization\n",
    "from src.plotting import *\n",
    "newfig()\n",
    "G.plotg(G.e.eval())\n",
    "plt.show()\n",
    "\n",
    "v=np.array(np.random.rand(3))\n",
    "xiv=G.VtoLAf(v)\n",
    "(ts,gsv) = G.exptf(xiv)\n",
    "newfig()\n",
    "G.plotg(gsv)\n",
    "plt.show()"
   ]
  },
  {
   "cell_type": "code",
   "execution_count": null,
   "metadata": {},
   "outputs": [],
   "source": [
    "# plot path on S2\n",
    "from src.manifolds.S2 import *\n",
    "M = S2()\n",
    "print(M)\n",
    "\n",
    "newfig()\n",
    "M.plot()\n",
    "x= np.array([0,0,1])\n",
    "M.plotx(M.actsf(gsv.transpose((1,2,0)),x).T)\n",
    "plt.show()"
   ]
  },
  {
   "cell_type": "code",
   "execution_count": null,
   "metadata": {},
   "outputs": [],
   "source": [
    "# setup for testing different versions of dynamics\n",
    "q = np.array([1e-6,0,0])\n",
    "g = G.psif(q)\n",
    "v = np.array([0,1,1])\n",
    "\n",
    "from src.group import invariant_metric\n",
    "invariant_metric.initialize(G)\n",
    "p = G.sharppsif(q,v)\n",
    "mu = G.sharpVf(v)\n",
    "print(p)\n",
    "print(mu)\n",
    "\n",
    "from src.group import energy\n",
    "energy.initialize(G)"
   ]
  },
  {
   "cell_type": "code",
   "execution_count": null,
   "metadata": {},
   "outputs": [],
   "source": [
    "# Euler-Poincare dynamics\n",
    "from src.group import EulerPoincare\n",
    "EulerPoincare.initialize(G)\n",
    "\n",
    "# geodesic\n",
    "#%matplotlib inline\n",
    "(ts,gsv) = G.ExpEPtf(G.psif(q),v)\n",
    "newfig()\n",
    "\n",
    "ax = plt.gca(projection='3d')\n",
    "x = np.arange(-10,10,1)\n",
    "ax.w_xaxis.set_major_locator(ticker.FixedLocator(x))\n",
    "ax.w_yaxis.set_major_locator(ticker.FixedLocator(x))\n",
    "ax.w_zaxis.set_major_locator(ticker.FixedLocator(x))\n",
    "ax.w_xaxis.set_pane_color((0.98, 0.98, 0.99, 1.0))\n",
    "ax.w_yaxis.set_pane_color((0.98, 0.98, 0.99, 1.0))\n",
    "ax.w_zaxis.set_pane_color((0.98, 0.98, 0.99, 1.0))\n",
    "ax.xaxis._axinfo[\"grid\"]['linewidth'] = 0.3\n",
    "ax.yaxis._axinfo[\"grid\"]['linewidth'] = 0.3\n",
    "ax.zaxis._axinfo[\"grid\"]['linewidth'] = 0.3\n",
    "#    ax.set_xlim(-1.5,1.5)\n",
    "#    ax.set_ylim(-1.5,1.5)\n",
    "#    ax.set_zlim(-1.5,1.5)\n",
    "ax.set_aspect(\"equal\")\n",
    "ax.view_init(30,-15)\n",
    "\n",
    "G.plotg(gsv)\n",
    "plt.show()\n",
    "#plt.savefig('geoso3.pdf')\n",
    "(ts,musv) = G.EPf(mu)\n",
    "xisv = [G.invFlf(mu) for mu in musv]\n",
    "print(\"Energy: \",np.array([G.lf(xi) for xi in xisv]))\n",
    "print(\"Orthogonality: \",np.array([np.linalg.norm(np.dot(g,g.T)-np.eye(int(np.sqrt(G.emb_dim.eval()))),np.inf) for g in gsv]))"
   ]
  },
  {
   "cell_type": "code",
   "execution_count": null,
   "metadata": {},
   "outputs": [],
   "source": [
    "# on S2\n",
    "newfig()\n",
    "M.plot(rotate=(30,-15))\n",
    "x = np.array([0,0,1])\n",
    "M.plotx(M.actsf(gsv.transpose((1,2,0)),x).T)\n",
    "plt.show()\n",
    "#plt.savefig('geoso32.pdf')"
   ]
  },
  {
   "cell_type": "code",
   "execution_count": null,
   "metadata": {},
   "outputs": [],
   "source": [
    "# Lie-Poission dynamics\n",
    "from src.group import LiePoisson\n",
    "LiePoisson.initialize(G)\n",
    "\n",
    "# geodesic\n",
    "(ts,gsv) = G.ExpLPtf(G.psif(q),v)\n",
    "newfig()\n",
    "G.plotg(gsv)\n",
    "plt.show()\n",
    "(ts,musv) = G.LPf(mu)\n",
    "print(\"Energy: \",np.array([G.Hminusf(mu) for mu in musv]))\n",
    "print(\"Orthogonality: \",np.array([np.linalg.norm(np.dot(g,g.T)-np.eye(int(np.sqrt(G.dim.eval()))),np.inf) for g in gsv]))"
   ]
  },
  {
   "cell_type": "code",
   "execution_count": null,
   "metadata": {},
   "outputs": [],
   "source": [
    "psv.shape"
   ]
  },
  {
   "cell_type": "code",
   "execution_count": null,
   "metadata": {
    "scrolled": false
   },
   "outputs": [],
   "source": [
    "# Hamiltonian dynamics\n",
    "from src.dynamics import Hamiltonian\n",
    "Hamiltonian.initialize(G)\n",
    "\n",
    "# test Hamiltionian and gradients\n",
    "print(p)\n",
    "print(G.Hf(q,p))\n",
    "\n",
    "# geodesic\n",
    "qsv = G.Exp_Hamiltoniantf(q,p)\n",
    "gsv = np.array([G.psif(q) for q in qsv])\n",
    "newfig()\n",
    "G.plotg(gsv)\n",
    "plt.show()\n",
    "(ts,qpsv) = G.Hamiltonian_dynamicsf(q,p)\n",
    "psv = qpsv[:,1,:]\n",
    "print(\"Energy: \",np.array([G.Hf(q,p) for (q,p) in zip(qsv.T,psv)]))"
   ]
  },
  {
   "cell_type": "code",
   "execution_count": null,
   "metadata": {
    "collapsed": true
   },
   "outputs": [],
   "source": []
  }
 ],
 "metadata": {
  "kernelspec": {
   "display_name": "Python 3",
   "language": "python",
   "name": "python3"
  },
  "language_info": {
   "codemirror_mode": {
    "name": "ipython",
    "version": 3
   },
   "file_extension": ".py",
   "mimetype": "text/x-python",
   "name": "python",
   "nbconvert_exporter": "python",
   "pygments_lexer": "ipython3",
   "version": "3.5.3"
  }
 },
 "nbformat": 4,
 "nbformat_minor": 1
}
