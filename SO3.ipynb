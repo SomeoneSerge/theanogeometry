{
 "cells": [
  {
   "cell_type": "markdown",
   "metadata": {
    "collapsed": true
   },
   "source": [
    "# Deterministic Lie group dynamics"
   ]
  },
  {
   "cell_type": "code",
   "execution_count": null,
   "metadata": {
    "collapsed": true
   },
   "outputs": [],
   "source": [
    "import src.params as params\n",
    "params.group = 'SON'\n",
    "params.manifold = 'S2'"
   ]
  },
  {
   "cell_type": "code",
   "execution_count": null,
   "metadata": {},
   "outputs": [],
   "source": [
    "from src.group import *\n",
    "from src.manifold import *\n",
    "from src.metric import *\n",
    "\n",
    "from src.plotting import *\n",
    "%matplotlib inline\n",
    "plt.rcParams['figure.figsize'] = 7, 7"
   ]
  },
  {
   "cell_type": "code",
   "execution_count": null,
   "metadata": {},
   "outputs": [],
   "source": [
    "# initialize\n",
    "init(3)"
   ]
  },
  {
   "cell_type": "code",
   "execution_count": null,
   "metadata": {},
   "outputs": [],
   "source": [
    "# checks and tests\n",
    "v0=np.array([1,0,0])\n",
    "w0=np.array([0,1,0])\n",
    "xiv0=VtoLAf(v0)\n",
    "xiw0=VtoLAf(w0)\n",
    "print(xiv0)\n",
    "print(xiw0)\n",
    "print(gVf(v0,v0))\n",
    "print(gVf(v0,w0))\n",
    "print(gLAf(xiv0,xiv0))\n",
    "x = expf(xiv0)\n",
    "print(x)\n",
    "print(to_groupf(x))\n",
    "w0x=dLf(x,e.eval(),xiw0)\n",
    "print(w0x)\n",
    "print(dLf(invf(x),x,w0x))\n",
    "print(invpbf(x,w0x))\n",
    "print(gpsif(v0+w0))\n",
    "print(cogpsif(v0+w0))\n",
    "print(eiLA.eval()[:,:,0])\n",
    "print(eiLA.eval()[:,:,1])\n",
    "print(bracketf(eiLA.eval()[:,:,0],eiLA.eval()[:,:,1]))\n",
    "# print(Cf().shape)\n",
    "# print(Cf()[:,:,0,1])\n",
    "print(C.eval().shape)\n",
    "print(C.eval()[:,:,0])\n",
    "for i in range(G_dim.eval()):\n",
    "    print(eiLA.eval()[:,:,i])"
   ]
  },
  {
   "cell_type": "code",
   "execution_count": null,
   "metadata": {},
   "outputs": [],
   "source": [
    "# exp/log checks\n",
    "x = expf(xiv0)\n",
    "print(x)\n",
    "print(logf(x))\n",
    "x = expf(zeroLA.eval())\n",
    "print(x)\n",
    "print(logf(x))\n",
    "# xi0 = np.array([[  1.56920747e-15,  -3.14129382e+00,   6.00990706e-05],\n",
    "#  [  3.14129382e+00,  -7.17942280e-16,   1.74848648e-04],\n",
    "#  [ -6.00990706e-05,  -1.74848648e-04,   2.99144818e-21]])\n",
    "x = np.array([[  9.99999950e-01,   2.98825781e-04,  -1.11317090e-04],\n",
    "       [ -2.98821564e-04,   9.99999955e-01,   3.82801967e-05],\n",
    "       [  1.11328410e-04,  -3.82472624e-05,   9.99999993e-01]])\n",
    "print(x)\n",
    "print(logf(x))\n",
    "\n",
    "Logm_zeroest = lambda g : linalg.Logm(mode='zeroest',LAtoV=LAtoV,VtoLA=VtoLA)(g)\n",
    "log_zeroest = Logm_zeroest\n",
    "log_zeroestf = theano.function([g],log_zeroest(g))\n",
    "print(\"log_zeroest\")\n",
    "print(log_zeroestf(x))\n",
    "Logm_nearest = lambda g,w: linalg.Logm(mode='nearest',LAtoV=LAtoV,VtoLA=VtoLA)(g,w)\n",
    "log_nearest = Logm_nearest\n",
    "log_nearestf = theano.function([g,w],log_nearest(g,w))\n",
    "print(\"log_nearest\")\n",
    "print(log_nearestf(x,np.array([3*np.pi,0,0])))"
   ]
  },
  {
   "cell_type": "code",
   "execution_count": null,
   "metadata": {},
   "outputs": [],
   "source": [
    "# derivative checks\n",
    "x = expf(xiv0)\n",
    "print(x)\n",
    "print(sp.linalg.expm(xiv0))\n",
    "print(logf(x))\n",
    "dExpm = lambda xi: T.jacobian(T.slinalg.Expm()(xi).flatten(),xi)#.reshape(xi.shape+xi.shape)\n",
    "dLogm = lambda g: T.jacobian(log(g).flatten(),g)#.reshape(g.shape+g.shape)\n",
    "dExpmf = theano.function([xi],dExpm(xi))\n",
    "dLogmf = theano.function([g],dLogm(g))\n",
    "print(dExpmf(xiv0).shape)\n",
    "# for i in range(3):\n",
    "#     for j in range(3):\n",
    "#         print(dExpmf(xiv0)[:,i,j].reshape((3,3)))\n",
    "print(dLogmf(x).shape)\n",
    "print(np.linalg.norm(np.dot(dLogmf(x).reshape((9,9)),dExpmf(xiv0).reshape((9,9)))-np.eye(9),np.inf))"
   ]
  },
  {
   "cell_type": "code",
   "execution_count": null,
   "metadata": {},
   "outputs": [],
   "source": [
    "# DLf = theano.function([g,h],dL(g,h))\n",
    "# print(DLf(invf(x),x))\n",
    "if hatxi.type == T.vector().type:\n",
    "    print(True)\n",
    "hatXi = T.matrix()\n",
    "VtoLAff = theano.function([hatXi], VtoLA(hatXi))\n",
    "B=VtoLAff(np.eye(G_dim.eval()))\n",
    "print(B.shape)\n",
    "for i in range(G_dim.eval()):\n",
    "    print(B[:,:,i])\n",
    "Xi = T.tensor3()\n",
    "LAtoVff = theano.function([Xi], LAtoV(Xi))\n",
    "print(LAtoVff(B))"
   ]
  },
  {
   "cell_type": "code",
   "execution_count": null,
   "metadata": {},
   "outputs": [],
   "source": [
    "# visualization\n",
    "newfig()\n",
    "plotg(x)\n",
    "plt.show()\n",
    "(ts,gsv) = exptf(xiv0)\n",
    "newfig()\n",
    "plotg(gsv)\n",
    "plt.show()\n",
    "\n",
    "# on S2\n",
    "newfig()\n",
    "plotM()\n",
    "x0 = np.array([0,0,1])\n",
    "plotx(actsf(gsv.transpose((1,2,0)),x0).T)\n",
    "plt.show()"
   ]
  },
  {
   "cell_type": "code",
   "execution_count": null,
   "metadata": {
    "collapsed": true
   },
   "outputs": [],
   "source": [
    "# setup for testing different versions of dynamics\n",
    "q0 = np.array([1e-6,0,0])\n",
    "g0 = psif(q0)\n",
    "v0 = np.array([0,1,1])\n",
    "p0 = sharppsif(q0,v0)\n",
    "mu0 = sharpVf(v0)"
   ]
  },
  {
   "cell_type": "code",
   "execution_count": null,
   "metadata": {},
   "outputs": [],
   "source": [
    "print(g0)"
   ]
  },
  {
   "cell_type": "code",
   "execution_count": null,
   "metadata": {},
   "outputs": [],
   "source": [
    "# Euler-Poincare dynamics\n",
    "from src.EulerPoincare import *\n",
    "\n",
    "# geodesic\n",
    "#%matplotlib inline\n",
    "(ts,gsv) = Exptf(psif(q0),v0)\n",
    "newfig()\n",
    "\n",
    "ax = plt.gca(projection='3d')\n",
    "x = np.arange(-10,10,1)\n",
    "ax.w_xaxis.set_major_locator(ticker.FixedLocator(x))\n",
    "ax.w_yaxis.set_major_locator(ticker.FixedLocator(x))\n",
    "ax.w_zaxis.set_major_locator(ticker.FixedLocator(x))\n",
    "ax.w_xaxis.set_pane_color((0.98, 0.98, 0.99, 1.0))\n",
    "ax.w_yaxis.set_pane_color((0.98, 0.98, 0.99, 1.0))\n",
    "ax.w_zaxis.set_pane_color((0.98, 0.98, 0.99, 1.0))\n",
    "ax.xaxis._axinfo[\"grid\"]['linewidth'] = 0.3\n",
    "ax.yaxis._axinfo[\"grid\"]['linewidth'] = 0.3\n",
    "ax.zaxis._axinfo[\"grid\"]['linewidth'] = 0.3\n",
    "#    ax.set_xlim(-1.5,1.5)\n",
    "#    ax.set_ylim(-1.5,1.5)\n",
    "#    ax.set_zlim(-1.5,1.5)\n",
    "ax.set_aspect(\"equal\")\n",
    "ax.view_init(30,-15)\n",
    "\n",
    "plotg(gsv)\n",
    "plt.show()\n",
    "#plt.savefig('/home/line/Dropbox/repos/theanodiffgeom-paper/paper/pictures/geoso3.pdf')\n",
    "(ts,musv) = EPf(mu0)\n",
    "xisv = [invFlf(mu) for mu in musv]\n",
    "print(\"Energy: \",np.array([lf(xi) for xi in xisv]))\n",
    "print(\"Orthogonality: \",np.array([np.linalg.norm(np.dot(g,g.T)-np.eye(int(np.sqrt(G_emb_dim.eval()))),np.inf) for g in gsv]))"
   ]
  },
  {
   "cell_type": "code",
   "execution_count": null,
   "metadata": {},
   "outputs": [],
   "source": [
    "# on S2\n",
    "newfig()\n",
    "plotM(rotate=(30,-15))\n",
    "x0 = np.array([0,0,1])\n",
    "plotx(actsf(gsv.transpose((1,2,0)),x0).T)\n",
    "plt.show()\n",
    "#plt.savefig('/home/line/Dropbox/repos/theanodiffgeom-paper/paper/pictures/geoso32.pdf')"
   ]
  },
  {
   "cell_type": "code",
   "execution_count": null,
   "metadata": {},
   "outputs": [],
   "source": [
    "# Lie-Poission dynamics\n",
    "from src.LiePoisson import *\n",
    "\n",
    "# geodesic\n",
    "(ts,gsv) = Exptf(psif(q0),v0)\n",
    "newfig()\n",
    "plotg(gsv)\n",
    "plt.show()\n",
    "(ts,musv) = LPf(mu0)\n",
    "print(\"Energy: \",np.array([Hminusf(mu) for mu in musv]))\n",
    "print(\"Orthogonality: \",np.array([np.linalg.norm(np.dot(g,g.T)-np.eye(int(np.sqrt(G_dim.eval()))),np.inf) for g in gsv]))"
   ]
  },
  {
   "cell_type": "code",
   "execution_count": null,
   "metadata": {},
   "outputs": [],
   "source": [
    "# Hamiltonian dynamics\n",
    "from src.Hamiltonian import *\n",
    "# test Hamiltionian and gradients\n",
    "print(p0)\n",
    "print(Hpsif(q0,p0))\n",
    "\n",
    "# geodesic\n",
    "qsv = Exptpsif(q0,p0)\n",
    "gsv = np.array([psif(q) for q in qsv])\n",
    "newfig()\n",
    "plotg(gsv)\n",
    "plt.show()\n",
    "(ts,qpsv) = Hamf(q0,p0)\n",
    "psv = qpsv[:,1,:]\n",
    "print(\"Energy: \",np.array([Hpsif(q,p) for (q,p) in zip(qsv,psv)]))"
   ]
  },
  {
   "cell_type": "code",
   "execution_count": null,
   "metadata": {
    "collapsed": true
   },
   "outputs": [],
   "source": []
  }
 ],
 "metadata": {
  "kernelspec": {
   "display_name": "Python 3",
   "language": "python",
   "name": "python3"
  },
  "language_info": {
   "codemirror_mode": {
    "name": "ipython",
    "version": 3
   },
   "file_extension": ".py",
   "mimetype": "text/x-python",
   "name": "python",
   "nbconvert_exporter": "python",
   "pygments_lexer": "ipython3",
   "version": "3.5.3"
  }
 },
 "nbformat": 4,
 "nbformat_minor": 1
}
