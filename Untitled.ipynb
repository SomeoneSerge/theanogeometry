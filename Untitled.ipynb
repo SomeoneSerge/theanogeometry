{
 "cells": [
  {
   "cell_type": "code",
   "execution_count": 61,
   "metadata": {},
   "outputs": [],
   "source": [
    "x0 = np.array([0,0])\n",
    "x1 = np.random.normal(0,1,(10,2))"
   ]
  },
  {
   "cell_type": "code",
   "execution_count": 63,
   "metadata": {},
   "outputs": [],
   "source": [
    "from src.statistics.Regression import Processes\n",
    "Processes.initialize(M)\n",
    "\n",
    "dBt = np.zeros((10,1000,2))\n",
    "for i in range(10):\n",
    "    dBt[i,:,:] = M.brown_bridgef(0.2*dWsf(M.dim.eval()),x0,x1[i,:])[0] "
   ]
  },
  {
   "cell_type": "code",
   "execution_count": 65,
   "metadata": {},
   "outputs": [],
   "source": [
    "for i in range(10):\n",
    "    Xt = np.cumsum(dBt[i,:,:], axis=0)\n",
    "    plt.plot(Xt[:,0],Xt[:,1])\n",
    "    plt.plot(x1[i,0], x1[i,1], 'rx')\n",
    "plt.plot(x0[0],x0[1], 'ro')\n",
    "#plt.savefig(\"/home/line/Dropbox/mathias_bridge_euclidean.pdf\")\n",
    "plt.show()"
   ]
  }
 ],
 "metadata": {
  "kernelspec": {
   "display_name": "Python 3",
   "language": "python",
   "name": "python3"
  },
  "language_info": {
   "codemirror_mode": {
    "name": "ipython",
    "version": 3
   },
   "file_extension": ".py",
   "mimetype": "text/x-python",
   "name": "python",
   "nbconvert_exporter": "python",
   "pygments_lexer": "ipython3",
   "version": "3.5.2"
  }
 },
 "nbformat": 4,
 "nbformat_minor": 2
}
