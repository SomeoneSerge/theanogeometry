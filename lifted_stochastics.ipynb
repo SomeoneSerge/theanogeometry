{
 "cells": [
  {
   "cell_type": "code",
   "execution_count": null,
   "metadata": {},
   "outputs": [],
   "source": [
    "# # This file is part of Theano Geometry\n",
    "#\n",
    "# Copyright (C) 2017, Stefan Sommer (sommer@di.ku.dk)\n",
    "# https://bitbucket.org/stefansommer/theanogemetry\n",
    "#\n",
    "# Theano Geometry is free software: you can redistribute it and/or modify\n",
    "# it under the terms of the GNU General Public License as published by\n",
    "# the Free Software Foundation, either version 3 of the License, or\n",
    "# (at your option) any later version.\n",
    "#\n",
    "# Theano Geometry is distributed in the hope that it will be useful,\n",
    "# but WITHOUT ANY WARRANTY; without even the implied warranty of\n",
    "# MERCHANTABILITY or FITNESS FOR A PARTICULAR PURPOSE.  See the\n",
    "# GNU General Public License for more details.\n",
    "#\n",
    "# You should have received a copy of the GNU General Public License\n",
    "# along with Theano Geometry. If not, see <http://www.gnu.org/licenses/>.\n",
    "#"
   ]
  },
  {
   "cell_type": "markdown",
   "metadata": {
    "collapsed": true
   },
   "source": [
    "# Lifted sub-elliptic diffusions"
   ]
  },
  {
   "cell_type": "code",
   "execution_count": null,
   "metadata": {},
   "outputs": [],
   "source": [
    "# SO(3)\n",
    "from src.groups.SON import *\n",
    "G = SON(3)\n",
    "print(G)\n",
    "\n",
    "# SO(3) acts on S^2\n",
    "from src.manifolds.S2 import *\n",
    "M = S2()\n",
    "print(M)\n",
    "\n",
    "from src.plotting import *"
   ]
  },
  {
   "cell_type": "code",
   "execution_count": null,
   "metadata": {},
   "outputs": [],
   "source": [
    "from src.group import invariant_metric\n",
    "invariant_metric.initialize(G)\n",
    "\n",
    "from src.group import energy\n",
    "energy.initialize(G)\n",
    "\n",
    "from src.group.quotient import *"
   ]
  },
  {
   "cell_type": "code",
   "execution_count": null,
   "metadata": {},
   "outputs": [],
   "source": [
    "q = np.array([1e-6,0,0])\n",
    "g = G.psif(q)\n",
    "v = np.array([0,1,1])\n",
    "p = G.sharppsif(q,v)"
   ]
  },
  {
   "cell_type": "code",
   "execution_count": null,
   "metadata": {
    "scrolled": false
   },
   "outputs": [],
   "source": [
    "# sample Brownian paths on SO(3) and S^2. Note bi-invariant metric let's process descend to Brownian motion on S^2\n",
    "from src.stochastics import Brownian_inv\n",
    "Brownian_inv.initialize(G)\n",
    "\n",
    "G.sigma.set_value(np.eye(G.dim.eval())) # set metric\n",
    "K = 3\n",
    "gss = np.zeros((K,n_steps.eval())+g.shape)\n",
    "# srng.seed(422)\n",
    "for i in range(K):\n",
    "    (ts,gs) = G.Brownian_invf(g,dWsf(G.dim.eval()))\n",
    "    gss[i] = gs\n",
    "\n",
    "# plot samples\n",
    "newfig()\n",
    "for i in range(K):\n",
    "    G.plotg(gss[i])\n",
    "plt.show()\n",
    "\n",
    "# on S2\n",
    "x = np.array([0,0,1])\n",
    "gss_M = np.zeros((K,n_steps.eval(),M.emb_dim.eval(),))\n",
    "newfig()\n",
    "M.plot()\n",
    "for i in range(K):\n",
    "    gss_M[i] = M.actsf(gss[i].transpose((1,2,0)),x).T\n",
    "    M.plotx(gss_M[i])\n",
    "plt.show()"
   ]
  },
  {
   "cell_type": "code",
   "execution_count": null,
   "metadata": {},
   "outputs": [],
   "source": [
    "# truncated SO(3) Brownian motion\n",
    "sde_Brownian_inv_horz = get_sde_horz(G.sde_Brownian_inv,lambda g: M.act(g,x),G,M)\n",
    "Brownian_inv_horz = lambda g,dWt: integrate_sde(sde_Brownian_inv_horz,\n",
    "                                                  integrator_stratonovich,\n",
    "                                                  g,dWt)\n",
    "g0 = G.element()\n",
    "Brownian_inv_horzf = theano.function([g0,dWt], Brownian_inv_horz(g0,dWt))\n",
    "\n",
    "# make simulations\n",
    "gss = np.zeros((K,n_steps.eval())+g.shape)\n",
    "vl = G.psif(v)\n",
    "for l in range(K):\n",
    "    (ts,gs) = Brownian_inv_horzf(vl,dWsf(G.dim.eval()))\n",
    "    gss[i] = gs\n",
    "\n",
    "# plot samples\n",
    "newfig()\n",
    "for i in range(K):\n",
    "    G.plotg(gss[i])\n",
    "plt.show()\n",
    "\n",
    "# on S2\n",
    "x = np.array([0,0,1])\n",
    "gss_M = np.zeros((K,n_steps.eval(),M.emb_dim.eval(),))\n",
    "newfig()\n",
    "M.plot()\n",
    "for i in range(K):\n",
    "    gss_M[i] = M.actsf(gss[i].transpose((1,2,0)),x).T\n",
    "    M.plotx(gss_M[i])\n",
    "plt.show()"
   ]
  },
  {
   "cell_type": "code",
   "execution_count": null,
   "metadata": {},
   "outputs": [],
   "source": [
    "# lift from S^2 to SO(3)\n",
    "\n",
    "# S^2 Brownian motion\n",
    "from src.Riemannian import metric\n",
    "metric.initialize(M)\n",
    "from src.stochastics import Brownian_coords\n",
    "Brownian_coords.initialize(M)\n",
    "\n",
    "sde_Brownian_inv_lifted = get_sde_lifted(M.sde_Brownian_coords,lambda g: M.act(g,x),G,M)\n",
    "Brownian_inv_lifted = lambda g,dWt: integrate_sde(sde_Brownian_inv_lifted,\n",
    "                                                  integrator_stratonovich,\n",
    "                                                  g,dWt)\n",
    "g0 = G.element()\n",
    "Brownian_inv_liftedf = theano.function([g0,dWt], Brownian_inv_lifted(g0,dWt))\n",
    "\n",
    "# make simulations\n",
    "gss = np.zeros((K,n_steps.eval())+g.shape)\n",
    "vl = G.psif(v)\n",
    "for l in range(K):\n",
    "    (ts,gs) = Brownian_inv_horzf(vl,dWsf(G.dim.eval()))\n",
    "    gss[i] = gs\n",
    "\n",
    "# plot samples\n",
    "newfig()\n",
    "for i in range(K):\n",
    "    G.plotg(gss[i])\n",
    "plt.show()\n",
    "\n",
    "# on S2\n",
    "x = np.array([0,0,1])\n",
    "gss_M = np.zeros((K,n_steps.eval(),M.emb_dim.eval(),))\n",
    "newfig()\n",
    "M.plot()\n",
    "for i in range(K):\n",
    "    gss_M[i] = M.actsf(gss[i].transpose((1,2,0)),x).T\n",
    "    M.plotx(gss_M[i])\n",
    "plt.show()"
   ]
  },
  {
   "cell_type": "code",
   "execution_count": null,
   "metadata": {},
   "outputs": [],
   "source": []
  }
 ],
 "metadata": {
  "kernelspec": {
   "display_name": "Python 3",
   "language": "python",
   "name": "python3"
  },
  "language_info": {
   "codemirror_mode": {
    "name": "ipython",
    "version": 3
   },
   "file_extension": ".py",
   "mimetype": "text/x-python",
   "name": "python",
   "nbconvert_exporter": "python",
   "pygments_lexer": "ipython3",
   "version": "3.5.3"
  }
 },
 "nbformat": 4,
 "nbformat_minor": 1
}
