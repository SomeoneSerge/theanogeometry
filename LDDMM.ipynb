{
 "cells": [
  {
   "cell_type": "code",
   "execution_count": null,
   "metadata": {
    "collapsed": true,
    "scrolled": true
   },
   "outputs": [],
   "source": [
    "# # This file is part of Theano Geometry\n",
    "#\n",
    "# Copyright (C) 2017, Stefan Sommer (sommer@di.ku.dk)\n",
    "# https://bitbucket.org/stefansommer/theanogemetry\n",
    "#\n",
    "# Theano Geometry is free software: you can redistribute it and/or modify\n",
    "# it under the terms of the GNU General Public License as published by\n",
    "# the Free Software Foundation, either version 3 of the License, or\n",
    "# (at your option) any later version.\n",
    "#\n",
    "# Theano Geometry is distributed in the hope that it will be useful,\n",
    "# but WITHOUT ANY WARRANTY; without even the implied warranty of\n",
    "# MERCHANTABILITY or FITNESS FOR A PARTICULAR PURPOSE.  See the\n",
    "# GNU General Public License for more details.\n",
    "#\n",
    "# You should have received a copy of the GNU General Public License\n",
    "# along with Theano Geometry. If not, see <http://www.gnu.org/licenses/>.\n",
    "#"
   ]
  },
  {
   "cell_type": "markdown",
   "metadata": {},
   "source": [
    "# LDDMM landmark dynamics"
   ]
  },
  {
   "cell_type": "code",
   "execution_count": null,
   "metadata": {
    "scrolled": true
   },
   "outputs": [],
   "source": [
    "from src.manifolds.landmarks import *\n",
    "M = landmarks(5)\n",
    "print(M)\n",
    "\n",
    "from src.plotting import *"
   ]
  },
  {
   "cell_type": "code",
   "execution_count": null,
   "metadata": {
    "collapsed": true
   },
   "outputs": [],
   "source": [
    "# Riemannian structure\n",
    "from src.Riemannian import metric\n",
    "metric.initialize(M)"
   ]
  },
  {
   "cell_type": "code",
   "execution_count": null,
   "metadata": {
    "scrolled": true
   },
   "outputs": [],
   "source": [
    "# example configuration\n",
    "M.k_sigma.set_value(np.diag((.5,.5)))\n",
    "\n",
    "q = np.vstack((np.linspace(-.5,.5,M.N.eval()),np.zeros(M.N.eval()))).T.flatten()\n",
    "v = np.vstack((np.zeros(M.N.eval()),np.ones(M.N.eval()))).T.flatten()\n",
    "p = M.flatf(q,v.flatten())\n",
    "print(\"q = \", q)\n",
    "print(\"p = \", p)"
   ]
  },
  {
   "cell_type": "markdown",
   "metadata": {},
   "source": [
    "## Geodesics"
   ]
  },
  {
   "cell_type": "code",
   "execution_count": null,
   "metadata": {
    "scrolled": false
   },
   "outputs": [],
   "source": [
    "# 2nd order geodesic equation\n",
    "from src.Riemannian import geodesic\n",
    "geodesic.initialize(M)\n",
    "\n",
    "qs = M.Exptf(q,v)\n",
    "M.plot()\n",
    "M.plotx(qs,v,linewidth=1.5)\n",
    "plt.show()"
   ]
  },
  {
   "cell_type": "code",
   "execution_count": null,
   "metadata": {
    "scrolled": false
   },
   "outputs": [],
   "source": [
    "# Hamiltonian dynamics\n",
    "print(M.Hf(q,p))\n",
    "from src.dynamics import Hamiltonian\n",
    "Hamiltonian.initialize(M)\n",
    "\n",
    "# geodesic\n",
    "qs = M.Exp_Hamiltoniantf(q,p).T\n",
    "M.plot()\n",
    "M.plotx(qs,v)\n",
    "plt.show()\n",
    "(ts,qps) = M.Hamiltonian_dynamicsf(q,p)\n",
    "ps = qps[:,1,:]\n",
    "print(\"Energy: \",np.array([M.Hf(q,p) for (q,p) in zip(qs,ps)]))"
   ]
  },
  {
   "cell_type": "markdown",
   "metadata": {},
   "source": [
    "## Curvature"
   ]
  },
  {
   "cell_type": "code",
   "execution_count": null,
   "metadata": {
    "scrolled": false
   },
   "outputs": [],
   "source": [
    "from src.Riemannian import curvature\n",
    "curvature.initialize(M)\n",
    "print(\"curvature shape= \", M.Rf(q).shape)\n",
    "# print(\"curvature = \", M.Rf(q))"
   ]
  },
  {
   "cell_type": "markdown",
   "metadata": {},
   "source": [
    "## Brownian Motion"
   ]
  },
  {
   "cell_type": "code",
   "execution_count": null,
   "metadata": {},
   "outputs": [],
   "source": [
    "# coordinate form\n",
    "from src.stochastics import Brownian_coords\n",
    "Brownian_coords.initialize(M)\n",
    "\n",
    "(ts,qs) = M.Brownian_coordsf(q,dWsf(M.dim.eval()))\n",
    "M.plot()\n",
    "M.plotx(qs)\n",
    "plt.show()"
   ]
  },
  {
   "cell_type": "markdown",
   "metadata": {},
   "source": [
    "## Geodesic on frame bundle"
   ]
  },
  {
   "cell_type": "code",
   "execution_count": null,
   "metadata": {
    "scrolled": true
   },
   "outputs": [],
   "source": [
    "x1 = np.array([[0,1],[0.5,1]]).flatten()\n",
    "ui0 = np.array([[1,0],[0,1],[-1,0],[0,1]])\n",
    "\n",
    "#u0 = sp.linalg.orth(ui0[0:2])\n",
    "#for i in range(1,int(d.eval()/2)):\n",
    "#        foo = sp.linalg.orth(ui0[2*i:(2*i+2)])\n",
    "#        u0 = np.append(u0,foo)\n",
    "print(ui0)\n",
    "q0 = np.hstack([x1,ui0.flatten()]).astype(theano.config.floatX)\n",
    "\n",
    "xi0 = np.array([1,1,0,0])\n",
    "xia = np.zeros_like(ui0.flatten())\n",
    "p0 = np.hstack([xi0,xia]).astype(theano.config.floatX)\n",
    "print(\"q = \", q0)\n",
    "print(\"p = \", p0)\n",
    "\n",
    "x0 = np.array([q0,p0]).astype(theano.config.floatX)"
   ]
  },
  {
   "cell_type": "code",
   "execution_count": null,
   "metadata": {
    "collapsed": true
   },
   "outputs": [],
   "source": [
    "# Curvature\n",
    "# print(\"curvature = \", R_uif(x1,ui0))"
   ]
  },
  {
   "cell_type": "code",
   "execution_count": null,
   "metadata": {
    "scrolled": false
   },
   "outputs": [],
   "source": [
    "# Hamiltonian dynamics\n",
    "from src.FM import *\n",
    "# test Hamiltionian and gradients\n",
    "print(p0)\n",
    "print(Hfmf(q0,p0))\n",
    "\n",
    "# geodesic\n",
    "qsv = Exptfmf(q0,p0).T\n",
    "plt.figure()\n",
    "plotFMx(qsv,N_vec=5)\n",
    "plt.axis((-0.1,0.6,0.9,2.5))\n",
    "plt.show()\n",
    "(ts,qpsv) = Hamfmf(q0,p0)\n",
    "psv = qpsv[:,1,:]\n",
    "print(\"Energy: \",np.array([Hfmf(q,p) for (q,p) in zip(qsv,psv)]))\n",
    "#plt.savefig(\"landgeoFM.pdf\")"
   ]
  },
  {
   "cell_type": "markdown",
   "metadata": {},
   "source": [
    "## Development and Horizontal Vector Fields"
   ]
  },
  {
   "cell_type": "markdown",
   "metadata": {},
   "source": [
    "### Development"
   ]
  },
  {
   "cell_type": "code",
   "execution_count": null,
   "metadata": {
    "collapsed": true
   },
   "outputs": [],
   "source": [
    "n_steps.set_value(100)\n",
    "x0 = np.array([[0,1],[0.5,1]])\n",
    "v0 = np.array([[1,0,0,1],[-1,0,0,1]])\n",
    "ui0 = v0 #GramSchmidt() #sp.linalg.orth(v0)\n",
    "\n",
    "q0 = np.hstack([x0.flatten(),ui0.flatten()]).astype(theano.config.floatX)\n",
    "print(\"q0 = \", q0)\n",
    "\n",
    "# Curve in R^2:\n",
    "t = np.linspace(0,10,n_steps.get_value()+1)\n",
    "gamma0 = np.vstack([20*np.sin(t), t**2 + 2*t]).T\n",
    "dgamma0 = np.diff(gamma0, axis = 0)\n",
    "print(\"dgamma.shape =\", dgamma0.shape)"
   ]
  },
  {
   "cell_type": "code",
   "execution_count": null,
   "metadata": {
    "collapsed": true
   },
   "outputs": [],
   "source": [
    "# Development dynamics\n",
    "from src.Stochastic_Development import *\n",
    "# test deterministic development\n",
    "qsv = devf(q0,dgamma0)\n",
    "plt.figure()\n",
    "plotFMx(np.concatenate([q0.reshape((1,12)),qsv]),N_vec = 0)\n",
    "plt.show()\n",
    "#plt.savefig(\"landDev2.pdf\")"
   ]
  },
  {
   "cell_type": "markdown",
   "metadata": {},
   "source": [
    "### Stochastic development:"
   ]
  },
  {
   "cell_type": "code",
   "execution_count": null,
   "metadata": {
    "collapsed": true
   },
   "outputs": [],
   "source": [
    "n_steps.set_value(1000)\n",
    "x0 = np.array([[0,1],[2,1]])\n",
    "v0 = np.array([[1,0,0,1],[-1,0,0,1]])#np.array([[0,1,0,-1],[1,0,1,0]]).T\n",
    "\n",
    "ui0 = v0 #sp.linalg.orth(v0)\n",
    "\n",
    "q0 = np.hstack([x0.flatten(),ui0.flatten()]).astype(theano.config.floatX)\n",
    "print(\"q0 = \", q0)\n",
    "\n",
    "dWt0 = np.random.normal(0, np.sqrt(dt.eval()), (n_steps.get_value(),2))\n",
    "\n",
    "drift0 = np.array([3,3])"
   ]
  },
  {
   "cell_type": "code",
   "execution_count": null,
   "metadata": {
    "collapsed": true
   },
   "outputs": [],
   "source": [
    "dZt = dWt0 + drift0*dt.eval()\n",
    "Zt = np.concatenate([np.array([0,0]).reshape((1,2)),np.cumsum(dZt, axis = 0)])\n",
    "plt.figure()\n",
    "plt.plot(Zt[:,0],Zt[:,1],'b-',linewidth = 1)\n",
    "plt.plot(0,0, 'ro')\n",
    "plt.plot(Zt[-1,0],Zt[-1,1], 'go')\n",
    "plt.show()\n",
    "#plt.savefig(\"landstoc1.pdf\")"
   ]
  },
  {
   "cell_type": "code",
   "execution_count": null,
   "metadata": {
    "collapsed": true
   },
   "outputs": [],
   "source": [
    "# test stochastic development\n",
    "qsv = stoc_devf(q0,.5*dWt0,drift0)\n",
    "plt.figure()\n",
    "plotFMx(np.concatenate([q0.reshape((1,12)),qsv]),N_vec = 0)\n",
    "plt.show()\n",
    "#plt.savefig(\"landstoc2.pdf\")"
   ]
  },
  {
   "cell_type": "code",
   "execution_count": null,
   "metadata": {
    "collapsed": true,
    "scrolled": true
   },
   "outputs": [],
   "source": []
  }
 ],
 "metadata": {
  "kernelspec": {
   "display_name": "Python 3",
   "language": "python",
   "name": "python3"
  },
  "language_info": {
   "codemirror_mode": {
    "name": "ipython",
    "version": 3
   },
   "file_extension": ".py",
   "mimetype": "text/x-python",
   "name": "python",
   "nbconvert_exporter": "python",
   "pygments_lexer": "ipython3",
   "version": "3.5.3"
  }
 },
 "nbformat": 4,
 "nbformat_minor": 1
}
