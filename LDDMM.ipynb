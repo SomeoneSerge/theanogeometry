{
 "cells": [
  {
   "cell_type": "code",
   "execution_count": null,
   "metadata": {
    "collapsed": true
   },
   "outputs": [],
   "source": [
    "# # This file is part of Theano Geometry\n",
    "#\n",
    "# Copyright (C) 2017, Stefan Sommer (sommer@di.ku.dk)\n",
    "# https://bitbucket.org/stefansommer/theanogemetry\n",
    "#\n",
    "# Theano Geometry is free software: you can redistribute it and/or modify\n",
    "# it under the terms of the GNU General Public License as published by\n",
    "# the Free Software Foundation, either version 3 of the License, or\n",
    "# (at your option) any later version.\n",
    "#\n",
    "# Theano Geometry is distributed in the hope that it will be useful,\n",
    "# but WITHOUT ANY WARRANTY; without even the implied warranty of\n",
    "# MERCHANTABILITY or FITNESS FOR A PARTICULAR PURPOSE.  See the\n",
    "# GNU General Public License for more details.\n",
    "#\n",
    "# You should have received a copy of the GNU General Public License\n",
    "# along with Theano Geometry. If not, see <http://www.gnu.org/licenses/>.\n",
    "#"
   ]
  },
  {
   "cell_type": "code",
   "execution_count": null,
   "metadata": {
    "collapsed": true
   },
   "outputs": [],
   "source": [
    "# LDDMM landmark dynamics\n",
    "import src.params as params\n",
    "params.manifold = 'landmarks'"
   ]
  },
  {
   "cell_type": "code",
   "execution_count": null,
   "metadata": {},
   "outputs": [],
   "source": [
    "from src.manifold import *\n",
    "from src.metric import *\n",
    "\n",
    "from src.plotting import *\n",
    "%matplotlib inline\n",
    "plt.rcParams['figure.figsize'] = 10, 10"
   ]
  },
  {
   "cell_type": "code",
   "execution_count": null,
   "metadata": {},
   "outputs": [],
   "source": [
    "# Example with 2 landmarks:\n",
    "k_sigma.set_value(np.diag((0.1,0.1)))\n",
    "\n",
    "N.set_value(2)\n",
    "x0 = np.array([[0,1],[1,1]])\n",
    "q0 = x0.flatten()\n",
    "print(q0)\n",
    "\n",
    "vn0 = np.array([[1,1.],[-1,1]])#np.array([[1./2,1],[-1,1]])\n",
    "print(vn0)\n",
    "v0 = vn0 #GramSchmidt(vn0.flatten(),q0).reshape((2,2))\n",
    "\n",
    "p0 = gMflatf(q0,v0.flatten()).astype(theano.config.floatX)\n",
    "# initialize\n",
    "#N.set_value(3)\n",
    "#k_sigma.set_value(np.diag((.2,.2)))\n",
    "#n_steps.set_value(100)"
   ]
  },
  {
   "cell_type": "code",
   "execution_count": null,
   "metadata": {
    "collapsed": true
   },
   "outputs": [],
   "source": [
    "# setup\n",
    "x0 = np.vstack((np.linspace(-.5,.5,N.eval()),np.zeros(N.eval()))).T\n",
    "q0 = x0.flatten()\n",
    "v0 = np.vstack((np.zeros(N.eval()),np.ones(N.eval()))).T\n",
    "p0 = gMflatf(q0,v0.flatten())\n",
    "print(\"q = \", q0)\n",
    "print(\"p = \", p0)\n",
    "\n",
    "plt.plot(x0[:,0],x0[:,1], 'ro')\n",
    "plt.quiver(x0[:,0],x0[:,1],v0[:,0],v0[:,1], scale = 2)\n",
    "plt.axis((np.min(x0[:,0])-0.5,np.max(x0[:,0])+0.5,np.min(x0[:,1])-0.1,\n",
    "          np.max(x0[:,1])+0.5))"
   ]
  },
  {
   "cell_type": "code",
   "execution_count": null,
   "metadata": {
    "collapsed": true
   },
   "outputs": [],
   "source": [
    "# Curvature\n",
    "from src.curvature import *\n",
    "print(\"Shape of curvature tensor = \", Rf(q0).shape)\n",
    "#print(\"Sectional curvature = \", R_uif(q0,np.hstack((v0,v0)).reshape((4,2))))"
   ]
  },
  {
   "cell_type": "code",
   "execution_count": null,
   "metadata": {
    "collapsed": true
   },
   "outputs": [],
   "source": [
    "# Geodesic equation\n",
    "from src.geodesic_equation import *\n",
    "# test geodesic\n",
    "plt.rcParams['figure.figsize'] = 7, 7\n",
    "plt.axis('equal')\n",
    "qsv = Expteqf(q0,p0)\n",
    "#qsv = Expteqf(q0,v0.flatten())\n",
    "plotx(qsv,p0,linewidth=1.5)\n",
    "plt.show()\n",
    "#plt.savefig(\"geoeqland.pdf\")"
   ]
  },
  {
   "cell_type": "code",
   "execution_count": null,
   "metadata": {
    "collapsed": true
   },
   "outputs": [],
   "source": [
    "# Hamiltonian dynamics\n",
    "from src.Hamiltonian import *\n",
    "# test Hamiltionian and gradients\n",
    "print(p0)\n",
    "print(Hf(q0,p0))\n",
    "\n",
    "# geodesic\n",
    "qsv = Exptf(q0,p0).T\n",
    "%matplotlib inline\n",
    "plt.figure()\n",
    "plt.axis('equal')\n",
    "plotx(qsv,p0)\n",
    "plt.show()\n",
    "(ts,qpsv) = Hamf(q0,p0)\n",
    "psv = qpsv[:,1,:]\n",
    "print(\"Energy: \",np.array([Hf(q,p) for (q,p) in zip(qsv,psv)]))\n",
    "#plt.savefig(\"landgeoH.pdf\")"
   ]
  },
  {
   "cell_type": "markdown",
   "metadata": {},
   "source": [
    "## Geodesic on frame bundle"
   ]
  },
  {
   "cell_type": "code",
   "execution_count": null,
   "metadata": {
    "collapsed": true
   },
   "outputs": [],
   "source": [
    "x1 = np.array([[0,1],[0.5,1]]).flatten()\n",
    "ui0 = np.array([[1,0],[0,1],[-1,0],[0,1]])\n",
    "\n",
    "#u0 = sp.linalg.orth(ui0[0:2])\n",
    "#for i in range(1,int(d.eval()/2)):\n",
    "#        foo = sp.linalg.orth(ui0[2*i:(2*i+2)])\n",
    "#        u0 = np.append(u0,foo)\n",
    "print(ui0)\n",
    "q0 = np.hstack([x1,ui0.flatten()]).astype(theano.config.floatX)\n",
    "\n",
    "xi0 = np.array([1,1,0,0])\n",
    "xia = np.zeros_like(u0.flatten())\n",
    "p0 = np.hstack([xi0,xia]).astype(theano.config.floatX)\n",
    "print(\"q = \", q0)\n",
    "print(\"p = \", p0)\n",
    "\n",
    "x0 = np.array([q0,p0]).astype(theano.config.floatX)"
   ]
  },
  {
   "cell_type": "code",
   "execution_count": null,
   "metadata": {
    "collapsed": true
   },
   "outputs": [],
   "source": [
    "# Curvature\n",
    "print(\"curvature = \", R_uif(x1,ui0))"
   ]
  },
  {
   "cell_type": "code",
   "execution_count": null,
   "metadata": {
    "collapsed": true
   },
   "outputs": [],
   "source": [
    "# Hamiltonian dynamics\n",
    "from src.FM import *\n",
    "# test Hamiltionian and gradients\n",
    "print(p0)\n",
    "print(Hfmf(q0,p0))\n",
    "\n",
    "# geodesic\n",
    "qsv = Exptfmf(q0,p0).T\n",
    "%matplotlib inline\n",
    "plt.figure()\n",
    "plotFMx(qsv,N_vec=5)\n",
    "plt.axis((-0.1,0.6,0.9,2.5))\n",
    "plt.show()\n",
    "(ts,qpsv) = Hamfmf(q0,p0)\n",
    "psv = qpsv[:,1,:]\n",
    "print(\"Energy: \",np.array([Hfmf(q,p) for (q,p) in zip(qsv,psv)]))\n",
    "#plt.savefig(\"landgeoFM.pdf\")"
   ]
  },
  {
   "cell_type": "markdown",
   "metadata": {},
   "source": [
    "# Development and Horizontal Vector Fields"
   ]
  },
  {
   "cell_type": "markdown",
   "metadata": {},
   "source": [
    "### Development"
   ]
  },
  {
   "cell_type": "code",
   "execution_count": null,
   "metadata": {
    "collapsed": true
   },
   "outputs": [],
   "source": [
    "n_steps.set_value(100)\n",
    "x0 = np.array([[0,1],[0.5,1]])\n",
    "v0 = np.array([[1,0,0,1],[-1,0,0,1]])\n",
    "ui0 = v0 #GramSchmidt() #sp.linalg.orth(v0)\n",
    "\n",
    "q0 = np.hstack([x0.flatten(),ui0.flatten()]).astype(theano.config.floatX)\n",
    "print(\"q0 = \", q0)\n",
    "\n",
    "# Curve in R^2:\n",
    "t = np.linspace(0,10,n_steps.get_value()+1)\n",
    "gamma0 = np.vstack([20*np.sin(t), t**2 + 2*t]).T\n",
    "dgamma0 = np.diff(gamma0, axis = 0)\n",
    "print(\"dgamma.shape =\", dgamma0.shape)"
   ]
  },
  {
   "cell_type": "code",
   "execution_count": null,
   "metadata": {
    "collapsed": true
   },
   "outputs": [],
   "source": [
    "%matplotlib inline\n",
    "plt.plot(gamma0[:,0],gamma0[:,1])\n",
    "plt.plot(gamma0[0,0],gamma0[0,1], 'ro')\n",
    "plt.plot(gamma0[-1,0],gamma0[-1,1],'go')\n",
    "plt.axis((-21,21,-11,131))\n",
    "#plt.savefig(\"landDev1.pdf\")"
   ]
  },
  {
   "cell_type": "code",
   "execution_count": null,
   "metadata": {
    "collapsed": true
   },
   "outputs": [],
   "source": [
    "# Development dynamics\n",
    "from src.Stochastic_Development import *\n",
    "# test deterministic development\n",
    "qsv = devf(q0,dgamma0)\n",
    "plt.figure()\n",
    "plotFMx(np.concatenate([q0.reshape((1,12)),qsv]),N_vec = 0)\n",
    "plt.show()\n",
    "#plt.savefig(\"landDev2.pdf\")"
   ]
  },
  {
   "cell_type": "markdown",
   "metadata": {},
   "source": [
    "### Stochastic development:"
   ]
  },
  {
   "cell_type": "code",
   "execution_count": null,
   "metadata": {
    "collapsed": true
   },
   "outputs": [],
   "source": [
    "n_steps.set_value(1000)\n",
    "x0 = np.array([[0,1],[2,1]])\n",
    "v0 = np.array([[1,0,0,1],[-1,0,0,1]])#np.array([[0,1,0,-1],[1,0,1,0]]).T\n",
    "\n",
    "ui0 = v0 #sp.linalg.orth(v0)\n",
    "\n",
    "q0 = np.hstack([x0.flatten(),ui0.flatten()]).astype(theano.config.floatX)\n",
    "print(\"q0 = \", q0)\n",
    "\n",
    "dWt0 = np.random.normal(0, np.sqrt(dt.eval()), (n_steps.get_value(),2))\n",
    "\n",
    "drift0 = np.array([3,3])"
   ]
  },
  {
   "cell_type": "code",
   "execution_count": null,
   "metadata": {
    "collapsed": true
   },
   "outputs": [],
   "source": [
    "dZt = dWt0 + drift0*dt.eval()\n",
    "Zt = np.concatenate([np.array([0,0]).reshape((1,2)),np.cumsum(dZt, axis = 0)])\n",
    "plt.plot(Zt[:,0],Zt[:,1],'b-',linewidth = 1)\n",
    "plt.plot(0,0, 'ro')\n",
    "plt.plot(Zt[-1,0],Zt[-1,1], 'go')\n",
    "#plt.savefig(\"landstoc1.pdf\")"
   ]
  },
  {
   "cell_type": "code",
   "execution_count": null,
   "metadata": {
    "collapsed": true
   },
   "outputs": [],
   "source": [
    "# test stochastic development\n",
    "qsv = stoc_devf(q0,dWt0,drift0)\n",
    "plt.figure()\n",
    "\n",
    "plotFMx(np.concatenate([q0.reshape((1,12)),qsv]),N_vec = 0)\n",
    "plt.show()\n",
    "#plt.savefig(\"landstoc2.pdf\")"
   ]
  }
 ],
 "metadata": {
  "kernelspec": {
   "display_name": "Python 3",
   "language": "python",
   "name": "python3"
  },
  "language_info": {
   "codemirror_mode": {
    "name": "ipython",
    "version": 3
   },
   "file_extension": ".py",
   "mimetype": "text/x-python",
   "name": "python",
   "nbconvert_exporter": "python",
   "pygments_lexer": "ipython3",
   "version": "3.5.3"
  }
 },
 "nbformat": 4,
 "nbformat_minor": 1
}
