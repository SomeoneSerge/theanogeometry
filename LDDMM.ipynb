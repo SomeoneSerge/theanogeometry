{
 "cells": [
  {
   "cell_type": "code",
   "execution_count": null,
   "metadata": {
    "scrolled": true
   },
   "outputs": [],
   "source": [
    "# # This file is part of Theano Geometry\n",
    "#\n",
    "# Copyright (C) 2017, Stefan Sommer (sommer@di.ku.dk)\n",
    "# https://bitbucket.org/stefansommer/theanogemetry\n",
    "#\n",
    "# Theano Geometry is free software: you can redistribute it and/or modify\n",
    "# it under the terms of the GNU General Public License as published by\n",
    "# the Free Software Foundation, either version 3 of the License, or\n",
    "# (at your option) any later version.\n",
    "#\n",
    "# Theano Geometry is distributed in the hope that it will be useful,\n",
    "# but WITHOUT ANY WARRANTY; without even the implied warranty of\n",
    "# MERCHANTABILITY or FITNESS FOR A PARTICULAR PURPOSE.  See the\n",
    "# GNU General Public License for more details.\n",
    "#\n",
    "# You should have received a copy of the GNU General Public License\n",
    "# along with Theano Geometry. If not, see <http://www.gnu.org/licenses/>.\n",
    "#"
   ]
  },
  {
   "cell_type": "markdown",
   "metadata": {},
   "source": [
    "# LDDMM landmark dynamics"
   ]
  },
  {
   "cell_type": "code",
   "execution_count": null,
   "metadata": {
    "scrolled": false
   },
   "outputs": [],
   "source": [
    "from src.manifolds.landmarks import *\n",
    "M = landmarks(2)\n",
    "print(M)\n",
    "\n",
    "from src.plotting import *"
   ]
  },
  {
   "cell_type": "code",
   "execution_count": null,
   "metadata": {},
   "outputs": [],
   "source": [
    "# Riemannian structure\n",
    "from src.Riemannian import metric\n",
    "metric.initialize(M)"
   ]
  },
  {
   "cell_type": "code",
   "execution_count": null,
   "metadata": {
    "scrolled": false
   },
   "outputs": [],
   "source": [
    "# example configuration\n",
    "M.k_sigma.set_value(tensor(np.diag((.5,.5))))\n",
    "\n",
    "q = tensor(np.vstack((np.linspace(-.5,.5,M.N.eval()),np.zeros(M.N.eval()))).T.flatten())\n",
    "v = tensor(np.vstack((np.zeros(M.N.eval()),np.ones(M.N.eval()))).T.flatten())\n",
    "p = M.flatf(q,v)\n",
    "print(\"q = \", q)\n",
    "print(\"p = \", p)"
   ]
  },
  {
   "cell_type": "markdown",
   "metadata": {},
   "source": [
    "## Geodesics"
   ]
  },
  {
   "cell_type": "code",
   "execution_count": null,
   "metadata": {
    "scrolled": false
   },
   "outputs": [],
   "source": [
    "# 2nd order geodesic equation\n",
    "from src.Riemannian import geodesic\n",
    "geodesic.initialize(M)\n",
    "\n",
    "qs = M.Exptf(q,v)\n",
    "M.plot()\n",
    "M.plotx(qs,v,linewidth=1.5)\n",
    "plt.show()"
   ]
  },
  {
   "cell_type": "code",
   "execution_count": null,
   "metadata": {
    "scrolled": false
   },
   "outputs": [],
   "source": [
    "# Hamiltonian dynamics\n",
    "print(M.Hf(q,p))\n",
    "from src.dynamics import Hamiltonian\n",
    "Hamiltonian.initialize(M)\n",
    "\n",
    "# geodesic\n",
    "qs = M.Exp_Hamiltoniantf(q,p).T\n",
    "M.plot()\n",
    "M.plotx(qs,v)\n",
    "plt.show()\n",
    "(ts,qps) = M.Hamiltonian_dynamicsf(q,p)\n",
    "ps = qps[:,1,:]\n",
    "print(\"Energy: \",np.array([M.Hf(q,p) for (q,p) in zip(qs,ps)]))"
   ]
  },
  {
   "cell_type": "markdown",
   "metadata": {},
   "source": [
    "# Boundary value problem"
   ]
  },
  {
   "cell_type": "code",
   "execution_count": null,
   "metadata": {},
   "outputs": [],
   "source": [
    "# Logarithm map\n",
    "from src.Riemannian import Log\n",
    "Log.initialize(M,f=M.Exp_Hamiltonian)\n",
    "\n",
    "p_Log = M.Logf(q,qs[-1])[0]\n",
    "print(p_Log)\n",
    "print(p)\n",
    "\n",
    "qs = M.Exp_Hamiltoniantf(q,p_Log).T\n",
    "M.plot()\n",
    "M.plotx(qs,v)\n",
    "plt.show()"
   ]
  },
  {
   "cell_type": "markdown",
   "metadata": {},
   "source": [
    "## Curvature"
   ]
  },
  {
   "cell_type": "code",
   "execution_count": null,
   "metadata": {
    "scrolled": false
   },
   "outputs": [],
   "source": [
    "from src.Riemannian import curvature\n",
    "curvature.initialize(M)\n",
    "print(\"curvature shape= \", M.Rf(q).shape)\n",
    "# print(\"curvature = \", M.Rf(q))\n",
    "# Ricci and scalar curvature:\n",
    "print(\"Ricci curvature = \", M.Ricci_curvf(q))\n",
    "print(\"Scalar curvature = \", M.S_curvf(q))"
   ]
  },
  {
   "cell_type": "code",
   "execution_count": null,
   "metadata": {
    "scrolled": false
   },
   "outputs": [],
   "source": [
    "# plot min of Ricci curvature tensor between two landmarks, one fixed at x1=(0,0)\n",
    "x1 = tensor(np.array([0.,0.]))\n",
    "\n",
    "# grids\n",
    "pts = 40 # even number to avoid (0,0), high value implies nicer plot but extended computation time\n",
    "border = .2\n",
    "minx = -border\n",
    "maxx = +border\n",
    "miny = -border\n",
    "maxy = +border\n",
    "X, Y = np.meshgrid(np.linspace(minx,maxx,pts),np.linspace(miny,maxy,pts))\n",
    "xy = np.vstack([X.ravel(), Y.ravel()]).T        \n",
    "\n",
    "# plot\n",
    "newfig()\n",
    "cmap = cm.jet\n",
    "alpha = 1\n",
    "ax = plt.gca()\n",
    "fs = np.array([np.min(np.real(np.linalg.eigvals(\n",
    "    np.dot(M.gsharpf(tensor(np.concatenate((x1,x)))),\n",
    "           M.Ricci_curvf(tensor(np.concatenate((x1,x))))\n",
    "          )))) for x in xy])\n",
    "norm = mpl.colors.Normalize(vmin=np.min(fs),vmax=np.max(fs))\n",
    "colors = cmap(norm(fs)).reshape(X.shape+(4,))\n",
    "surf = ax.plot_surface(X, Y, fs.reshape(X.shape), rstride=1, cstride=1, cmap=cmap, facecolors = colors,  linewidth=0., antialiased=True, alpha=alpha, edgecolor=(0,0,0,0), shade=False)\n",
    "m = cm.ScalarMappable(cmap=surf.cmap,norm=norm)\n",
    "m.set_array(colors)\n",
    "plt.colorbar(m, shrink=0.7)\n",
    "ax.set_xlim3d(minx,maxx), ax.set_ylim3d(miny,maxy), ax.set_zlim3d(np.min(fs)-1,np.max(fs)+1)"
   ]
  },
  {
   "cell_type": "markdown",
   "metadata": {},
   "source": [
    "## Brownian Motion"
   ]
  },
  {
   "cell_type": "code",
   "execution_count": null,
   "metadata": {},
   "outputs": [],
   "source": [
    "# coordinate form\n",
    "from src.stochastics import Brownian_coords\n",
    "Brownian_coords.initialize(M)\n",
    "\n",
    "(ts,qs) = M.Brownian_coordsf(q,dWsf(M.dim.eval()))\n",
    "M.plot()\n",
    "M.plotx(qs)\n",
    "plt.show()"
   ]
  },
  {
   "cell_type": "markdown",
   "metadata": {},
   "source": [
    "## Frame Bundle Geodesics"
   ]
  },
  {
   "cell_type": "code",
   "execution_count": null,
   "metadata": {},
   "outputs": [],
   "source": [
    "from src.framebundle import FM\n",
    "FM.initialize(M)"
   ]
  },
  {
   "cell_type": "code",
   "execution_count": null,
   "metadata": {
    "scrolled": true
   },
   "outputs": [],
   "source": [
    "# landmarks\n",
    "x = tensor(np.array([[0,1],[0.5,1]]).flatten())\n",
    "# frame\n",
    "nu = tensor(np.array([[1,0],[0,1],[1,0],[0,1]]))\n",
    "\n",
    "u = np.concatenate((x,nu.flatten()))\n",
    "\n",
    "px = tensor(np.array([0,1,0,1]))\n",
    "pnu = np.zeros_like(nu)\n",
    "p = np.concatenate((px,pnu.flatten()))\n",
    "print(\"nu = \", nu)\n",
    "print(\"u = \", u)\n",
    "print(\"p = \", p)"
   ]
  },
  {
   "cell_type": "code",
   "execution_count": null,
   "metadata": {},
   "outputs": [],
   "source": [
    "# Hamiltionian\n",
    "print(M.H_FMf(u,p))\n",
    "\n",
    "# compute FM geodesic\n",
    "us = M.Exp_Hamiltonian_FMtf(u,p).T\n",
    "\n",
    "M.plotFMx(us,N_vec=5)\n",
    "plt.show()\n",
    "(ts,qps) = M.Hamiltonian_dynamics_FMf(u,p)\n",
    "ps = qps[:,1,:]\n",
    "print(\"Energy: \",np.array([M.H_FMf(q,p) for (q,p) in zip(us,ps)]))"
   ]
  },
  {
   "cell_type": "code",
   "execution_count": null,
   "metadata": {},
   "outputs": [],
   "source": []
  }
 ],
 "metadata": {
  "kernelspec": {
   "display_name": "Python 3",
   "language": "python",
   "name": "python3"
  }
 },
 "nbformat": 4,
 "nbformat_minor": 1
}
