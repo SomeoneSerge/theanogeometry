{
 "cells": [
  {
   "cell_type": "code",
   "execution_count": null,
   "metadata": {
    "collapsed": true
   },
   "outputs": [],
   "source": [
    "# GLN and SPND dynamics"
   ]
  },
  {
   "cell_type": "code",
   "execution_count": null,
   "metadata": {
    "collapsed": true
   },
   "outputs": [],
   "source": [
    "import src.params as params\n",
    "params.group = 'GLN'\n",
    "params.manifold = 'SPDN'"
   ]
  },
  {
   "cell_type": "code",
   "execution_count": null,
   "metadata": {
    "scrolled": true
   },
   "outputs": [],
   "source": [
    "from src.group import *\n",
    "from src.manifold import *\n",
    "from src.metric import *\n",
    "\n",
    "from src.plotting import *\n",
    "%matplotlib inline\n",
    "plt.rcParams['figure.figsize'] = 13, 10"
   ]
  },
  {
   "cell_type": "code",
   "execution_count": null,
   "metadata": {
    "collapsed": true
   },
   "outputs": [],
   "source": [
    "# initialize\n",
    "init(3)"
   ]
  },
  {
   "cell_type": "code",
   "execution_count": null,
   "metadata": {},
   "outputs": [],
   "source": [
    "A.eval()"
   ]
  },
  {
   "cell_type": "code",
   "execution_count": null,
   "metadata": {},
   "outputs": [],
   "source": [
    "# checks and tests\n",
    "q0 = e.eval()\n",
    "v0=np.array([.5,0,0,0,0,0,0,0,0])+1e-6*np.random.normal(size=G_dim.eval()) # must be non-singular for Expm derivative\n",
    "print(v0)\n",
    "w0=np.array([0,1,0,0,0,0,0,0,0])+1e-6*np.random.normal(size=G_dim.eval())\n",
    "xiv0=VtoLAf(v0)\n",
    "xiw0=VtoLAf(w0)\n",
    "print(xiv0)\n",
    "print(xiw0)\n",
    "print(gVf(v0,v0))\n",
    "print(gVf(v0,w0))\n",
    "print(gLAf(xiv0,xiv0))\n",
    "x = expf(xiv0)\n",
    "print(x)\n",
    "print(logf(x))\n",
    "v0x=dLf(x,e.eval(),xiv0)\n",
    "w0x=dLf(x,e.eval(),xiw0)\n",
    "print(w0x)\n",
    "print(dLf(invf(x),x,w0x))\n",
    "print(gGf(x,v0x,w0x))\n",
    "print(psif(v0))\n",
    "print(dpsif(v0,w0))\n",
    "print(gpsif(v0+w0))\n",
    "print(cogpsif(v0+w0))\n",
    "print(eiLA.eval()[:,:,0])\n",
    "print(eiLA.eval()[:,:,1])\n",
    "print(bracketf(eiLA.eval()[:,:,0],eiLA.eval()[:,:,1]))\n",
    "# print(Cf().shape)\n",
    "# print(Cf()[:,:,0,1])\n",
    "print(C.eval().shape)\n",
    "print(C.eval()[:,:,0])\n",
    "for i in range(G_dim.eval()):\n",
    "    print(eiLA.eval()[:,:,i])"
   ]
  },
  {
   "cell_type": "code",
   "execution_count": null,
   "metadata": {},
   "outputs": [],
   "source": [
    "# DLf = theano.function([g,h],dL(g,h))\n",
    "# print(DLf(invf(x),x))\n",
    "if hatxi.type == T.vector().type:\n",
    "    print(True)\n",
    "hatXi = T.matrix()\n",
    "VtoLAff = theano.function([hatXi], VtoLA(hatXi))\n",
    "B=VtoLAff(np.eye(G_dim.eval()))\n",
    "print(B.shape)\n",
    "for i in range(G_dim.eval()):\n",
    "    print(B[:,:,i])\n",
    "Xi = T.tensor3()\n",
    "LAtoVff = theano.function([Xi], LAtoV(Xi))\n",
    "print(LAtoVff(B))"
   ]
  },
  {
   "cell_type": "code",
   "execution_count": null,
   "metadata": {},
   "outputs": [],
   "source": [
    "# visualization\n",
    "newfig()\n",
    "plotg(x)\n",
    "plt.show()\n",
    "gsv = np.zeros((n_steps.eval(),3,3))\n",
    "for i in range(n_steps.eval()):\n",
    "    gsv[i] = expf(i*dt.eval()*xiv0)\n",
    "newfig()\n",
    "plotg(gsv)\n",
    "plt.show()\n",
    "\n",
    "# on SPD(3)\n",
    "newfig()\n",
    "plotM()\n",
    "x0 = np.eye((N.eval())).flatten()\n",
    "plotx(actsf(gsv.transpose((1,2,0)),x0).T)\n",
    "plt.show()\n",
    "\n",
    "# ellipsoids\n",
    "plt.rcParams['figure.figsize'] = 23, 10\n",
    "x0 = np.eye((N.eval())).flatten()\n",
    "plotx(actsf(gsv.transpose((1,2,0)),x0).T,ellipsoid={'alpha': .2, 'step': n_steps.eval()/4, 'subplot': True})\n",
    "plt.show()\n",
    "plt.rcParams['figure.figsize'] = 13, 10"
   ]
  },
  {
   "cell_type": "code",
   "execution_count": null,
   "metadata": {},
   "outputs": [],
   "source": [
    "# Euler-Poincare dynamics\n",
    "from src.EulerPoincare import *\n",
    "\n",
    "# geodesic\n",
    "(ts,gsv) = Exptf(q0,v0)\n",
    "newfig()\n",
    "plotg(gsv)\n",
    "plt.show()\n",
    "(ts,musv) = EPf(v0)\n",
    "xisv = [invFlf(mu) for mu in musv]\n",
    "print(\"Energy: \",np.array([lf(xi) for xi in xisv]))\n",
    "\n",
    "# on SPD(3)\n",
    "newfig()\n",
    "plotM()\n",
    "x0 = np.eye((N.eval())).flatten()\n",
    "plotx(actsf(gsv.transpose((1,2,0)),x0).T)\n",
    "plt.show()\n",
    "\n",
    "# ellipsoids\n",
    "plt.rcParams['figure.figsize'] = 23, 10\n",
    "x0 = np.eye((N.eval())).flatten()\n",
    "plotx(actsf(gsv.transpose((1,2,0)),x0).T,ellipsoid={'alpha': .2, 'step': n_steps.eval()/4, 'subplot': True})\n",
    "plt.show()\n",
    "plt.rcParams['figure.figsize'] = 13, 10"
   ]
  },
  {
   "cell_type": "code",
   "execution_count": null,
   "metadata": {},
   "outputs": [],
   "source": [
    "# Lie-Poission dynamics\n",
    "from src.LiePoisson import *\n",
    "\n",
    "# geodesic\n",
    "(ts,gsv) = Exptf(q0,v0)\n",
    "newfig()\n",
    "plotg(gsv)\n",
    "plt.show()\n",
    "(ts,musv) = LPf(v0)\n",
    "print(\"Energy: \",np.array([Hminusf(mu) for mu in musv]))"
   ]
  },
  {
   "cell_type": "code",
   "execution_count": null,
   "metadata": {},
   "outputs": [],
   "source": [
    "# Brownian motion\n",
    "from src.Brownian_inv import *\n",
    "\n",
    "g0 = e.eval()\n",
    "sigma.set_value(np.sqrt(.1)*np.eye(G_emb_dim.eval()))\n",
    "print(A.eval())\n",
    "(ts,gsv) = Brownian_invf(g0,dWsGf())\n",
    "\n",
    "# on SPD(3)\n",
    "newfig()\n",
    "plotM()\n",
    "x0 = np.eye((N.eval())).flatten()\n",
    "plotx(actsf(gsv.transpose((1,2,0)),x0).T)\n",
    "plt.show()\n",
    "\n",
    "# ellipsoids\n",
    "x0 = np.eye((N.eval())).flatten()\n",
    "plt.rcParams['figure.figsize'] = 23, 10\n",
    "plotx(actsf(gsv.transpose((1,2,0)),x0).T,ellipsoid={'alpha': .2, 'step': n_steps.eval()/8, 'subplot': True})\n",
    "# plt.savefig('/home/stefan/Dropbox/projects/diffusion/figures/SPD3-path.pdf')\n",
    "plt.show()\n",
    "plt.rcParams['figure.figsize'] = 13, 10"
   ]
  },
  {
   "cell_type": "code",
   "execution_count": null,
   "metadata": {
    "collapsed": true
   },
   "outputs": [],
   "source": []
  }
 ],
 "metadata": {
  "kernelspec": {
   "display_name": "Python 3",
   "language": "python",
   "name": "python3"
  },
  "language_info": {
   "codemirror_mode": {
    "name": "ipython",
    "version": 3
   },
   "file_extension": ".py",
   "mimetype": "text/x-python",
   "name": "python",
   "nbconvert_exporter": "python",
   "pygments_lexer": "ipython3",
   "version": "3.5.3"
  }
 },
 "nbformat": 4,
 "nbformat_minor": 1
}
