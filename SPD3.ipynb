{
 "cells": [
  {
   "cell_type": "code",
   "execution_count": null,
   "metadata": {
    "collapsed": true
   },
   "outputs": [],
   "source": [
    "# # This file is part of Theano Geometry\n",
    "#\n",
    "# Copyright (C) 2017, Stefan Sommer (sommer@di.ku.dk)\n",
    "# https://bitbucket.org/stefansommer/theanogemetry\n",
    "#\n",
    "# Theano Geometry is free software: you can redistribute it and/or modify\n",
    "# it under the terms of the GNU General Public License as published by\n",
    "# the Free Software Foundation, either version 3 of the License, or\n",
    "# (at your option) any later version.\n",
    "#\n",
    "# Theano Geometry is distributed in the hope that it will be useful,\n",
    "# but WITHOUT ANY WARRANTY; without even the implied warranty of\n",
    "# MERCHANTABILITY or FITNESS FOR A PARTICULAR PURPOSE.  See the\n",
    "# GNU General Public License for more details.\n",
    "#\n",
    "# You should have received a copy of the GNU General Public License\n",
    "# along with Theano Geometry. If not, see <http://www.gnu.org/licenses/>.\n",
    "#"
   ]
  },
  {
   "cell_type": "markdown",
   "metadata": {
    "collapsed": true
   },
   "source": [
    "# GLN and SPDN dynamics"
   ]
  },
  {
   "cell_type": "code",
   "execution_count": null,
   "metadata": {},
   "outputs": [],
   "source": [
    "from src.groups.GLN import *\n",
    "G = GLN(3)\n",
    "print(G)\n",
    "\n",
    "from src.manifolds.SPDN import *\n",
    "M = SPDN(3)\n",
    "print(M)\n",
    "\n",
    "from src.plotting import *"
   ]
  },
  {
   "cell_type": "code",
   "execution_count": null,
   "metadata": {},
   "outputs": [],
   "source": [
    "# some values\n",
    "v=np.array([.5,0,0,0,0,0,0,0,0])+1e-6*np.random.normal(size=G.dim.eval()) # must be non-singular for Expm derivative\n",
    "xiv=G.VtoLAf(v)\n",
    "x = G.expf(xiv)"
   ]
  },
  {
   "cell_type": "code",
   "execution_count": null,
   "metadata": {
    "scrolled": false
   },
   "outputs": [],
   "source": [
    "# visualization\n",
    "newfig()\n",
    "G.plotg(x)\n",
    "plt.show()\n",
    "gsv = np.zeros((n_steps.eval(),3,3))\n",
    "for i in range(n_steps.eval()):\n",
    "    gsv[i] = G.expf(i*dt.eval()*xiv)\n",
    "newfig()\n",
    "G.plotg(gsv)\n",
    "plt.show()\n",
    "\n",
    "# on SPD(3)\n",
    "newfig()\n",
    "M.plot()\n",
    "x0 = np.eye((M.N.eval())).flatten()\n",
    "M.plotx(M.actsf(gsv.transpose((1,2,0)),x0).T)\n",
    "plt.show()\n",
    "\n",
    "# ellipsoids\n",
    "plt.rcParams['figure.figsize'] = 23, 10\n",
    "M.plotx(M.actsf(gsv.transpose((1,2,0)),x0).T,ellipsoid={'alpha': .2, 'step': n_steps.eval()/4, 'subplot': True})\n",
    "plt.show()\n",
    "plt.rcParams['figure.figsize'] = 13, 10"
   ]
  },
  {
   "cell_type": "code",
   "execution_count": null,
   "metadata": {},
   "outputs": [],
   "source": [
    "# define invariant metric on GL(N)\n",
    "from src.group import invariant_metric\n",
    "invariant_metric.initialize(G)\n",
    "from src.group import energy\n",
    "energy.initialize(G)"
   ]
  },
  {
   "cell_type": "code",
   "execution_count": null,
   "metadata": {
    "scrolled": false
   },
   "outputs": [],
   "source": [
    "# Euler-Poincare dynamics\n",
    "from src.group import EulerPoincare\n",
    "EulerPoincare.initialize(G)\n",
    "\n",
    "# geodesic\n",
    "(ts,gsv) = G.ExpEPtf(G.e.eval(),v)\n",
    "newfig()\n",
    "G.plotg(gsv)\n",
    "plt.show()\n",
    "(ts,musv) = G.EPf(v)\n",
    "xisv = [G.invFlf(mu) for mu in musv]\n",
    "print(\"Energy: \",np.array([G.lf(xi) for xi in xisv]))\n",
    "\n",
    "# on SPD(3)\n",
    "newfig()\n",
    "M.plot()\n",
    "x0 = np.eye((M.N.eval())).flatten()\n",
    "M.plotx(M.actsf(gsv.transpose((1,2,0)),x0).T)\n",
    "plt.show()\n",
    "\n",
    "# ellipsoids\n",
    "plt.rcParams['figure.figsize'] = 23, 10\n",
    "M.plotx(M.actsf(gsv.transpose((1,2,0)),x0).T,ellipsoid={'alpha': .2, 'step': n_steps.eval()/4, 'subplot': True})\n",
    "plt.show()\n",
    "plt.rcParams['figure.figsize'] = 13, 10"
   ]
  },
  {
   "cell_type": "code",
   "execution_count": null,
   "metadata": {},
   "outputs": [],
   "source": [
    "# Lie-Poission dynamics\n",
    "from src.group import LiePoisson\n",
    "LiePoisson.initialize(G)\n",
    "\n",
    "# geodesic\n",
    "(ts,gsv) = G.ExpLPtf(G.e.eval(),v)\n",
    "newfig()\n",
    "G.plotg(gsv)\n",
    "plt.show()\n",
    "(ts,musv) = G.LPf(v)\n",
    "print(\"Energy: \",np.array([G.Hminusf(mu) for mu in musv]))"
   ]
  },
  {
   "cell_type": "code",
   "execution_count": null,
   "metadata": {},
   "outputs": [],
   "source": [
    "# Brownian motion\n",
    "from src.stochastics import Brownian_inv\n",
    "Brownian_inv.initialize(G)\n",
    "\n",
    "G.sigma.set_value(np.sqrt(.1)*np.eye(G.emb_dim.eval()))\n",
    "print(G.A.eval())\n",
    "(ts,gsv) = G.Brownian_invf(G.e.eval(),dWsf(G.dim.eval()))\n",
    "\n",
    "# on SPD(3)\n",
    "newfig()\n",
    "M.plot()\n",
    "x0 = np.eye((M.N.eval())).flatten()\n",
    "M.plotx(M.actsf(gsv.transpose((1,2,0)),x0).T)\n",
    "plt.show()\n",
    "\n",
    "# ellipsoids\n",
    "plt.rcParams['figure.figsize'] = 23, 10\n",
    "M.plotx(M.actsf(gsv.transpose((1,2,0)),x0).T,ellipsoid={'alpha': .2, 'step': n_steps.eval()/8, 'subplot': True})\n",
    "# plt.savefig('/home/stefan/Dropbox/projects/diffusion/figures/SPD3-path.pdf')\n",
    "plt.show()\n",
    "plt.rcParams['figure.figsize'] = 13, 10"
   ]
  },
  {
   "cell_type": "code",
   "execution_count": null,
   "metadata": {
    "collapsed": true
   },
   "outputs": [],
   "source": []
  }
 ],
 "metadata": {
  "kernelspec": {
   "display_name": "Python 3",
   "language": "python",
   "name": "python3"
  },
  "language_info": {
   "codemirror_mode": {
    "name": "ipython",
    "version": 3
   },
   "file_extension": ".py",
   "mimetype": "text/x-python",
   "name": "python",
   "nbconvert_exporter": "python",
   "pygments_lexer": "ipython3",
   "version": "3.5.3"
  }
 },
 "nbformat": 4,
 "nbformat_minor": 1
}
