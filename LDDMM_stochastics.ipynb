{
 "cells": [
  {
   "cell_type": "code",
   "execution_count": null,
   "metadata": {
    "scrolled": true
   },
   "outputs": [],
   "source": [
    "# # This file is part of Theano Geometry\n",
    "#\n",
    "# Copyright (C) 2017, Stefan Sommer (sommer@di.ku.dk)\n",
    "# https://bitbucket.org/stefansommer/theanogemetry\n",
    "#\n",
    "# Theano Geometry is free software: you can redistribute it and/or modify\n",
    "# it under the terms of the GNU General Public License as published by\n",
    "# the Free Software Foundation, either version 3 of the License, or\n",
    "# (at your option) any later version.\n",
    "#\n",
    "# Theano Geometry is distributed in the hope that it will be useful,\n",
    "# but WITHOUT ANY WARRANTY; without even the implied warranty of\n",
    "# MERCHANTABILITY or FITNESS FOR A PARTICULAR PURPOSE.  See the\n",
    "# GNU General Public License for more details.\n",
    "#\n",
    "# You should have received a copy of the GNU General Public License\n",
    "# along with Theano Geometry. If not, see <http://www.gnu.org/licenses/>.\n",
    "#"
   ]
  },
  {
   "cell_type": "markdown",
   "metadata": {},
   "source": [
    "# LDDMM landmark dynamics"
   ]
  },
  {
   "cell_type": "code",
   "execution_count": null,
   "metadata": {
    "scrolled": true
   },
   "outputs": [],
   "source": [
    "from src.manifolds.landmarks import *\n",
    "M = landmarks(2)\n",
    "print(M)\n",
    "\n",
    "from src.plotting import *"
   ]
  },
  {
   "cell_type": "code",
   "execution_count": null,
   "metadata": {},
   "outputs": [],
   "source": [
    "# Riemannian structure\n",
    "from src.Riemannian import metric\n",
    "metric.initialize(M)"
   ]
  },
  {
   "cell_type": "code",
   "execution_count": null,
   "metadata": {
    "scrolled": true
   },
   "outputs": [],
   "source": [
    "# example configuration\n",
    "M.k_sigma.set_value(np.diag((.5,.5)))\n",
    "\n",
    "q = np.vstack((np.linspace(-.5,.5,M.N.eval()),np.zeros(M.N.eval()))).T.flatten()\n",
    "v = np.vstack((np.zeros(M.N.eval()),np.ones(M.N.eval()))).T.flatten()\n",
    "p = M.flatf(q,v.flatten())\n",
    "print(\"q = \", q)\n",
    "print(\"p = \", p)"
   ]
  },
  {
   "cell_type": "markdown",
   "metadata": {},
   "source": [
    "## Brownian Motion"
   ]
  },
  {
   "cell_type": "code",
   "execution_count": null,
   "metadata": {},
   "outputs": [],
   "source": [
    "# coordinate form\n",
    "from src.stochastics import Brownian_coords\n",
    "Brownian_coords.initialize(M)\n",
    "\n",
    "(ts,qs) = M.Brownian_coordsf(q,dWsf(M.dim.eval()))\n",
    "M.plot()\n",
    "M.plotx(qs)\n",
    "plt.show()"
   ]
  },
  {
   "cell_type": "markdown",
   "metadata": {},
   "source": [
    "## Development and Horizontal Vector Fields"
   ]
  },
  {
   "cell_type": "markdown",
   "metadata": {},
   "source": [
    "### Development"
   ]
  },
  {
   "cell_type": "code",
   "execution_count": null,
   "metadata": {},
   "outputs": [],
   "source": [
    "from src.framebundle import FM\n",
    "FM.initialize(M)"
   ]
  },
  {
   "cell_type": "code",
   "execution_count": null,
   "metadata": {},
   "outputs": [],
   "source": [
    "#M.rank.set_value(2)\n",
    "n_steps.set_value(100)\n",
    "\n",
    "# Landmarks\n",
    "x = np.array([[0.,1.],[0.5,1.]]).flatten()\n",
    "# Frame\n",
    "u = np.array([[1.,0.,1.,0.],[-1.,-1.,1.,1.],[0.,1.,0.,1.],[-1.,0.,-1.,1.]]).reshape((M.dim.eval(),M.dim.eval())).T#.astype(theano.config.floatX)\n",
    "u = M.gramSchmidt(x,u).T\n",
    "\n",
    "q = np.hstack([x,u.flatten()])\n",
    "print(\"q = \", q)\n",
    "\n",
    "# Curve in R^2:\n",
    "t = np.linspace(0,10,n_steps.get_value()+1)\n",
    "gamma = np.vstack([[20*np.sin(t), t**2 + 2*t, 20*np.sin(t), \n",
    "                    t**2 + 2*t]]).T\n",
    "dgamma = np.diff(gamma, axis = 0)\n",
    "print(\"dgamma.shape =\", dgamma.shape)"
   ]
  },
  {
   "cell_type": "code",
   "execution_count": null,
   "metadata": {},
   "outputs": [],
   "source": [
    "# Development dynamics\n",
    "from src.stochastics import stochastic_development\n",
    "stochastic_development.initialize(M)\n",
    "\n",
    "# test deterministic development\n",
    "qsv = M.devf(q,dgamma)\n",
    "print(qsv.shape)\n",
    "#newfig()\n",
    "M.plotFMx(qsv,linewidth=1.5,s=50)\n",
    "plt.show()"
   ]
  },
  {
   "cell_type": "markdown",
   "metadata": {},
   "source": [
    "### Stochastic development:"
   ]
  },
  {
   "cell_type": "code",
   "execution_count": null,
   "metadata": {},
   "outputs": [],
   "source": [
    "# Development dynamics\n",
    "from src.stochastics import stochastic_development\n",
    "stochastic_development.initialize(M)"
   ]
  },
  {
   "cell_type": "code",
   "execution_count": null,
   "metadata": {},
   "outputs": [],
   "source": [
    "M.rank.set_value(M.dim.eval())\n",
    "n_steps.set_value(1000)\n",
    "\n",
    "# Frame\n",
    "x = np.array([[0,1],[0.5,1]]).flatten()\n",
    "u = np.array([[1.,0.,1.,0.],[-1.,-1.,1.,1.],[0.,1.,0.,1.],[-1.,0.,-1.,1.]]).reshape((M.dim.eval(),M.dim.eval())).T#.astype(theano.config.floatX)\n",
    "u = M.gramSchmidt(x,u).T\n",
    "\n",
    "q = np.hstack([x,u.flatten()])\n",
    "print(\"q = \", q)\n",
    "\n",
    "m = 4\n",
    "dWt = np.random.normal(0, np.sqrt(dt.eval()), (n_steps.get_value(),m))\n",
    "\n",
    "drift = np.zeros(m)"
   ]
  },
  {
   "cell_type": "code",
   "execution_count": null,
   "metadata": {},
   "outputs": [],
   "source": [
    "dZt = dWt + drift*dt.eval()\n",
    "Zt = np.concatenate([np.zeros(m).reshape((1,m)),np.cumsum(dZt, axis = 0)])\n",
    "plt.figure(figsize=(6,4))\n",
    "plt.plot(Zt[:,0],Zt[:,1],'b-',linewidth = 1)\n",
    "plt.plot(Zt[:,2],Zt[:,3], '-', color='brown',linewidth = 1)\n",
    "plt.plot(0,0, 'ro')\n",
    "plt.plot(Zt[-1,0],Zt[-1,1], 'go')\n",
    "plt.plot(Zt[-1,2],Zt[-1,3], 'go')\n",
    "plt.show()\n",
    "#plt.savefig(\"/home/line/Dropbox/repos/theanodiffgeom-paper/paper/pictures/landstocdevfullR2.pdf\")"
   ]
  },
  {
   "cell_type": "code",
   "execution_count": null,
   "metadata": {},
   "outputs": [],
   "source": [
    "# test stochastic development\n",
    "qsv = M.stoc_devf(q,dWt,drift)\n",
    "M.plotFMx(qsv,N_vec = 0)\n",
    "plt.show()\n",
    "#plt.savefig(\"/home/line/Dropbox/repos/theanodiffgeom-paper/paper/pictures/landstocdevfull.pdf\")"
   ]
  },
  {
   "cell_type": "code",
   "execution_count": null,
   "metadata": {},
   "outputs": [],
   "source": []
  }
 ],
 "metadata": {
  "kernelspec": {
   "display_name": "Python 3",
   "language": "python",
   "name": "python3"
  },
  "language_info": {
   "codemirror_mode": {
    "name": "ipython",
    "version": 3
   },
   "file_extension": ".py",
   "mimetype": "text/x-python",
   "name": "python",
   "nbconvert_exporter": "python",
   "pygments_lexer": "ipython3",
   "version": "3.5.2"
  }
 },
 "nbformat": 4,
 "nbformat_minor": 1
}
