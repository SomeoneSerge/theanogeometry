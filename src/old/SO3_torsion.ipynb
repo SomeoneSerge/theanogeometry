{
 "cells": [
  {
   "cell_type": "code",
   "execution_count": null,
   "metadata": {
    "collapsed": true
   },
   "outputs": [],
   "source": [
    "# Study of torsion, probability, and statistics on SO(3)"
   ]
  },
  {
   "cell_type": "code",
   "execution_count": null,
   "metadata": {
    "collapsed": true
   },
   "outputs": [],
   "source": [
    "import src.params as params\n",
    "params.group = 'SON'\n",
    "params.manifold = 'S2'"
   ]
  },
  {
   "cell_type": "code",
   "execution_count": null,
   "metadata": {},
   "outputs": [],
   "source": [
    "from src.group import *\n",
    "from src.manifold import *\n",
    "from src.metric import *\n",
    "import src.multiprocess_utils as mpu\n",
    "\n",
    "from src.plotting import *\n",
    "%matplotlib inline\n",
    "plt.rcParams['figure.figsize'] = 13, 10"
   ]
  },
  {
   "cell_type": "code",
   "execution_count": null,
   "metadata": {
    "collapsed": true
   },
   "outputs": [],
   "source": [
    "# initialize\n",
    "init(3)"
   ]
  },
  {
   "cell_type": "code",
   "execution_count": null,
   "metadata": {
    "collapsed": true
   },
   "outputs": [],
   "source": [
    "# setup for testing different versions of stochastic dynamics\n",
    "q0 = np.array([1e-6,0,0])\n",
    "g0 = psif(q0)\n",
    "v0 = np.array([0,1,-1])\n",
    "p0 = sharppsif(q0,v0)"
   ]
  },
  {
   "cell_type": "code",
   "execution_count": null,
   "metadata": {},
   "outputs": [],
   "source": [
    "# Brownian motion\n",
    "from src.Brownian_inv import *\n",
    "\n",
    "# sigma.set_value(.3*np.eye(G_dim.eval())) # set metric\n",
    "sigma.set_value(np.diag((.5,.1,.1))) # set metric\n",
    "K = 512\n",
    "obss = np.zeros((K,)+g0.shape)\n",
    "# srng.seed(422)\n",
    "for i in range(K):\n",
    "    (ts,gsv) = Brownian_invf(g0,dWsGf())\n",
    "    obss[i] = gsv[-1]\n",
    "\n",
    "# in coordaintes\n",
    "obss_q = np.zeros((K,G_dim.eval()))\n",
    "for i in range(K):\n",
    "    obss_q[i] = invpsif(obss[i])\n",
    "\n",
    "# plot samples\n",
    "newfig()\n",
    "for i in range(K):\n",
    "    plotg(obss[i])\n",
    "plt.show()\n",
    "\n",
    "# on S2\n",
    "x0 = np.array([0,0,1])\n",
    "obss_M = np.zeros((K,M_emb_dim.eval(),))\n",
    "newfig()\n",
    "plotM()\n",
    "for i in range(K):\n",
    "    obss_M[i] = actf(obss[i],x0)\n",
    "    plotx(obss_M[i])\n",
    "plt.show()"
   ]
  },
  {
   "cell_type": "code",
   "execution_count": null,
   "metadata": {},
   "outputs": [],
   "source": [
    "# plot estimated density        \n",
    "newfig()\n",
    "# plotM(alpha=.4)\n",
    "plot_sphere_density_estimate(obss_M)\n",
    "plt.show()"
   ]
  },
  {
   "cell_type": "code",
   "execution_count": null,
   "metadata": {},
   "outputs": [],
   "source": [
    "# Brownian motion\n",
    "from src.Brownian_process import *\n",
    "\n",
    "obss_Bp = np.zeros((K,)+g0.shape)\n",
    "# srng.seed(422)\n",
    "for i in range(K):\n",
    "    (ts,gsv) = Brownian_processf(g0,dWsGf())\n",
    "    obss_Bp[i] = gsv[-1]\n",
    "\n",
    "# in coordaintes\n",
    "obss_Bpq = np.zeros((K,G_dim.eval()))\n",
    "for i in range(K):\n",
    "    obss_Bpq[i] = invpsif(obss_Bp[i])\n",
    "\n",
    "# plot samples\n",
    "newfig()\n",
    "for i in range(K):\n",
    "    plotg(obss_Bp[i])\n",
    "plt.show()\n",
    "\n",
    "# on S2\n",
    "x0 = np.array([0,0,1])\n",
    "obss_BpM = np.zeros((K,M_emb_dim.eval(),))\n",
    "newfig()\n",
    "plotM()\n",
    "for i in range(K):\n",
    "    obss_BpM[i] = actf(obss_Bp[i],x0)\n",
    "    plotx(obss_BpM[i])\n",
    "plt.show()"
   ]
  },
  {
   "cell_type": "code",
   "execution_count": null,
   "metadata": {
    "scrolled": false
   },
   "outputs": [],
   "source": [
    "# # Frechet mean with EPDiff geodesics\n",
    "from src.EulerPoincare import *\n",
    "params.Exp = Exppsi\n",
    "from src.Log import *\n",
    "# from src.Frechet_mean import *\n",
    "\n",
    "# res = Frechet_mean(obss_q,Logf)\n",
    "# print(\"loss = \", res[1])\n",
    "# print(\"mean = \", res[0])\n",
    "# FM = res[0]\n",
    "\n",
    "# # plot\n",
    "# newfig()\n",
    "# plotg(psif(FM))\n",
    "# plt.show()\n",
    "\n",
    "# # on S2\n",
    "# newfig()\n",
    "# plotM()\n",
    "# plotx(actf(psif(FM),x0).T)\n",
    "# plt.show()"
   ]
  },
  {
   "cell_type": "code",
   "execution_count": null,
   "metadata": {},
   "outputs": [],
   "source": [
    "# Frechet mean\n",
    "from src.Tangent_PCA import *\n",
    "\n",
    "from src.utils import *\n",
    "from sklearn.decomposition import PCA\n",
    "\n",
    "pca = Tangent_PCA(obss_q,q0,Logf)\n",
    "print(pca.get_covariance())"
   ]
  },
  {
   "cell_type": "code",
   "execution_count": null,
   "metadata": {},
   "outputs": [],
   "source": [
    "pca = Tangent_PCA(obss_Bpq,q0,Logf)\n",
    "print(pca.get_covariance())"
   ]
  },
  {
   "cell_type": "code",
   "execution_count": null,
   "metadata": {
    "collapsed": true
   },
   "outputs": [],
   "source": []
  }
 ],
 "metadata": {
  "kernelspec": {
   "display_name": "Python 3",
   "language": "python",
   "name": "python3"
  },
  "language_info": {
   "codemirror_mode": {
    "name": "ipython",
    "version": 3
   },
   "file_extension": ".py",
   "mimetype": "text/x-python",
   "name": "python",
   "nbconvert_exporter": "python",
   "pygments_lexer": "ipython3",
   "version": "3.5.3"
  }
 },
 "nbformat": 4,
 "nbformat_minor": 1
}
