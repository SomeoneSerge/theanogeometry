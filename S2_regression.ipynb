{
 "cells": [
  {
   "cell_type": "markdown",
   "metadata": {},
   "source": [
    "# Regression on the sphere"
   ]
  },
  {
   "cell_type": "code",
   "execution_count": null,
   "metadata": {},
   "outputs": [],
   "source": [
    "from src.manifolds.S2 import *\n",
    "M = S2()\n",
    "print(M)\n",
    "\n",
    "from src.plotting import *\n",
    "#%matplotlib notebook"
   ]
  },
  {
   "cell_type": "code",
   "execution_count": null,
   "metadata": {},
   "outputs": [],
   "source": [
    "# Riemannian structure\n",
    "from src.Riemannian import metric\n",
    "truncate_high_order_derivatives = True\n",
    "metric.initialize(M)"
   ]
  },
  {
   "cell_type": "code",
   "execution_count": null,
   "metadata": {},
   "outputs": [],
   "source": [
    "from src.statistics.Regression.params import *\n",
    "\n",
    "# initialize\n",
    "n_steps.set_value(100)\n",
    "\n",
    "n_samples.set_value(20)\n",
    "mx.set_value(2)\n",
    "\n",
    "# Obs: takes time to load\n",
    "from src.framebundle import FM\n",
    "from src.stochastics import stochastic_development\n",
    "FM.initialize(M)\n",
    "stochastic_development.initialize(M)\n",
    "\n",
    "from src.statistics.Regression import Processes\n",
    "Processes.initialize(M)\n",
    "\n",
    "from src.statistics.Regression import hfunction\n",
    "hfunction.initialize(M)\n",
    "\n",
    "from src.statistics.Regression import LaplaceApprox\n",
    "LaplaceApprox.initialize(M)"
   ]
  },
  {
   "cell_type": "markdown",
   "metadata": {},
   "source": [
    "# Simulated data and true parameters"
   ]
  },
  {
   "cell_type": "code",
   "execution_count": null,
   "metadata": {},
   "outputs": [],
   "source": [
    "# Initial point on S2 and frame:\n",
    "y0 = np.array([0,0])\n",
    "Xa = np.array([[1,0],[0,1]])#.flatten()\n",
    "#print(Xa)\n",
    "u = np.hstack((y0,Xa.flatten()))\n",
    "\n",
    "x1 = np.random.normal(0,5,(n_samples.get_value(),mx.get_value()))\n",
    "x0 = np.zeros(mx.get_value())\n",
    "                      \n",
    "W0 = 0.03*np.array([[1.,0.5],[0.5,1.]])[0:mx.get_value(),0:mx.get_value()]\n",
    "drift0 = np.array([0.5,0.01])[0:mx.get_value()]\n",
    "\n",
    "y = np.zeros((n_samples.get_value(),M.dim.eval()))\n",
    "for i in range(n_samples.get_value()):\n",
    "    dBt = M.brown_bridgef(dWsf(M.dim.eval()),x0,x1[i,:]) \n",
    "    dZt = M.reg_euclid_procf(dBt[0],W0,drift0)\n",
    "    y[i,:] = M.stochastic_developmentf(u,dZt[0])[1][-1,0:M.dim.eval()] \n",
    "    # Der er et problem i stochastic development og trunkering af H!"
   ]
  },
  {
   "cell_type": "code",
   "execution_count": null,
   "metadata": {
    "scrolled": false
   },
   "outputs": [],
   "source": [
    "newfig()\n",
    "M.plot()\n",
    "for i in range(n_samples.get_value()):\n",
    "    M.plotx(y[i,:])\n",
    "plt.show()"
   ]
  },
  {
   "cell_type": "markdown",
   "metadata": {},
   "source": [
    "# Estimation of parameters"
   ]
  },
  {
   "cell_type": "code",
   "execution_count": null,
   "metadata": {},
   "outputs": [],
   "source": [
    "W0 = np.array([[np.linalg.norm(ui0)]])[0:mx.get_value(),0:mx.get_value()]\n",
    "drift0 = np.array([0.01,0.01])[0:mx.get_value()]\n",
    "\n",
    "tau0 = 0.1\n",
    "\n",
    "y0 = np.mean(yObs, axis = 0)\n",
    "\n",
    "para0 = np.hstack((tau0,drift0,W0.flatten(),y0.flatten(),ui0.flatten()))\n",
    "print(\"Initial para = \", para0)"
   ]
  }
 ],
 "metadata": {
  "kernelspec": {
   "display_name": "Python 3",
   "language": "python",
   "name": "python3"
  }
 },
 "nbformat": 4,
 "nbformat_minor": 2
}
