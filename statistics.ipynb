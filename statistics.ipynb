{
 "cells": [
  {
   "cell_type": "code",
   "execution_count": null,
   "metadata": {
    "collapsed": true,
    "deletable": true,
    "editable": true
   },
   "outputs": [],
   "source": [
    "# Statistics on S2"
   ]
  },
  {
   "cell_type": "code",
   "execution_count": null,
   "metadata": {
    "collapsed": true,
    "deletable": true,
    "editable": true
   },
   "outputs": [],
   "source": [
    "import src.params as params\n",
    "params.manifold = 'S2'"
   ]
  },
  {
   "cell_type": "code",
   "execution_count": null,
   "metadata": {
    "collapsed": false,
    "deletable": true,
    "editable": true
   },
   "outputs": [],
   "source": [
    "from src.manifold import *\n",
    "from src.metric import *\n",
    "\n",
    "from src.plotting import *\n",
    "%matplotlib inline\n",
    "plt.rcParams['figure.figsize'] = 7, 7"
   ]
  },
  {
   "cell_type": "markdown",
   "metadata": {
    "deletable": true,
    "editable": true
   },
   "source": [
    "# Frechet mean:"
   ]
  },
  {
   "cell_type": "code",
   "execution_count": null,
   "metadata": {
    "collapsed": false,
    "deletable": true,
    "editable": true
   },
   "outputs": [],
   "source": [
    "#x1 = np.random.normal(0., 0.2, (10,2))\n",
    "#x2 = np.random.normal(0.1, 0.2, (10,1))\n",
    "n_samp = 20\n",
    "y0 = np.random.normal(0., 0.2, (n_samp,2))\n",
    "y0S2 = np.zeros((n_samp,3))\n",
    "for i in range(y0.shape[0]):\n",
    "    y0S2[i,:] = Ff(y0[i,:])\n",
    "\n",
    "q0 = np.array([0.4,0.]).astype(theano.config.floatX)\n",
    "v0 = np.array([-1.,0.]).astype(theano.config.floatX)\n",
    "v0 = GramSchmidt(v0,q0)\n",
    "p0 = gMflatf(q0,v0)\n",
    "\n",
    "#%matplotlib notebook\n",
    "newfig()\n",
    "plotM()\n",
    "ax = plt.gca(projection='3d')\n",
    "ax.view_init(70,0)\n",
    "ax.scatter(y0S2[:,0],y0S2[:,1],y0S2[:,2], color = 'b')\n",
    "q1 = Ff(q0)\n",
    "ax.scatter(q1[0],q1[1],q1[2],color = 'r')\n",
    "\n",
    "# Tangent vector:\n",
    "JFgammai = JFf(q0)\n",
    "v1 = np.dot(JFgammai,v0)\n",
    "ax.quiver(q1[0],q1[1],q1[2],v1[0],v1[1],v1[2],\n",
    "          pivot='tail',\n",
    "          arrow_length_ratio = 0.15, length=0.5,\n",
    "          color='black')"
   ]
  },
  {
   "cell_type": "code",
   "execution_count": null,
   "metadata": {
    "collapsed": true,
    "deletable": true,
    "editable": true
   },
   "outputs": [],
   "source": [
    "# Plotting functoin for Frechet Mean:\n",
    "# If para != None, iterations are plotted.\n",
    "def plotMean(q,y,para=None,p=np.array([-1,1]),color='b',color_intensity=1.,linewidth=3.):\n",
    "        ax = plt.gca(projection='3d')\n",
    "        for i in range(y.shape[0]):\n",
    "            \n",
    "            popt = Logf(q,y[i,:],p)[0]\n",
    "            qsv = Exptf(q,popt).T\n",
    "            plotx(qsv)\n",
    "            y1 = Ff(y[i,:])\n",
    "            ax.scatter(y1[0],y1[1],y1[2], color = 'g')\n",
    "        if para is not None:\n",
    "            size = np.round(np.linspace(20,100,para.shape[0]))\n",
    "            for i in range(para.shape[0]-1):\n",
    "                para1 = Ff(para[i,:])\n",
    "                ax.scatter(para1[0],para1[1],para1[2], color = 'r',s = size[i])\n",
    "        q1 = Ff(q)\n",
    "        ax.scatter(q1[0],q1[1],q1[2],color = 'r',s = 100)"
   ]
  },
  {
   "cell_type": "code",
   "execution_count": null,
   "metadata": {
    "collapsed": false,
    "deletable": true,
    "editable": true
   },
   "outputs": [],
   "source": [
    "# Frechet mean\n",
    "from src.Frechet_mean import *\n",
    "\n",
    "mf = Frechet_mean(y0,q0,p0)\n",
    "print(\"loss = \", mf[1])\n",
    "print(\"mean = \", mf[0])\n",
    "\n",
    "#%matplotlib notebook\n",
    "qopt = mf[0]\n",
    "itera = mf[2]\n",
    "newfig()\n",
    "plotM(rotate = np.array([50,-45]))\n",
    "plotMean(qopt,y0,itera)\n",
    "plt.show()"
   ]
  },
  {
   "cell_type": "markdown",
   "metadata": {
    "deletable": true,
    "editable": true
   },
   "source": [
    "## Frechet mean on FM"
   ]
  },
  {
   "cell_type": "code",
   "execution_count": null,
   "metadata": {
    "collapsed": false,
    "deletable": true,
    "editable": true
   },
   "outputs": [],
   "source": [
    "n_samp = 5\n",
    "y0 = np.random.normal(0., 0.2, (n_samp,2))\n",
    "\n",
    "x0 = np.array([0.4,0.]).astype(theano.config.floatX)\n",
    "ui0 = np.array([1,0,0,1])\n",
    "q0 = np.hstack([x0,ui0.flatten()]).astype(theano.config.floatX)\n",
    "print(q0)\n",
    "\n",
    "v0 = np.array([-1.,0.]).astype(theano.config.floatX)\n",
    "v0 = GramSchmidt(v0,x0)\n",
    "p0 = gMflatf(x0,v0)\n",
    "#xia0 = np.zeros(4)\n",
    "#p0 = np.hstack([xi0,xia0])\n",
    "print(p0)\n",
    "\n",
    "from src.FM import *\n",
    "\n",
    "qsv = Expfm(q0,p0)"
   ]
  },
  {
   "cell_type": "code",
   "execution_count": null,
   "metadata": {
    "collapsed": false,
    "deletable": true,
    "editable": true
   },
   "outputs": [],
   "source": [
    "from src.FM import *\n",
    "\n",
    "detg = lambda x,u: T.nlinalg.Det()(T.tensordot(u.T,T.tensordot(g(x),u,axes=(1,0)),axes=(1,0)))\n",
    "\n",
    "def loss(m,dat): \n",
    "    \n",
    "    u = m[0:(d+rank*d)]\n",
    "    v = m[(d+rank*d):].reshape((n_samp,d))\n",
    "    \n",
    "    (cout, updates) = theano.scan(fn = lambda v,q: Expfm(q,gMflat(q,v))[0:d],\n",
    "                                  sequences = [v],\n",
    "                                  non_sequences = [u],\n",
    "                                  n_steps=n_samp)\n",
    "    \n",
    "    #T.sum(h_v**2)\n",
    "    return cout #1./n_samp*(T.sum(v**2) + lambda0*T.sum((cout - dat)**2)) - 1./2*T.log()\n",
    "\n",
    "m = T.vector() # frame and horizontal vectors\n",
    "dat = T.matrix()\n",
    "lossf = theano.function([m,dat], loss(m,dat))"
   ]
  },
  {
   "cell_type": "code",
   "execution_count": null,
   "metadata": {
    "collapsed": true,
    "deletable": true,
    "editable": true
   },
   "outputs": [],
   "source": [
    "y0 = np.random.normal(0., 0.2, (n_samp,2))\n",
    "\n",
    "q0 = np.array([0.,0.]).astype(theano.config.floatX)\n",
    "v0 = y0 - q0\n"
   ]
  },
  {
   "cell_type": "code",
   "execution_count": null,
   "metadata": {
    "collapsed": false,
    "deletable": true,
    "editable": true
   },
   "outputs": [],
   "source": [
    "print(data.shape)\n",
    "print(q0.shape)\n",
    "print(p0.shape)\n",
    "def Log(x0, y, Fr):\n",
    "    def fopts(x):\n",
    "#         print(Ttype(np.vstack([concatx(x0,Fr.flatten()),x])),)\n",
    "        y = lossf(np.vstack([concatx(x0,Fr.flatten()),x]),1./n_steps.eval(),n_steps.eval())\n",
    "        return y\n",
    "\n",
    "    res = minimize(fopts, np.zeros([d.eval()+rank.eval()*d.eval()]), method='CG', jac=False, options={'disp': False, 'maxiter': 50})\n",
    "    return res.x\n",
    "Logf(q0,data[i,:],p0)"
   ]
  },
  {
   "cell_type": "code",
   "execution_count": null,
   "metadata": {
    "collapsed": false,
    "deletable": true,
    "editable": true
   },
   "outputs": [],
   "source": [
    "from src.Hamiltonian import *\n",
    "\n",
    "data = y0\n",
    "q0 = np.array([0.3,0.]).astype(theano.config.floatX)\n",
    "p0 = np.array([1,0,0,1])\n",
    "u0 = np.hstack((q0,p0))\n",
    "\n",
    "#Logyis = np.zeros((Nsamples,d+d*rank))\n",
    "openPool()\n",
    "\n",
    "def Log(x0, y, Fr):\n",
    "    def fopts(x):\n",
    "#         print(Ttype(np.vstack([concatx(x0,Fr.flatten()),x])),)\n",
    "        y = lossf(np.vstack([concatx(x0,Fr.flatten()),x]),1./n_steps.eval(),n_steps.eval())\n",
    "        return y\n",
    "\n",
    "    res = minimize(fopts, np.zeros([d.eval()+rank.eval()*d.eval()]), method='CG', jac=False, options={'disp': False, 'maxiter': 50})\n",
    "    return res.x\n",
    "\n",
    "print(\"shooting for initial Logs\")\n",
    "def lLog(i):\n",
    "    return Log(q0, data[i,:], p0)\n",
    "print(lLog(1))\n",
    "#sol = pool.imap(lLog, zip(*(np.arange(n_samp),)) )\n",
    "#print(sol)\n",
    "#Logyis = np.array(list(sol)) \n",
    "\n",
    "closePool()\n",
    "\n",
    "#MPPLogf(1,u0)"
   ]
  },
  {
   "cell_type": "code",
   "execution_count": null,
   "metadata": {
    "collapsed": false,
    "deletable": true,
    "editable": true
   },
   "outputs": [],
   "source": [
    "# unconstrained penalized version\n",
    "from scipy.optimize import minimize,fmin_bfgs,fmin_cg,fmin_l_bfgs_b,approx_fprime, check_grad\n",
    "import\n",
    "\n",
    "def DiffSource(data, tol=1e-4, maxIter=20, x0=None, Xa0=None, Logyis=None):\n",
    "\n",
    "    def MPPLogf(idx,m):\n",
    "        Nsamples = (m.shape[0]-(d+d*rank))/(d+d*rank)\n",
    "        q0 = 1e-2*m[0:d+d*rank]\n",
    "        Logsamples = m[d+d*rank:].reshape([Nsamples,d+d*rank])\n",
    "\n",
    "        f = lambda xx: lossf(Ttype(np.vstack([concatx(x0,Xa0.flatten()),xx])),1./n_steps0,n_steps0)\n",
    "        y = f(Logsamples[idx,:])\n",
    "\n",
    "        return (y,)\n",
    "\n",
    "    def dMPPLogf(idx,m):\n",
    "        Nsamples = (m.shape[0]-(d+d*rank))/(d+d*rank)\n",
    "        x0 = 1e-2*m[0:d]\n",
    "        Xa0 = 1e-2*m[d:d+d*rank].reshape([d,rank])\n",
    "        Logsamples = m[d+d*rank:].reshape([Nsamples,d+d*rank])\n",
    "        \n",
    "        qtarget0.set_value(Ttype(data[idx,:]))\n",
    "        f = lambda xx: lossf(Ttype(xx).reshape([2,d+rank*d]),1./n_steps0,n_steps0)\n",
    "        gy = approx_fprime(np.vstack([concatx(x0,Xa0.flatten()),Logsamples[idx,:].flatten()]).flatten(),f,1e-5)\n",
    "    \n",
    "        return (gy,)\n",
    "    \n",
    "    \n",
    "    def f(m):\n",
    "        # energy\n",
    "        Nsamples = (m.shape[0]-(d+d*rank))/(d+d*rank)\n",
    "\n",
    "        EHs = np.empty(Nsamples)\n",
    "        x0 = 1e-2*m[0:d]\n",
    "        Xa0 = 1e-2*m[d:d+d*rank].reshape([d,rank])\n",
    "        Logsamples = m[d+d*rank:].reshape([Nsamples,d+d*rank])\n",
    "        \n",
    "        for idx in range(Nsamples):\n",
    "            xi = Logsamples[idx,0:d]\n",
    "            Xia = Logsamples[idx,d:d+d*rank].reshape([d,rank])            \n",
    "            EHs[i] = Hsplitf(x0,Xa0,xi,Xia)\n",
    "\n",
    "        res = (1./Nsamples)*np.sum(EHs)\n",
    "        detXa02 = detg2f(x0,Xa0)\n",
    "        Xa02inner = np.einsum('ba,bi,ij->aj',Xa0,gf(x0),Xa0)\n",
    "#         print(\"f x0: %s, Xa02 diag: %s, Xa02 off: %s, det: %g, res %g, logstuff %g\" % (x0,np.diag(Xa02inner),Xa02inner[0,1],detXa02,res,(1./2.)*np.log(detXa02)))\n",
    "#         print(\"f Xa02 diag: %s, Xa02 off: %s, det: %g, res %g, logstuff %g\" % (np.diag(Xa02inner),Xa02inner[0,1],detXa02,res,(1./2.)*np.log(detXa02)))\n",
    "        return 1e0*(res + .5*np.log(detXa02))\n",
    "    \n",
    "    def constr(m):\n",
    "        # parallel compute distances        \n",
    "        Nsamples = (m.shape[0]-(d+d*rank))/(d+d*rank)\n",
    "\n",
    "        sol = pool.imap(MPPLogf, zip(*(xrange(Nsamples), itertools.cycle((m,)))) )\n",
    "        res = list(sol)\n",
    "        Logs = getRes(res,0)\n",
    "\n",
    "#         res = 1e-3-(1./Nsamples)*np.sum(Logs)\n",
    "        res = 1e-5-Logs\n",
    "        return res\n",
    "\n",
    "    def dconstr(m):\n",
    "        # parallel compute distances        \n",
    "        Nsamples = (m.shape[0]-(d+d*rank))/(d+d*rank)\n",
    "\n",
    "        sol = pool.imap(dMPPLogf, zip(*(xrange(Nsamples), itertools.cycle((m,)))) )\n",
    "        res = list(sol)\n",
    "        dLogsres = getRes(res,0)\n",
    "        dLogs = np.zeros([Nsamples,m.shape[0]])\n",
    "        for i in range(Nsamples):\n",
    "            dLogs[i,0:d+rank*d] = 1e-2*dLogsres[i,0:d+d*rank]\n",
    "            dLogs[i,d+rank*d+i*(d+rank*d):d+rank*d+(i+1)*(d+rank*d)] = dLogsres[i,d+d*rank:2*(d+rank*d)]\n",
    "        \n",
    "\n",
    "#         res = 1e-3-(1./Nsamples)*np.sum(Logs)\n",
    "#         res = 1e-4-np.sum(Logs)\n",
    "        dres = -dLogs\n",
    "        return dres\n",
    "            \n",
    "        \n",
    "    # number of samples\n",
    "    Nsamples = data.shape[0]\n",
    "            \n",
    "    if x0 == None:\n",
    "        # initial point\n",
    "        x0 = np.mean(data,0)\n",
    "    if Xa0 == None:\n",
    "        # initial frame        \n",
    "        Gx0M = gf(x0)\n",
    "        Xa0 = np.eye(d)\n",
    "        Xa0 = np.linalg.solve(sp.linalg.sqrtm(Gx0M),Xa0) # make orthonormal\n",
    "\n",
    "    print(\"initial point/frame, x0: %s, Xa0: %s\" % (x0,Xa0))\n",
    "    \n",
    "    openPool()\n",
    "    \n",
    "    if Logyis == None:\n",
    "        #Logyis = np.zeros((Nsamples,d+d*rank))\n",
    "        print(\"shooting for initial Logs\")\n",
    "        def lLog(i):\n",
    "            return Log(x0, data[i,:], Fr)\n",
    "        sol = pool.imap(lLog, zip(*(xrange(Nsamples),)) )\n",
    "        Logyis = np.array(list(sol))    \n",
    "\n",
    "    initval = np.hstack( (1e2*x0,1e2*Xa0.flatten(),Logyis.flatten(),) )\n",
    "    \n",
    "#     print(\"checking constr gradient\")\n",
    "#     for i in range(Nsamples):\n",
    "#         err = check_grad(lambda x: constr(x)[i],lambda x: dconstr(x)[i],initval)\n",
    "#         print(\"sampe %i contr grad erro %g\" % (i,err))\n",
    "#         if err > 1:\n",
    "#             print(dconstr(initval)[i])\n",
    "#             print(approx_fprime(initval,lambda x: constr(x)[i],1e-5))\n",
    "    \n",
    "    print(\"running constrained optimization\")\n",
    "    res = minimize(f, initval, method='SLSQP',\\\n",
    "                   tol=tol,\\\n",
    "                   constraints={'type': 'ineq', 'fun': constr, 'jac': dconstr},\\\n",
    "                   options={'disp': True, 'maxiter': maxIter},\\\n",
    "                   )\n",
    "    closePool()\n",
    "    \n",
    "    if not res.success:\n",
    "        print(\"mean/covar optimization failed:\\n%s\" % res)\n",
    "    mu = 1e-2*res.x[0:d]\n",
    "    SigmaSQRT = 1e-2*res.x[d:d+d*rank]\n",
    "    Logyis = res.x[d+d*rank:].reshape([Nsamples,d+d*rank])\n",
    "\n",
    "    return (mu,SigmaSQRT,Logyis)"
   ]
  },
  {
   "cell_type": "code",
   "execution_count": null,
   "metadata": {
    "collapsed": false,
    "deletable": true,
    "editable": true
   },
   "outputs": [],
   "source": [
    "DiffSource(y0, tol=1e-4, maxIter=20, x0=None, Xa0=None, Logyis=None)"
   ]
  },
  {
   "cell_type": "markdown",
   "metadata": {
    "deletable": true,
    "editable": true
   },
   "source": [
    "# Brownian motions"
   ]
  },
  {
   "cell_type": "code",
   "execution_count": null,
   "metadata": {
    "collapsed": true,
    "deletable": true,
    "editable": true
   },
   "outputs": [],
   "source": [
    "from src.Brownian_Stochastic_Development import *"
   ]
  },
  {
   "cell_type": "code",
   "execution_count": null,
   "metadata": {
    "collapsed": true,
    "deletable": true,
    "editable": true
   },
   "outputs": [],
   "source": [
    "# Observation\n",
    "x0 = np.array([0.,0.]).astype(theano.config.floatX)\n",
    "\n",
    "# Frame\n",
    "v0 = np.array([[0.4,0],[0.,0.4]]).astype(theano.config.floatX)\n",
    "ui0 = v0 #GramSchmidt(v0,x0) #sp.linalg.orth(v0) # Gram-Schmidt\n",
    "\n",
    "q0 = np.hstack([x0,ui0.flatten()]).astype(theano.config.floatX)\n",
    "\n",
    "n_steps.set_value(1000)\n",
    "dWt0 = np.random.normal(0, np.sqrt(dt.eval()), (n_steps.get_value(),2))"
   ]
  },
  {
   "cell_type": "code",
   "execution_count": null,
   "metadata": {
    "collapsed": false,
    "deletable": true,
    "editable": true
   },
   "outputs": [],
   "source": [
    "Wt0 = np.cumsum(dWt0, axis=0)\n",
    "\n",
    "%matplotlib inline\n",
    "plt.plot(np.hstack((0,Wt0[:,0])),np.hstack((0,Wt0[:,1])),'b-',\n",
    "        linewidth=1)\n",
    "plt.plot(0,0,'ro',markersize=10.)\n",
    "plt.plot(Wt0[-1,0],Wt0[-1,1],'go',markersize=10.)\n",
    "#plt.savefig(\"/home/line/Dropbox/repos/theanodiffgeom-paper/paper/pictures/Brown1.pdf\")"
   ]
  },
  {
   "cell_type": "code",
   "execution_count": null,
   "metadata": {
    "collapsed": false,
    "deletable": true,
    "editable": true
   },
   "outputs": [],
   "source": [
    "# Brownian motion:\n",
    "Bt = SD_brownian(q0,2,dWt0)\n",
    "#%matplotlib inline\n",
    "plt.rcParams['figure.figsize'] = 10, 10\n",
    "newfig()\n",
    "plotM(rotate = np.array([50,-45]))\n",
    "plotFMx(Bt)\n",
    "plt.show()\n",
    "#plt.savefig(\"/home/line/Dropbox/repos/theanodiffgeom-paper/paper/pictures/Brown.pdf\")"
   ]
  },
  {
   "cell_type": "markdown",
   "metadata": {
    "deletable": true,
    "editable": true
   },
   "source": [
    "# Normal Distributions"
   ]
  },
  {
   "cell_type": "code",
   "execution_count": null,
   "metadata": {
    "collapsed": false,
    "deletable": true,
    "editable": true
   },
   "outputs": [],
   "source": [
    "# Observation\n",
    "x0 = np.array([0.,0.]).astype(theano.config.floatX)\n",
    "\n",
    "# Frame\n",
    "v0 = np.array([[0.1,0.2],[0.2,0.2]]).astype(theano.config.floatX)\n",
    "ui0 = v0#0.3*GramSchmidt(v0,x0) #sp.linalg.orth(v0) # Gram-Schmidt\n",
    "print(ui0)\n",
    "q0 = np.hstack([x0,ui0.flatten()]).astype(theano.config.floatX)"
   ]
  },
  {
   "cell_type": "code",
   "execution_count": null,
   "metadata": {
    "collapsed": false,
    "deletable": true,
    "editable": true
   },
   "outputs": [],
   "source": [
    "from src.normal_dist import *\n",
    "a = normal_dist_sample(5000,q0)[:,0:2]"
   ]
  },
  {
   "cell_type": "code",
   "execution_count": null,
   "metadata": {
    "collapsed": false,
    "deletable": true,
    "editable": true,
    "scrolled": false
   },
   "outputs": [],
   "source": [
    "#%matplotlib notebook\n",
    "#plt.rcParams['figure.figsize'] = 10, 10\n",
    "\n",
    "aa = np.zeros((a.shape[0],3))\n",
    "for i in range(a.shape[0]):\n",
    "    aa[i,:] = Ff(a[i,:])\n",
    "    \n",
    "newfig()\n",
    "plotM(rotate = np.array([55,0]))\n",
    "plot_density_estimate(aa, alpha = 0.9)\n",
    "#plt.show()\n",
    "#plt.savefig(\"/home/line/Dropbox/repos/theanodiffgeom-paper/paper/pictures/Anisonorm.pdf\")"
   ]
  }
 ],
 "metadata": {
  "kernelspec": {
   "display_name": "Python 3",
   "language": "python",
   "name": "python3"
  },
  "language_info": {
   "codemirror_mode": {
    "name": "ipython",
    "version": 3
   },
   "file_extension": ".py",
   "mimetype": "text/x-python",
   "name": "python",
   "nbconvert_exporter": "python",
   "pygments_lexer": "ipython3",
   "version": "3.5.2"
  }
 },
 "nbformat": 4,
 "nbformat_minor": 2
}
