{
 "cells": [
  {
   "cell_type": "code",
   "execution_count": null,
   "metadata": {
    "collapsed": true
   },
   "outputs": [],
   "source": [
    "# # This file is part of Theano Geometry\n",
    "#\n",
    "# Copyright (C) 2017, Stefan Sommer (sommer@di.ku.dk)\n",
    "# https://bitbucket.org/stefansommer/theanogemetry\n",
    "#\n",
    "# Theano Geometry is free software: you can redistribute it and/or modify\n",
    "# it under the terms of the GNU General Public License as published by\n",
    "# the Free Software Foundation, either version 3 of the License, or\n",
    "# (at your option) any later version.\n",
    "#\n",
    "# Theano Geometry is distributed in the hope that it will be useful,\n",
    "# but WITHOUT ANY WARRANTY; without even the implied warranty of\n",
    "# MERCHANTABILITY or FITNESS FOR A PARTICULAR PURPOSE.  See the\n",
    "# GNU General Public License for more details.\n",
    "#\n",
    "# You should have received a copy of the GNU General Public License\n",
    "# along with Theano Geometry. If not, see <http://www.gnu.org/licenses/>.\n",
    "#"
   ]
  },
  {
   "cell_type": "markdown",
   "metadata": {},
   "source": [
    "# $\\mathbb{S}^2$ Sphere Geometry"
   ]
  },
  {
   "cell_type": "code",
   "execution_count": null,
   "metadata": {
    "collapsed": true
   },
   "outputs": [],
   "source": [
    "from src.manifolds.S2 import *\n",
    "M = S2()\n",
    "print(M)\n",
    "\n",
    "from src.plotting import *\n",
    "M.plot()"
   ]
  },
  {
   "cell_type": "code",
   "execution_count": null,
   "metadata": {
    "collapsed": true
   },
   "outputs": [],
   "source": [
    "# Riemannian structure\n",
    "from src.Riemannian import metric\n",
    "metric.initialize(M)\n",
    "\n",
    "# element, tangent vector and covector\n",
    "x = np.array([0.,0.])\n",
    "v = np.array([-1.,1.])\n",
    "p = M.flatf(x,v)\n",
    "\n",
    "print(\"x = \", x)\n",
    "print(\"v = \", v)\n",
    "print(\"p = \", p)"
   ]
  },
  {
   "cell_type": "markdown",
   "metadata": {},
   "source": [
    "## Riemannian Geodesics"
   ]
  },
  {
   "cell_type": "code",
   "execution_count": null,
   "metadata": {
    "collapsed": true
   },
   "outputs": [],
   "source": [
    "# 2nd order geodesic equation\n",
    "from src.Riemannian import geodesic\n",
    "geodesic.initialize(M)\n",
    "xs = M.Exptf(x,v)\n",
    "\n",
    "%matplotlib notebook\n",
    "newfig()\n",
    "M.plot(rotate=(30,-45))\n",
    "M.plotx(xs,v,linewidth = 1.5, s=50)\n",
    "plt.show()"
   ]
  },
  {
   "cell_type": "markdown",
   "metadata": {},
   "source": [
    "### Geodesics from Hamiltonian equations"
   ]
  },
  {
   "cell_type": "code",
   "execution_count": null,
   "metadata": {
    "collapsed": true,
    "scrolled": false
   },
   "outputs": [],
   "source": [
    "# Hamiltonian dynamics\n",
    "q = x\n",
    "print(M.Hf(q,p))\n",
    "from src.dynamics import Hamiltonian\n",
    "Hamiltonian.initialize(M)\n",
    "\n",
    "# geodesic\n",
    "qs = M.Exp_Hamiltoniantf(q,p).T\n",
    "newfig()\n",
    "%matplotlib inline\n",
    "M.plot(rotate=(30,-45))\n",
    "M.plotx(qs,v,linewidth=1.5,s=50)\n",
    "plt.show()\n",
    "#plt.savefig(\"geodesicOnSphere.pdf\")\n",
    "(ts,qps) = M.Hamiltonian_dynamicsf(q,p)\n",
    "ps = qps[:,1,:]\n",
    "print(\"Energy: \",np.array([M.Hf(q,p) for (q,p) in zip(qs,ps)]))\n",
    "\n",
    "# plot geodesic on R^2\n",
    "%matplotlib inline\n",
    "plt.figure()\n",
    "M.plotR2x(qs,v)\n",
    "plt.show()"
   ]
  },
  {
   "cell_type": "markdown",
   "metadata": {},
   "source": [
    "## Curvature"
   ]
  },
  {
   "cell_type": "code",
   "execution_count": null,
   "metadata": {
    "collapsed": true
   },
   "outputs": [],
   "source": [
    "from src.Riemannian import curvature\n",
    "curvature.initialize(M)\n",
    "print(\"curvature = \", M.Rf(x))"
   ]
  },
  {
   "cell_type": "markdown",
   "metadata": {},
   "source": [
    "## Parallel Transport"
   ]
  },
  {
   "cell_type": "code",
   "execution_count": null,
   "metadata": {
    "collapsed": true
   },
   "outputs": [],
   "source": [
    "# Parallel transport\n",
    "from src.Riemannian import parallel_transport\n",
    "parallel_transport.initialize(M)\n",
    "\n",
    "v = np.array([-1./2,-1./2])\n",
    "v = v/M.normf(x,v)\n",
    "t = np.linspace(0,1,n_steps.get_value())\n",
    "gamma = np.vstack([t**2,-np.sin(t)]).T\n",
    "dgamma = np.vstack([2*t,np.cos(t)]).T\n",
    "\n",
    "# test parallel transport\n",
    "vt = M.parallel_transportf(v,gamma,dgamma)\n",
    "# plot of result\n",
    "M.plot(rotate=(30,-45))\n",
    "M.plotx(gamma,v=vt)\n",
    "plt.show()\n",
    "#plt.savefig(\"partrans.pdf\")"
   ]
  },
  {
   "cell_type": "markdown",
   "metadata": {},
   "source": [
    "## Brownian Motion"
   ]
  },
  {
   "cell_type": "code",
   "execution_count": null,
   "metadata": {
    "collapsed": true
   },
   "outputs": [],
   "source": [
    "# coordinate form\n",
    "from src.stochastics import Brownian_coords\n",
    "Brownian_coords.initialize(M)\n",
    "\n",
    "(ts,xs) = M.Brownian_coordsf(x,dWsf(M.dim.eval()))\n",
    "newfig()\n",
    "M.plot()\n",
    "M.plotx(xs)\n",
    "plt.show()"
   ]
  },
  {
   "cell_type": "code",
   "execution_count": null,
   "metadata": {
    "collapsed": true
   },
   "outputs": [],
   "source": [
    "# Brownian Motion from stochastic development\n",
    "from src.stochastic import Stochastic_Development\n",
    "from src.stochastic import Brownian_Stochastic_Development\n",
    "Brownian_Stochastic_Development.initialize(M)\n",
    "# test Simulation of Brownian Motion\n",
    "qsv = SD_brownian(q0)\n",
    "newfig()\n",
    "plotM()\n",
    "plotFMx(qsv,)\n",
    "plt.show()"
   ]
  }
 ],
 "metadata": {
  "kernelspec": {
   "display_name": "Python 2",
   "language": "python",
   "name": "python2"
  },
  "language_info": {
   "codemirror_mode": {
    "name": "ipython",
    "version": 2
   },
   "file_extension": ".py",
   "mimetype": "text/x-python",
   "name": "python",
   "nbconvert_exporter": "python",
   "pygments_lexer": "ipython2",
   "version": "2.7.12"
  }
 },
 "nbformat": 4,
 "nbformat_minor": 1
}
