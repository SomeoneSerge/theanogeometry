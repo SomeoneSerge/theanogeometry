{
 "cells": [
  {
   "cell_type": "code",
   "execution_count": null,
   "metadata": {},
   "outputs": [],
   "source": [
    "# # This file is part of Theano Geometry\n",
    "#\n",
    "# Copyright (C) 2017, Stefan Sommer (sommer@di.ku.dk)\n",
    "# https://bitbucket.org/stefansommer/theanogemetry\n",
    "#\n",
    "# Theano Geometry is free software: you can redistribute it and/or modify\n",
    "# it under the terms of the GNU General Public License as published by\n",
    "# the Free Software Foundation, either version 3 of the License, or\n",
    "# (at your option) any later version.\n",
    "#\n",
    "# Theano Geometry is distributed in the hope that it will be useful,\n",
    "# but WITHOUT ANY WARRANTY; without even the implied warranty of\n",
    "# MERCHANTABILITY or FITNESS FOR A PARTICULAR PURPOSE.  See the\n",
    "# GNU General Public License for more details.\n",
    "#\n",
    "# You should have received a copy of the GNU General Public License\n",
    "# along with Theano Geometry. If not, see <http://www.gnu.org/licenses/>.\n",
    "#"
   ]
  },
  {
   "cell_type": "markdown",
   "metadata": {},
   "source": [
    "# $\\mathbb{S}^2$ Sphere Geometry"
   ]
  },
  {
   "cell_type": "code",
   "execution_count": null,
   "metadata": {},
   "outputs": [],
   "source": [
    "from src.manifolds.S2 import *\n",
    "M = S2()\n",
    "print(M)\n",
    "\n",
    "from src.plotting import *\n",
    "#%matplotlib notebook"
   ]
  },
  {
   "cell_type": "code",
   "execution_count": null,
   "metadata": {},
   "outputs": [],
   "source": [
    "# Riemannian structure\n",
    "from src.Riemannian import metric\n",
    "metric.initialize(M)\n",
    "\n",
    "# element, tangent vector and covector\n",
    "x = np.array([0.,0.])\n",
    "v = np.array([1.,0.])\n",
    "p = M.flatf(x,v)\n",
    "\n",
    "print(\"x = \", x)\n",
    "print(\"v = \", v)\n",
    "print(\"p = \", p)"
   ]
  },
  {
   "cell_type": "markdown",
   "metadata": {},
   "source": [
    "## Riemannian Geodesics"
   ]
  },
  {
   "cell_type": "code",
   "execution_count": null,
   "metadata": {},
   "outputs": [],
   "source": [
    "# 2nd order geodesic equation\n",
    "from src.Riemannian import geodesic\n",
    "geodesic.initialize(M)\n",
    "\n",
    "# compute geodesics\n",
    "xs = M.Exptf(x,v)\n",
    "\n",
    "# plot\n",
    "newfig()\n",
    "M.plot()\n",
    "M.plot()\n",
    "M.plotx(xs,v,linewidth = 1.5, s=50)\n",
    "plt.show()"
   ]
  },
  {
   "cell_type": "markdown",
   "metadata": {},
   "source": [
    "### Geodesics from Hamiltonian equations"
   ]
  },
  {
   "cell_type": "code",
   "execution_count": null,
   "metadata": {
    "scrolled": false
   },
   "outputs": [],
   "source": [
    "# Hamiltonian dynamics\n",
    "q = x\n",
    "print(M.Hf(q,p))\n",
    "\n",
    "from src.dynamics import Hamiltonian\n",
    "Hamiltonian.initialize(M)\n",
    "\n",
    "# Exponential map from Hamiltonian equations\n",
    "qs = M.Exp_Hamiltoniantf(q,p).T\n",
    "\n",
    "# plot\n",
    "newfig()\n",
    "M.plot()\n",
    "M.plotx(qs,v)\n",
    "plt.show()\n",
    "\n",
    "# dynamics returning both position and momentum\n",
    "(ts,qps) = M.Hamiltonian_dynamicsf(q,p)\n",
    "ps = qps[:,1,:]\n",
    "print(\"Energy: \",np.array([M.Hf(q,p) for (q,p) in zip(qs,ps)]))"
   ]
  },
  {
   "cell_type": "markdown",
   "metadata": {},
   "source": [
    "## Curvature"
   ]
  },
  {
   "cell_type": "code",
   "execution_count": null,
   "metadata": {},
   "outputs": [],
   "source": [
    "from src.Riemannian import curvature\n",
    "curvature.initialize(M)\n",
    "# Curvature tensor, Ricci and scalar curvature:\n",
    "print(\"curvature = \", M.Rf(x))\n",
    "print(\"Ricci curvature = \", M.Ricci_curvf(x))\n",
    "print(\"Scalar curvature = \", M.S_curvf(x))\n",
    "\n",
    "# Orthonormal basis under g:\n",
    "nu = M.gramSchmidt(x,np.eye(2)) # or nu = np.linalg.cholesky(M.gsharpf(x))\n",
    "\n",
    "# Sectional Curvature\n",
    "print(\"sectional curvature = \",M.sec_curvf(x,nu[:,0],nu[:,1]))"
   ]
  },
  {
   "cell_type": "markdown",
   "metadata": {},
   "source": [
    "## Parallel Transport"
   ]
  },
  {
   "cell_type": "code",
   "execution_count": null,
   "metadata": {},
   "outputs": [],
   "source": [
    "# Parallel transport\n",
    "from src.Riemannian import parallel_transport\n",
    "parallel_transport.initialize(M)\n",
    "\n",
    "v = np.array([-1./2,-1./2])\n",
    "v = v/M.normf(x,v)\n",
    "t = np.linspace(0,1,n_steps.get_value())\n",
    "gamma = np.vstack([t**2,-np.sin(t)]).T\n",
    "dgamma = np.vstack([2*t,-np.cos(t)]).T\n",
    "\n",
    "# compute  parallel transport\n",
    "vt = M.parallel_transportf(v,gamma,dgamma)\n",
    "\n",
    "# plot result\n",
    "newfig()\n",
    "M.plot()\n",
    "M.plotx(gamma,v=vt)\n",
    "plt.show()"
   ]
  },
  {
   "cell_type": "markdown",
   "metadata": {},
   "source": [
    "## Brownian Motion"
   ]
  },
  {
   "cell_type": "code",
   "execution_count": null,
   "metadata": {},
   "outputs": [],
   "source": [
    "# coordinate form\n",
    "from src.stochastics import Brownian_coords\n",
    "Brownian_coords.initialize(M)\n",
    "\n",
    "n_steps.set_value(1000)\n",
    "(ts,xs) = M.Brownian_coordsf(x,dWsf(M.dim.eval()))\n",
    "\n",
    "# plot\n",
    "newfig()\n",
    "M.plot()\n",
    "M.plotx(xs)\n",
    "plt.show()"
   ]
  },
  {
   "cell_type": "code",
   "execution_count": null,
   "metadata": {},
   "outputs": [],
   "source": [
    "# coordinate form\n",
    "from src.stochastics import Brownian_coords\n",
    "Brownian_coords.initialize(M)\n",
    "\n",
    "n_steps.set_value(1000)\n",
    "W = 0.5*dWsf(M.dim.eval())\n",
    "(ts,xs) = M.Brownian_coordsf(x0,W)#dWsf(M.dim.eval()))\n",
    "\n",
    "# plot\n",
    "newfig()\n",
    "M.plot()\n",
    "M.plotx(xs)\n",
    "plt.show()"
   ]
  },
  {
   "cell_type": "code",
   "execution_count": null,
   "metadata": {
    "scrolled": false
   },
   "outputs": [],
   "source": [
    "# Brownian Motion from stochastic development\n",
    "#from src.framebundle import FM\n",
    "#from src.stochastics import stochastic_development\n",
    "#from src.stochastics import Brownian_development\n",
    "\n",
    "#FM.initialize(M)\n",
    "#stochastic_development.initialize(M)\n",
    "#Brownian_development.initialize(M)\n",
    "\n",
    "# simulate Brownian Motion\n",
    "(ts,xsv) = M.Brownian_developmentf(x0,W)\n",
    "\n",
    "# plot\n",
    "newfig()\n",
    "M.plot()\n",
    "M.plotx(xsv)\n",
    "plt.show()"
   ]
  },
  {
   "cell_type": "code",
   "execution_count": null,
   "metadata": {},
   "outputs": [],
   "source": [
    "x = M.element()\n",
    "dW = M.element()\n",
    "t = T.scalar()\n",
    "\n",
    "def sde_Brownian_coords2(dW,t,x):\n",
    "    gsharpx = M.gsharp(x)\n",
    "    X = theano.tensor.slinalg.Cholesky()(gsharpx)\n",
    "    det = -1./2*T.tensordot(gsharpx,M.Gamma_g(x),((0,1),(0,1)))\n",
    "    sto = T.tensordot(X,dW,(1,0))\n",
    "    return (det,sto,X)\n",
    "M.sde_Brownian_coords2 = sde_Brownian_coords2\n",
    "M.sde_Brownian_coordsf2 = theano.function([dW,t,x], M.sde_Brownian_coords2(dW,t,x), on_unused_input = 'ignore') \n",
    "M.Brownian_coords2 = lambda x,dWt: integrate_sde(sde_Brownian_coords2,integrator_,x,dWt)\n",
    "M.Brownian_coordsf2 = theano.function([x,dWt], M.Brownian_coords2(x,dWt))"
   ]
  },
  {
   "cell_type": "code",
   "execution_count": null,
   "metadata": {},
   "outputs": [],
   "source": [
    "#n_steps.set_value(1000)\n",
    "#W = dWsf(M.dim.eval())\n",
    "x0 = np.array([0.,0.])\n",
    "(ts,xs) = M.Brownian_coordsf2(x0,W)#dWsf(M.dim.eval()))\n",
    "\n",
    "# plot\n",
    "newfig()\n",
    "M.plot()\n",
    "M.plotx(xs)\n",
    "plt.show()"
   ]
  },
  {
   "cell_type": "code",
   "execution_count": null,
   "metadata": {},
   "outputs": [],
   "source": [
    "# Delyon/Hu guided process\n",
    "from src.stochastics.guided_process import *\n",
    "\n",
    "# guide function\n",
    "Cholesky = T.slinalg.Cholesky()\n",
    "# phi = lambda q,v: T.tensordot(T.nlinalg.MatrixInverse()(Cholesky(M.gsharp(q))),-(q-v).flatten(),(1,0))\n",
    "phi = lambda q,v: T.tensordot(Cholesky(M.gsharp(q)).T,-(q-v).flatten(),(1,0))\n",
    "x0 = M.element()\n",
    "(Brownian_coords_guided,Brownian_coords_guidedf) = get_guided_likelihood(M,M.sde_Brownian_coords,phi,lambda x: Cholesky(M.gsharp(x)),x0)\n",
    "\n",
    "n_steps.set_value(1000)\n",
    "\n",
    "w = M.Exptf(x,np.array([.8,-.5]))[-1]\n",
    "(ts,xs,log_likelihood,log_varphi) = Brownian_coords_guidedf(x,w,dWsf(M.dim.eval()))[:4]\n",
    "print(\"log likelihood: \", log_likelihood[-1], \", log varphi: \", log_varphi[-1])\n",
    "\n",
    "# plot\n",
    "newfig()\n",
    "M.plot()\n",
    "M.plotx(xs)\n",
    "M.plotx(x,color='r',s=150)\n",
    "M.plotx(w,color='k',s=150)\n",
    "plt.show()"
   ]
  },
  {
   "cell_type": "code",
   "execution_count": null,
   "metadata": {},
   "outputs": [],
   "source": []
  }
 ],
 "metadata": {
  "kernelspec": {
   "display_name": "Python 3",
   "language": "python",
   "name": "python3"
  },
  "language_info": {
   "codemirror_mode": {
    "name": "ipython",
    "version": 3
   },
   "file_extension": ".py",
   "mimetype": "text/x-python",
   "name": "python",
   "nbconvert_exporter": "python",
   "pygments_lexer": "ipython3",
   "version": "3.5.2"
  }
 },
 "nbformat": 4,
 "nbformat_minor": 1
}
