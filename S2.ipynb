{
 "cells": [
  {
   "cell_type": "code",
   "execution_count": null,
   "metadata": {
    "collapsed": true
   },
   "outputs": [],
   "source": [
    "# S2 Sphere Geometry"
   ]
  },
  {
   "cell_type": "code",
   "execution_count": null,
   "metadata": {},
   "outputs": [],
   "source": [
    "import src.params as params\n",
    "params.manifold = 'S2'"
   ]
  },
  {
   "cell_type": "code",
   "execution_count": null,
   "metadata": {},
   "outputs": [],
   "source": [
    "from src.manifold import *\n",
    "from src.metric import *\n",
    "\n",
    "from src.plotting import *\n",
    "%matplotlib inline\n",
    "plt.rcParams['figure.figsize'] = 7, 7"
   ]
  },
  {
   "cell_type": "code",
   "execution_count": null,
   "metadata": {},
   "outputs": [],
   "source": [
    "# Observation and frame\n",
    "ellipsoid.set_value(np.array([1,1,1]))\n",
    "q0 = np.array([0.,0.]).astype(theano.config.floatX)\n",
    "v0 = np.array([-1.,1.]).astype(theano.config.floatX)\n",
    "v0 = 2*GramSchmidt(v0,q0)\n",
    "p0 = gMflatf(q0,v0)\n",
    "\n",
    "print(\"q = \", q0)\n",
    "print(\"v = \", v0)\n",
    "print(\"p = \", p0)"
   ]
  },
  {
   "cell_type": "code",
   "execution_count": null,
   "metadata": {},
   "outputs": [],
   "source": [
    "# Curvature\n",
    "from src.curvature import *\n",
    "print(\"curvature = \", Rf(q0))"
   ]
  },
  {
   "cell_type": "markdown",
   "metadata": {},
   "source": [
    "# Geodesics"
   ]
  },
  {
   "cell_type": "markdown",
   "metadata": {},
   "source": [
    "### Geodesic equations"
   ]
  },
  {
   "cell_type": "code",
   "execution_count": null,
   "metadata": {},
   "outputs": [],
   "source": [
    "# Geodesic equation\n",
    "from src.geodesic_equation import *\n",
    "# test geodesic\n",
    "qsv = Expteqf(q0,v0)\n",
    "%matplotlib notebook\n",
    "newfig()\n",
    "plotM(rotate=(30,-45))\n",
    "plotx(qsv,v0,linewidth = 1.5, s=50)\n",
    "plt.show()\n",
    "#plt.savefig(\"/home/line/Dropbox/repos/theanodiffgeom-paper/paper/pictures/geoeqS2.pdf\")"
   ]
  },
  {
   "cell_type": "markdown",
   "metadata": {},
   "source": [
    "### Geodesics from Hamiltonian equations"
   ]
  },
  {
   "cell_type": "code",
   "execution_count": null,
   "metadata": {},
   "outputs": [],
   "source": [
    "# Hamiltonian dynamics\n",
    "from src.Hamiltonian import *\n",
    "# test Hamiltionian and gradients\n",
    "print(p0)\n",
    "print(Hf(q0,p0))\n",
    "\n",
    "# geodesic\n",
    "qsv = Exptf(q0,p0).T\n",
    "%matplotlib notebook\n",
    "newfig()\n",
    "plotM(rotate=(30,-45))\n",
    "plotx(qsv,v0,linewidth=1.5,s=50)\n",
    "plt.show()\n",
    "#plt.savefig(\"/home/line/Dropbox/repos/theanodiffgeom-paper/paper/pictures/geodesicOnSphere.pdf\")\n",
    "(ts,qpsv) = Hamf(q0,p0)\n",
    "psv = qpsv[:,1,:]\n",
    "print(\"Energy: \",np.array([Hf(q,p) for (q,p) in zip(qsv,psv)]))"
   ]
  },
  {
   "cell_type": "code",
   "execution_count": null,
   "metadata": {},
   "outputs": [],
   "source": [
    "# geodesic on R^2\n",
    "#%matplotlib inline\n",
    "plotR2x(qsv,v0)"
   ]
  },
  {
   "cell_type": "markdown",
   "metadata": {},
   "source": [
    "# Geodesic on Frame bundle:"
   ]
  },
  {
   "cell_type": "code",
   "execution_count": null,
   "metadata": {},
   "outputs": [],
   "source": [
    "# Observation\n",
    "x0 = np.array([0.,0.]).astype(theano.config.floatX)\n",
    "\n",
    "# Frame\n",
    "v0 = np.array([[1.,-1.],[-1.,-1.]]).astype(theano.config.floatX)\n",
    "ui0 = GramSchmidt(v0,x0) #sp.linalg.orth(v0) # Gram-Schmidt\n",
    "#ui0 = np.linalg.solve(sp.linalg.sqrtm(gMf(x0)),v0)\n",
    "q0 = np.hstack([x0,ui0.flatten()]).astype(theano.config.floatX)\n",
    "print(\"q = \", q0)\n",
    "\n",
    "# Moment vector:\n",
    "xi0 = 3*np.array([1,-1]).astype(theano.config.floatX)\n",
    "xia = 6*np.array([1,0,1,0]).astype(theano.config.floatX)\n",
    "\n",
    "p0 = np.hstack([xi0,xia]).astype(theano.config.floatX)\n",
    "print(\"p = \", p0)"
   ]
  },
  {
   "cell_type": "code",
   "execution_count": null,
   "metadata": {},
   "outputs": [],
   "source": [
    "# Hamiltonian dynamics\n",
    "from src.FM import *\n",
    "# test Hamiltionian and gradients\n",
    "print(p0)\n",
    "print(Hfmf(q0,p0))\n",
    "\n",
    "# geodesic\n",
    "qsv = Exptfmf(q0,p0).T\n",
    "#%matplotlib notebook\n",
    "newfig()\n",
    "plotM(rotate=(30,-20))\n",
    "plotFMx(qsv,N_vec=5,linewidth=1.5,s=50)\n",
    "plt.show()\n",
    "#plt.savefig(\"/home/line/Dropbox/repos/theanodiffgeom-paper/paper/pictures/geodesicOnFMwspin.pdf\")\n",
    "(ts,qpsv) = Hamfmf(q0,p0)\n",
    "psv = qpsv[:,1,:]\n",
    "print(\"Energy: \",np.array([Hfmf(q,p) for (q,p) in zip(qsv,psv)]))"
   ]
  },
  {
   "cell_type": "code",
   "execution_count": null,
   "metadata": {},
   "outputs": [],
   "source": [
    "#%matplotlib inline\n",
    "plotR2FMx(qsv,N_vec=5)"
   ]
  },
  {
   "cell_type": "markdown",
   "metadata": {},
   "source": [
    "# Curvature on FM"
   ]
  },
  {
   "cell_type": "code",
   "execution_count": null,
   "metadata": {
    "collapsed": true
   },
   "outputs": [],
   "source": [
    "import matplotlib.cm as cm\n",
    "def plotCur2(q,v0,v1,color='b'):\n",
    "\n",
    "        x = q[0:d.eval()]\n",
    "        ui = q[d.eval():].reshape((d.eval(),2))\n",
    "        \n",
    "        xq = x\n",
    "        if x.shape[0] < 3: # map to S2\n",
    "            x = Ff(x)\n",
    "         \n",
    "        ax = plt.gca(projection='3d')\n",
    "        ax.scatter(x[0],x[1],x[2],color=color)\n",
    "\n",
    "        # Frame along curve:\n",
    "        curm = np.tensordot(np.tensordot(R_uif(xq,ui), v0, axes = [0,0]), v1, axes = [0,0])\n",
    "        colors = cm.rainbow(np.linspace(0, 1, d.eval()))\n",
    "        for j in range(d.eval()):\n",
    "            JFgammai = JFf(xq)\n",
    "            uiq = np.dot(JFgammai,ui[j,:])\n",
    "            curV = np.dot(JFgammai,curm[j,:])\n",
    "            ax.quiver(x[0],x[1],x[2],uiq[0],uiq[1],uiq[2], pivot='tail',\n",
    "                      arrow_length_ratio = 0.15, linewidths=1.5,\n",
    "                      color=colors[j],normalize=True,length=1.5*np.linalg.norm(uiq)/2)\n",
    "            #end_Hvecq = (x + uiq/2)\n",
    "            ax.quiver(x[0],x[1],x[2],\n",
    "                      curV[0],curV[1],curV[2], pivot='tail',\n",
    "                      arrow_length_ratio = 0.15, linewidths=2,\n",
    "                      color=colors[j],normalize=True,length=np.linalg.norm(uiq)/2)"
   ]
  },
  {
   "cell_type": "code",
   "execution_count": null,
   "metadata": {},
   "outputs": [],
   "source": [
    "# Hamiltonian dynamics\n",
    "from src.curvature import *\n",
    "\n",
    "# Curvature\n",
    "cur = R_uif(x0,ui0)\n",
    "\n",
    "v0 = np.array([1,0])\n",
    "v1 = np.array([0,1])\n",
    "curm = np.tensordot(np.tensordot(cur, ui0[:,0], axes = [0,0]), ui0[:,1], axes = [0,0])\n",
    "print(\"curvature = \", curm)\n",
    "\n",
    "# Plot of curvature:\n",
    "#%matplotlib notebook\n",
    "newfig()\n",
    "plotM(rotate=(50,-40))\n",
    "plotCur2(q0,ui0[0,:],ui0[1,:])\n",
    "plt.show()\n",
    "#plt.savefig(\"/home/line/Dropbox/repos/theanodiffgeom-paper/paper/pictures/Curvature.pdf\")"
   ]
  },
  {
   "cell_type": "markdown",
   "metadata": {},
   "source": [
    "# Most Probable Pahts"
   ]
  },
  {
   "cell_type": "code",
   "execution_count": null,
   "metadata": {},
   "outputs": [],
   "source": [
    "# Hamilhttp://localhost:8888/notebooks/S2.ipynb#tonian dynamics\n",
    "from src.FM import *\n",
    "\n",
    "x1 = np.array([0,0])\n",
    "x2 = np.array([0.5,-0.5])\n",
    "\n",
    "v0 = np.array([[1./3,0.],[0.,1./3]]).astype(theano.config.floatX)\n",
    "ui0 = GramSchmidt(v0,x1)\n",
    "q1 = np.hstack([x1,ui0.flatten()]).astype(theano.config.floatX)\n",
    "print(\"q = \", q1)\n",
    "\n",
    "xi0 = np.array([1,0]).astype(theano.config.floatX)\n",
    "xia = np.array([0,0,0,0]).astype(theano.config.floatX)\n",
    "\n",
    "p0 = np.hstack([xi0,xia]).astype(theano.config.floatX)\n",
    "print(\"p = \",p0)"
   ]
  },
  {
   "cell_type": "code",
   "execution_count": null,
   "metadata": {},
   "outputs": [],
   "source": [
    "# Tangent vector giving the MPP:\n",
    "Hor_v = Logfm(q1,x2)\n",
    "\n",
    "# MPP from q1 to x2:\n",
    "qsv = Exptfmf(q1,gMflatf(q1,Hor_v)).T\n",
    "\n",
    "#%matplotlib notebook\n",
    "#%matplotlib inline\n",
    "newfig()\n",
    "ax = plt.gca(projection='3d')\n",
    "plotM(rotate=(30,-20))\n",
    "plotFMx(qsv,N_vec=5,linewidth=1.5,s=50)\n",
    "xq = Ff(x2)\n",
    "ax.scatter(xq[0],xq[1],xq[2],color='r')\n",
    "plt.show()\n",
    "#plt.savefig(\"/home/line/Dropbox/repos/theanodiffgeom-paper/paper/pictures/MPP.pdf\")"
   ]
  },
  {
   "cell_type": "markdown",
   "metadata": {},
   "source": [
    "# Parallel Transport"
   ]
  },
  {
   "cell_type": "code",
   "execution_count": null,
   "metadata": {},
   "outputs": [],
   "source": [
    "v0 = np.array([-1./2,-1./2])\n",
    "v0 = v0/np.linalg.norm(v0)\n",
    "t = np.linspace(0,1,n_steps.get_value())\n",
    "gamma0 = np.vstack([t**2,-np.sin(t)]).T\n",
    "dgamma0 = np.vstack([2*t,np.cos(t)]).T\n",
    "\n",
    "# MAKE STOCHASTIC DEVELOPMENT OF GAMMA!!!!!\n",
    "from src.Stochastic_Development import *\n",
    "\n",
    "x0 = np.array([0,0])\n",
    "ui0 = np.array([[1./3,0.],[0.,1./3]]).astype(theano.config.floatX)\n",
    "ui0 = GramSchmidt(ui0,x0)\n",
    "start = time.time()\n",
    "qsv = devf(q0,dgamma0)\n",
    "diff = time.time() - start\n",
    "print(\"Time for development = \", diff)"
   ]
  },
  {
   "cell_type": "code",
   "execution_count": 2,
   "metadata": {},
   "outputs": [
    {
     "ename": "NameError",
     "evalue": "name 'qsv' is not defined",
     "output_type": "error",
     "traceback": [
      "\u001b[0;31m---------------------------------------------------------------------------\u001b[0m",
      "\u001b[0;31mNameError\u001b[0m                                 Traceback (most recent call last)",
      "\u001b[0;32m<ipython-input-2-e203f87163cc>\u001b[0m in \u001b[0;36m<module>\u001b[0;34m()\u001b[0m\n\u001b[0;32m----> 1\u001b[0;31m \u001b[0mgammaM\u001b[0m \u001b[0;34m=\u001b[0m \u001b[0mqsv\u001b[0m\u001b[0;34m[\u001b[0m\u001b[0;34m:\u001b[0m\u001b[0;34m,\u001b[0m\u001b[0;36m0\u001b[0m\u001b[0;34m:\u001b[0m\u001b[0md\u001b[0m\u001b[0;34m.\u001b[0m\u001b[0meval\u001b[0m\u001b[0;34m(\u001b[0m\u001b[0;34m)\u001b[0m\u001b[0;34m]\u001b[0m\u001b[0;34m.\u001b[0m\u001b[0mshape\u001b[0m\u001b[0;34m\u001b[0m\u001b[0m\n\u001b[0m\u001b[1;32m      2\u001b[0m \u001b[0;31m# Parallel transport\u001b[0m\u001b[0;34m\u001b[0m\u001b[0;34m\u001b[0m\u001b[0m\n\u001b[1;32m      3\u001b[0m \u001b[0;32mfrom\u001b[0m \u001b[0msrc\u001b[0m\u001b[0;34m.\u001b[0m\u001b[0mparallel_transport\u001b[0m \u001b[0;32mimport\u001b[0m \u001b[0;34m*\u001b[0m\u001b[0;34m\u001b[0m\u001b[0m\n\u001b[1;32m      4\u001b[0m \u001b[0;31m# test parallel transport\u001b[0m\u001b[0;34m\u001b[0m\u001b[0;34m\u001b[0m\u001b[0m\n\u001b[1;32m      5\u001b[0m \u001b[0mvt\u001b[0m \u001b[0;34m=\u001b[0m \u001b[0mpartransf\u001b[0m\u001b[0;34m(\u001b[0m\u001b[0mv0\u001b[0m\u001b[0;34m,\u001b[0m\u001b[0mgamma0\u001b[0m\u001b[0;34m,\u001b[0m\u001b[0mdgamma0\u001b[0m\u001b[0;34m)\u001b[0m\u001b[0;34m\u001b[0m\u001b[0m\n",
      "\u001b[0;31mNameError\u001b[0m: name 'qsv' is not defined"
     ]
    }
   ],
   "source": [
    "# Parallel transport\n",
    "from src.parallel_transport import *\n",
    "# test parallel transport\n",
    "vt = partransf(v0,gamma0,dgamma0)\n",
    "# plot of result\n",
    "%matplotlib notebook\n",
    "newfig()\n",
    "plotM(rotate=(30,-45))\n",
    "plotpar(gamma0,vt,v0)\n",
    "plt.show()\n",
    "#plt.savefig(\"/home/line/Dropbox/repos/theanodiffgeom-paper/paper/pictures/partrans.pdf\")"
   ]
  },
  {
   "cell_type": "markdown",
   "metadata": {},
   "source": [
    "# Development and Stochastic Development"
   ]
  },
  {
   "cell_type": "markdown",
   "metadata": {},
   "source": [
    "### Development"
   ]
  },
  {
   "cell_type": "code",
   "execution_count": null,
   "metadata": {},
   "outputs": [],
   "source": [
    "n_steps.set_value(100)\n",
    "# Observation and frame\n",
    "x0 = np.array([0.1,0.1]).astype(theano.config.floatX)\n",
    "\n",
    "# Frame\n",
    "v0 = np.array([[1,-1],[0,-1]]).astype(theano.config.floatX)\n",
    "ui0 = 2*GramSchmidt(v0,x0)#sp.linalg.orth(v0) # Gramm-Schmidt!!\n",
    "\n",
    "Rot = np.array([[np.cos(45),np.sin(45)],[-np.sin(45),np.cos(45)]])\n",
    "ui0 = np.dot(Rot,ui0)\n",
    "q0 = np.hstack([x0.flatten(),ui0.flatten()]).astype(theano.config.floatX)\n",
    "print(\"q = \", q0)\n",
    "\n",
    "# Curve in R^2:\n",
    "t = np.linspace(0,10,n_steps.get_value()+1)\n",
    "gamma0 = np.vstack([20*np.sin(t), t**2 + 2*t]).T\n",
    "dgamma0 = np.diff(gamma0, axis = 0)\n",
    "print(\"dgamma.shape =\", dgamma0.shape)"
   ]
  },
  {
   "cell_type": "code",
   "execution_count": null,
   "metadata": {},
   "outputs": [],
   "source": [
    "%matplotlib inline\n",
    "plt.plot(gamma0[:,0],gamma0[:,1])\n",
    "plt.plot(gamma0[0,0],gamma0[0,1], 'ro')\n",
    "plt.plot(gamma0[-1,0],gamma0[-1,1],'go')\n",
    "plt.axis((-21,21,-11,131))"
   ]
  },
  {
   "cell_type": "code",
   "execution_count": null,
   "metadata": {},
   "outputs": [],
   "source": [
    "# Development dynamics\n",
    "from src.Stochastic_Development import *\n",
    "# test deterministic development\n",
    "qsv = devf(q0,dgamma0)\n",
    "#%matplotlib notebook\n",
    "newfig()\n",
    "plotM(rotate=(30,-45))\n",
    "plotFMx(qsv,linewidth=1.5,s=50)\n",
    "plt.show()\n",
    "#plt.savefig(\"/home/line/Dropbox/repos/theanodiffgeom-paper/paper/pictures/development.pdf\")"
   ]
  },
  {
   "cell_type": "markdown",
   "metadata": {},
   "source": [
    "### Stochastic Development"
   ]
  },
  {
   "cell_type": "code",
   "execution_count": null,
   "metadata": {},
   "outputs": [],
   "source": [
    "n_steps.set_value(1000)\n",
    "x0 = np.array([0.,0.]).astype(theano.config.floatX)\n",
    "\n",
    "v0 = np.array([[1.,-1],[1,1]]).astype(theano.config.floatX)\n",
    "ui0 = GramSchmidt(v0,x0)#sp.linalg.orth(v0) # Gramm-Schmidt!!\n",
    "print(\"x = \", x0)\n",
    "print(\"ui = \", ui0)\n",
    "\n",
    "q0 = np.hstack([x0.flatten(),ui0.flatten()]).astype(theano.config.floatX)\n",
    "print(\"q = \", q0)\n",
    "\n",
    "dWt0 = np.random.normal(0, np.sqrt(dt.eval()), (n_steps.get_value(),2))\n",
    "drift0 = np.array([0.5,0.5])"
   ]
  },
  {
   "cell_type": "code",
   "execution_count": null,
   "metadata": {},
   "outputs": [],
   "source": [
    "# test stochastic development\n",
    "#%matplotlib notebook\n",
    "qsv = stoc_devf(q0,dWt0,drift0)\n",
    "newfig()\n",
    "plotM(rotate=(30,-45))\n",
    "plotFMx(qsv,linewidth=1.5,s=50)\n",
    "plt.show()\n",
    "#plt.savefig(\"/home/line/Dropbox/repos/theanodiffgeom-paper/paper/pictures/stocdev.pdf\")"
   ]
  },
  {
   "cell_type": "code",
   "execution_count": null,
   "metadata": {},
   "outputs": [],
   "source": [
    "%matplotlib inline\n",
    "Wt0 = np.cumsum(dWt0,axis=0)\n",
    "plt.plot(Wt0[:,0],Wt0[:,1],'b-')\n",
    "plt.plot(0,0,'go',markersize=5.)\n",
    "plt.plot(Wt0[-1,0],Wt0[-1,1],'ro')\n",
    "#plt.savefig(\"/home/line/Dropbox/repos/theanodiffgeom-paper/paper/pictures/StocP.pdf\")"
   ]
  },
  {
   "cell_type": "markdown",
   "metadata": {},
   "source": [
    "## Brownian Motions"
   ]
  },
  {
   "cell_type": "code",
   "execution_count": null,
   "metadata": {},
   "outputs": [],
   "source": [
    "# Brownian Motion dynamics\n",
    "from src.Brownian_Stochastic_Development import *\n",
    "# test Simulation of Brownian Motion\n",
    "#%matplotlib notebook\n",
    "qsv = SD_brownian(q0)\n",
    "newfig()\n",
    "plotM()\n",
    "plotFMx(qsv,)\n",
    "plt.show()"
   ]
  },
  {
   "cell_type": "code",
   "execution_count": null,
   "metadata": {},
   "outputs": [],
   "source": [
    "# Brownian motion on R^2:\n",
    "dWt0 = np.random.normal(0, np.sqrt(dt.eval()),\n",
    "                        (n_steps.get_value(),2))\n",
    "\n",
    "# Brownian Motion on S^2:\n",
    "#%matplotlib notebook\n",
    "qsv = SD_brownian(q0,2,dWt0)\n",
    "newfig()\n",
    "plotM()\n",
    "plotFMx(qsv)\n",
    "plt.show()"
   ]
  },
  {
   "cell_type": "code",
   "execution_count": null,
   "metadata": {
    "collapsed": true
   },
   "outputs": [],
   "source": [
    "# Updated until this point!"
   ]
  },
  {
   "cell_type": "markdown",
   "metadata": {},
   "source": [
    "# Horizontal Vector Fields"
   ]
  },
  {
   "cell_type": "code",
   "execution_count": null,
   "metadata": {},
   "outputs": [],
   "source": [
    "n_steps.set_value(100)\n",
    "# Observation and frame\n",
    "x0 = np.array([0.5,0.5]).astype(theano.config.floatX)\n",
    "\n",
    "# Frame\n",
    "v0 = np.array([[1,1],[0,-1]]).astype(theano.config.floatX)\n",
    "ui0 = GramSchmidt(v0,x0)#sp.linalg.orth(v0) # Gramm-Schmidt!!\n",
    "\n",
    "Rot = np.array([[np.cos(45),np.sin(45)],[-np.sin(45),np.cos(45)]])\n",
    "ui0 = np.dot(Rot,ui0)\n",
    "q0 = np.hstack([x0.flatten(),ui0.flatten()]).astype(theano.config.floatX)\n",
    "print(\"q = \", q0)\n",
    "\n",
    "t = np.linspace(0,1,n_steps.get_value())\n",
    "gamma0 = 2*np.vstack([t**2+1,-t**2-np.sin(t)]).T\n",
    "dgamma0 = 2*np.vstack([2*t,-2*t+np.cos(t)]).T"
   ]
  },
  {
   "cell_type": "code",
   "execution_count": null,
   "metadata": {
    "collapsed": true
   },
   "outputs": [],
   "source": [
    "def plotHorix(q,dgamma,i0=0,color='b',color_intensity=1.,linewidth=3.,prevx=None,last=True):\n",
    "        if len(q.shape)>1:\n",
    "            for i in range(q.shape[0]):\n",
    "                plotHorix(q[i],dgamma,i0=i,# if prevx is None else None,\n",
    "                      color=color,\n",
    "                      linewidth=linewidth if i==0 or i==q.shape[0]-1 else .8,\n",
    "                      color_intensity=color_intensity if i==0 or i==q.shape[0]-1 else .7,\n",
    "                      prevx=q[i-1] if i>0 else None,\n",
    "                      last=i==(q.shape[0]-1))\n",
    "            return\n",
    "\n",
    "        x = q[0:d.eval()]\n",
    "        ui = q[d.eval():].reshape((d.eval(),2))\n",
    "        \n",
    "        xq = x\n",
    "        if x.shape[0] < 3: # map to S2\n",
    "            x = Ff(x)\n",
    "         \n",
    "        ax = plt.gca(projection='3d')\n",
    "        if prevx is None or last:\n",
    "            ax.scatter(x[0],x[1],x[2],color=color)\n",
    "        if prevx is not None:\n",
    "            prevxx = prevx[0:d.eval()]\n",
    "            if prevxx.shape[0] < 3:\n",
    "                prevxx = Ff(prevxx)\n",
    "            xx = np.stack((prevxx,x))\n",
    "            ax.plot(xx[:,0],xx[:,1],xx[:,2],linewidth=linewidth,color=color)\n",
    "\n",
    "        # Frame along curve:\n",
    "        if i0 is 0:\n",
    "            Hvec = Horif(xq,ui)\n",
    "            for j in range(d.eval()):\n",
    "                JFgammai = JFf(xq)\n",
    "                uiq = np.dot(JFgammai,ui[j,:])\n",
    "                Hvecq = np.dot(JFgammai,Hvec[j,:])\n",
    "                ax.quiver(x[0],x[1],x[2],uiq[0],uiq[1],uiq[2], pivot='tail',\n",
    "                          arrow_length_ratio = 0.15, linewidths=1,\n",
    "                          color='black',normalize=True,length=np.linalg.norm(uiq))\n",
    "                ax.quiver(x[0],x[1],x[2],Hvecq[0],Hvecq[1],Hvecq[2], pivot='tail',\n",
    "                          arrow_length_ratio = 0.15,normalize=True,linewidths=3, length=0.5,\n",
    "                          color='red')\n",
    "                #for k in range(rank.eval()):\n",
    "                v = np.dot(Hvec[(2*j+2):(2*j+4),:],dgamma)\n",
    "                Hvecui = np.dot(JFgammai,v)\n",
    "                #Hvecui = np.dot(JFgammai,Hvec[(2*(j+1)+k),:])\n",
    "                end_Hvecq = (x + uiq)\n",
    "                ax.quiver(end_Hvecq[0],end_Hvecq[1],end_Hvecq[2],\n",
    "                          Hvecui[0],Hvecui[1],Hvecui[2], pivot='tail',linewidths=2.,\n",
    "                          normalize=True,length=0.3)\n",
    "            # velocity vector:\n",
    "            dgamma_v = np.dot(JFgammai,dgamma)\n",
    "            ax.quiver(x[0],x[1],x[2],dgamma_v[0],dgamma_v[1],dgamma_v[2], pivot='tail',\n",
    "                      arrow_length_ratio = 0.15,normalize=True,linewidths=3, length=0.7,\n",
    "                      color='green')\n",
    "                "
   ]
  },
  {
   "cell_type": "code",
   "execution_count": null,
   "metadata": {
    "scrolled": false
   },
   "outputs": [],
   "source": [
    "# Development dynamics\n",
    "from src.Stochastic_Development import *\n",
    "# test deterministic development\n",
    "qsv = devf(q0,dgamma0)\n",
    "Hori_v = Horif(x0,ui0)\n",
    "print(\"Horizontal vector fields = \", Hori_v)\n",
    "\n",
    "%matplotlib notebook\n",
    "newfig()\n",
    "plotM(rotate=(40,-45))\n",
    "dqsv = qsv[1,0:d.eval()] - qsv[0,0:d.eval()]\n",
    "plotHorix(qsv,dqsv)\n",
    "#plt.savefig(\"/home/line/Dropbox/repos/theanodiffgeom-paper/paper/pictures/Hori.pdf\")"
   ]
  },
  {
   "cell_type": "code",
   "execution_count": null,
   "metadata": {},
   "outputs": [],
   "source": [
    "print(Hori_v[d.eval():,:])\n",
    "print(np.dot(Hori_v[d.eval():(d.eval()+2),:],dgamma0[0,:]))\n",
    "print(np.dot(Hori_v[(d.eval()+2):(d.eval()+4),:],dgamma0[0,:]))"
   ]
  },
  {
   "cell_type": "code",
   "execution_count": null,
   "metadata": {},
   "outputs": [],
   "source": [
    "print(DgMf(np.array([0.,0.])))"
   ]
  }
 ],
 "metadata": {
  "kernelspec": {
   "display_name": "Python 3",
   "language": "python",
   "name": "python3"
  },
  "language_info": {
   "codemirror_mode": {
    "name": "ipython",
    "version": 3
   },
   "file_extension": ".py",
   "mimetype": "text/x-python",
   "name": "python",
   "nbconvert_exporter": "python",
   "pygments_lexer": "ipython3",
   "version": "3.5.3"
  }
 },
 "nbformat": 4,
 "nbformat_minor": 1
}
