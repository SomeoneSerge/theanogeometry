{
 "cells": [
  {
   "cell_type": "code",
   "execution_count": null,
   "metadata": {},
   "outputs": [],
   "source": [
    "# # This file is part of Theano Geometry\n",
    "#\n",
    "# Copyright (C) 2017, Stefan Sommer (sommer@di.ku.dk)\n",
    "# https://bitbucket.org/stefansommer/theanogemetry\n",
    "#\n",
    "# Theano Geometry is free software: you can redistribute it and/or modify\n",
    "# it under the terms of the GNU General Public License as published by\n",
    "# the Free Software Foundation, either version 3 of the License, or\n",
    "# (at your option) any later version.\n",
    "#\n",
    "# Theano Geometry is distributed in the hope that it will be useful,\n",
    "# but WITHOUT ANY WARRANTY; without even the implied warranty of\n",
    "# MERCHANTABILITY or FITNESS FOR A PARTICULAR PURPOSE.  See the\n",
    "# GNU General Public License for more details.\n",
    "#\n",
    "# You should have received a copy of the GNU General Public License\n",
    "# along with Theano Geometry. If not, see <http://www.gnu.org/licenses/>.\n",
    "#"
   ]
  },
  {
   "cell_type": "markdown",
   "metadata": {},
   "source": [
    "# $\\mathbb{S}^2$ Sphere Geometry"
   ]
  },
  {
   "cell_type": "code",
   "execution_count": 1,
   "metadata": {},
   "outputs": [
    {
     "name": "stderr",
     "output_type": "stream",
     "text": [
      "WARNING (theano.tensor.blas): We did not found a dynamic library into the library_dir of the library we use for blas. If you use ATLAS, make sure to compile it with dynamics library.\n"
     ]
    },
    {
     "name": "stdout",
     "output_type": "stream",
     "text": [
      "2d sphere (ellipsoid parameters [ 1.  1.  1.])\n"
     ]
    }
   ],
   "source": [
    "from src.manifolds.S2 import *\n",
    "M = S2()\n",
    "print(M)\n",
    "\n",
    "from src.plotting import *\n",
    "M.plot()"
   ]
  },
  {
   "cell_type": "code",
   "execution_count": 2,
   "metadata": {},
   "outputs": [
    {
     "name": "stdout",
     "output_type": "stream",
     "text": [
      "x =  [ 0.  0.]\n",
      "v =  [-1.  1.]\n",
      "p =  [-4.  4.]\n"
     ]
    }
   ],
   "source": [
    "# Riemannian structure\n",
    "from src.Riemannian import metric\n",
    "metric.initialize(M)\n",
    "\n",
    "# element, tangent vector and covector\n",
    "x = np.array([0.,0.])\n",
    "v = np.array([-1.,1.])\n",
    "p = M.flatf(x,v)\n",
    "\n",
    "print(\"x = \", x)\n",
    "print(\"v = \", v)\n",
    "print(\"p = \", p)"
   ]
  },
  {
   "cell_type": "markdown",
   "metadata": {},
   "source": [
    "## Riemannian Geodesics"
   ]
  },
  {
   "cell_type": "code",
   "execution_count": null,
   "metadata": {},
   "outputs": [],
   "source": [
    "# 2nd order geodesic equation\n",
    "from src.Riemannian import geodesic\n",
    "geodesic.initialize(M)\n",
    "xs = M.Exptf(x,v)\n",
    "\n",
    "%matplotlib notebook\n",
    "newfig()\n",
    "M.plot(rotate=(30,-45))\n",
    "M.plotx(xs,v,linewidth = 1.5, s=50)\n",
    "plt.show()"
   ]
  },
  {
   "cell_type": "markdown",
   "metadata": {},
   "source": [
    "### Geodesics from Hamiltonian equations"
   ]
  },
  {
   "cell_type": "code",
   "execution_count": null,
   "metadata": {
    "scrolled": false
   },
   "outputs": [],
   "source": [
    "# Hamiltonian dynamics\n",
    "q = x\n",
    "print(M.Hf(q,p))\n",
    "from src.dynamics import Hamiltonian\n",
    "Hamiltonian.initialize(M)\n",
    "\n",
    "# geodesic\n",
    "qs = M.Exp_Hamiltoniantf(q,p).T\n",
    "newfig()\n",
    "%matplotlib inline\n",
    "M.plot(rotate=(30,-45))\n",
    "M.plotx(qs,v,linewidth=1.5,s=50)\n",
    "plt.show()\n",
    "#plt.savefig(\"geodesicOnSphere.pdf\")\n",
    "(ts,qps) = M.Hamiltonian_dynamicsf(q,p)\n",
    "ps = qps[:,1,:]\n",
    "print(\"Energy: \",np.array([M.Hf(q,p) for (q,p) in zip(qs,ps)]))\n",
    "\n",
    "# plot geodesic on R^2\n",
    "%matplotlib inline\n",
    "plt.figure()\n",
    "M.plotR2x(qs,v)\n",
    "plt.show()"
   ]
  },
  {
   "cell_type": "markdown",
   "metadata": {},
   "source": [
    "## Curvature"
   ]
  },
  {
   "cell_type": "code",
   "execution_count": 3,
   "metadata": {},
   "outputs": [
    {
     "name": "stdout",
     "output_type": "stream",
     "text": [
      "curvature =  [[[[ 0.  0.]\n",
      "   [ 0.  0.]]\n",
      "\n",
      "  [[ 0.  4.]\n",
      "   [-4.  0.]]]\n",
      "\n",
      "\n",
      " [[[ 0. -4.]\n",
      "   [ 4.  0.]]\n",
      "\n",
      "  [[ 0.  0.]\n",
      "   [ 0.  0.]]]]\n"
     ]
    }
   ],
   "source": [
    "from src.Riemannian import curvature\n",
    "curvature.initialize(M)\n",
    "# Riemannian Curvature tensor:\n",
    "print(\"curvature = \", M.Rf(x))"
   ]
  },
  {
   "cell_type": "code",
   "execution_count": null,
   "metadata": {},
   "outputs": [],
   "source": [
    "def sec_curv(x,e1,e2):\n",
    "    Rm = T.tensordot(M.g(x),M.R(x), [1,0])\n",
    "    sec = T.tensordot(\n",
    "             T.tensordot(\n",
    "                 T.tensordot(\n",
    "                     T.tensordot(\n",
    "                         Rm,\n",
    "                         e1, [0,0]),\n",
    "                     e2, [0,0]),\n",
    "                 e2, [1,0]),\n",
    "             e1, [0,0])\n",
    "    return sec\n",
    "xt = M.element()\n",
    "e1 = M.vector()\n",
    "e2 = M.vector()\n",
    "sec_curvf = theano.function([xt,e1,e2], sec_curv(xt,e1,e2))"
   ]
  },
  {
   "cell_type": "code",
   "execution_count": 22,
   "metadata": {},
   "outputs": [
    {
     "name": "stdout",
     "output_type": "stream",
     "text": [
      "[ 0.5  0. ]\n",
      "1.0\n"
     ]
    }
   ],
   "source": [
    "Rijk = np.tensordot(\n",
    "         np.tensordot(\n",
    "           np.tensordot(M.Rf(x),\n",
    "                    n1, [0,0]),\n",
    "                n2, [0,0]),\n",
    "            n2, [1,0])\n",
    "print(Rijk)\n",
    "print(M.dotf(x,Rijk, n1))"
   ]
  },
  {
   "cell_type": "code",
   "execution_count": 48,
   "metadata": {},
   "outputs": [
    {
     "name": "stdout",
     "output_type": "stream",
     "text": [
      "[[[ 0.  0.]\n",
      "  [ 0.  0.]]\n",
      "\n",
      " [[ 0.  4.]\n",
      "  [-4.  0.]]]\n",
      "[[[ 0.  0.]\n",
      "  [ 0. -4.]]\n",
      "\n",
      " [[ 0.  4.]\n",
      "  [ 0.  0.]]]\n"
     ]
    }
   ],
   "source": [
    "print(M.Rf(x)[0,:,:,:])\n",
    "print(M.Rf(x)[:,:,:,0])"
   ]
  },
  {
   "cell_type": "code",
   "execution_count": 34,
   "metadata": {},
   "outputs": [
    {
     "name": "stdout",
     "output_type": "stream",
     "text": [
      "[[[[  0.   0.]\n",
      "   [  0.   0.]]\n",
      "\n",
      "  [[  0.  16.]\n",
      "   [-16.   0.]]]\n",
      "\n",
      "\n",
      " [[[  0. -16.]\n",
      "   [ 16.   0.]]\n",
      "\n",
      "  [[  0.   0.]\n",
      "   [  0.   0.]]]]\n",
      "[[[ 0.  0.]\n",
      "  [ 0.  0.]]\n",
      "\n",
      " [[ 0.  8.]\n",
      "  [-8.  0.]]]\n"
     ]
    }
   ],
   "source": [
    "Rm = np.tensordot(M.gf(x),M.Rf(x), [1,0])\n",
    "print(Rm)\n",
    "sec = np.tensordot(Rm,\n",
    "                    n1, [0,0])\n",
    "print(sec)"
   ]
  },
  {
   "cell_type": "code",
   "execution_count": 45,
   "metadata": {},
   "outputs": [
    {
     "name": "stdout",
     "output_type": "stream",
     "text": [
      "[[[1 2]\n",
      "  [3 4]]\n",
      "\n",
      " [[5 6]\n",
      "  [7 8]]]\n",
      "[[1 2]\n",
      " [3 4]]\n"
     ]
    }
   ],
   "source": [
    "A = np.array(np.arange(1,17)).reshape((2,2,2,2))\n",
    "a = np.tensordot(A,\n",
    "                   np.array([1,0]), [0,0])\n",
    "print(a)\n",
    "b = np.tensordot(a, np.array([1,0]), [0,0])\n",
    "print(b)"
   ]
  },
  {
   "cell_type": "code",
   "execution_count": 28,
   "metadata": {},
   "outputs": [
    {
     "data": {
      "text/plain": [
       "array([[ 0.,  0.],\n",
       "       [ 0.,  0.]])"
      ]
     },
     "execution_count": 28,
     "metadata": {},
     "output_type": "execute_result"
    }
   ],
   "source": [
    "Rm[0,0,:,:]"
   ]
  },
  {
   "cell_type": "code",
   "execution_count": 12,
   "metadata": {},
   "outputs": [
    {
     "data": {
      "text/plain": [
       "array([[[[  0.,   0.],\n",
       "         [  0.,   0.]],\n",
       "\n",
       "        [[  0.,  16.],\n",
       "         [-16.,   0.]]],\n",
       "\n",
       "\n",
       "       [[[  0., -16.],\n",
       "         [ 16.,   0.]],\n",
       "\n",
       "        [[  0.,   0.],\n",
       "         [  0.,   0.]]]])"
      ]
     },
     "execution_count": 12,
     "metadata": {},
     "output_type": "execute_result"
    }
   ],
   "source": [
    "np.tensordot(M.gf(x),M.Rf(x), [1,0])"
   ]
  },
  {
   "cell_type": "code",
   "execution_count": 9,
   "metadata": {},
   "outputs": [],
   "source": [
    "x = np.array([0.,0.])\n",
    "e1 = np.array([1.,0.])\n",
    "e2 = np.array([0.,1.])\n",
    "be = np.vstack([e1,e2])\n",
    "\n",
    "# Orthonormal basis under g:\n",
    "n1 = M.gramSchmidt(x,be)[:,0]\n",
    "n2 = M.gramSchmidt(x,be)[:,1]"
   ]
  },
  {
   "cell_type": "code",
   "execution_count": 16,
   "metadata": {},
   "outputs": [
    {
     "name": "stdout",
     "output_type": "stream",
     "text": [
      "-1.0\n"
     ]
    }
   ],
   "source": [
    "# Sectional Curvature\n",
    "print(sec_curvf(x,n1,n2))"
   ]
  },
  {
   "cell_type": "markdown",
   "metadata": {},
   "source": [
    "## Parallel Transport"
   ]
  },
  {
   "cell_type": "code",
   "execution_count": null,
   "metadata": {},
   "outputs": [],
   "source": [
    "# Parallel transport\n",
    "from src.Riemannian import parallel_transport\n",
    "parallel_transport.initialize(M)\n",
    "\n",
    "v = np.array([-1./2,-1./2])\n",
    "v = v/M.normf(x,v)\n",
    "t = np.linspace(0,1,n_steps.get_value())\n",
    "gamma = np.vstack([t**2,-np.sin(t)]).T\n",
    "dgamma = np.vstack([2*t,np.cos(t)]).T\n",
    "\n",
    "# test parallel transport\n",
    "vt = M.parallel_transportf(v,gamma,dgamma)\n",
    "# plot of result\n",
    "M.plot(rotate=(30,-45))\n",
    "M.plotx(gamma,v=vt)\n",
    "plt.show()\n",
    "#plt.savefig(\"partrans.pdf\")"
   ]
  },
  {
   "cell_type": "markdown",
   "metadata": {},
   "source": [
    "## Brownian Motion"
   ]
  },
  {
   "cell_type": "code",
   "execution_count": null,
   "metadata": {},
   "outputs": [],
   "source": [
    "# coordinate form\n",
    "from src.stochastics import Brownian_coords\n",
    "Brownian_coords.initialize(M)\n",
    "\n",
    "(ts,xs) = M.Brownian_coordsf(x,dWsf(M.dim.eval()))\n",
    "newfig()\n",
    "M.plot()\n",
    "M.plotx(xs)\n",
    "plt.show()"
   ]
  },
  {
   "cell_type": "code",
   "execution_count": null,
   "metadata": {},
   "outputs": [],
   "source": [
    "# Brownian Motion from stochastic development\n",
    "from src.stochastic import Stochastic_Development\n",
    "from src.stochastic import Brownian_Stochastic_Development\n",
    "Brownian_Stochastic_Development.initialize(M)\n",
    "# test Simulation of Brownian Motion\n",
    "qsv = SD_brownian(q0)\n",
    "newfig()\n",
    "plotM()\n",
    "plotFMx(qsv,)\n",
    "plt.show()"
   ]
  }
 ],
 "metadata": {
  "kernelspec": {
   "display_name": "Python 3",
   "language": "python",
   "name": "python3"
  },
  "language_info": {
   "codemirror_mode": {
    "name": "ipython",
    "version": 3
   },
   "file_extension": ".py",
   "mimetype": "text/x-python",
   "name": "python",
   "nbconvert_exporter": "python",
   "pygments_lexer": "ipython3",
   "version": "3.5.2"
  }
 },
 "nbformat": 4,
 "nbformat_minor": 1
}
