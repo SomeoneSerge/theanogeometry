{
 "cells": [
  {
   "cell_type": "code",
   "execution_count": null,
   "metadata": {},
   "outputs": [],
   "source": [
    "# # This file is part of Theano Geometry\n",
    "#\n",
    "# Copyright (C) 2017, Stefan Sommer (sommer@di.ku.dk)\n",
    "# https://bitbucket.org/stefansommer/theanogemetry\n",
    "#\n",
    "# Theano Geometry is free software: you can redistribute it and/or modify\n",
    "# it under the terms of the GNU General Public License as published by\n",
    "# the Free Software Foundation, either version 3 of the License, or\n",
    "# (at your option) any later version.\n",
    "#\n",
    "# Theano Geometry is distributed in the hope that it will be useful,\n",
    "# but WITHOUT ANY WARRANTY; without even the implied warranty of\n",
    "# MERCHANTABILITY or FITNESS FOR A PARTICULAR PURPOSE.  See the\n",
    "# GNU General Public License for more details.\n",
    "#\n",
    "# You should have received a copy of the GNU General Public License\n",
    "# along with Theano Geometry. If not, see <http://www.gnu.org/licenses/>.\n",
    "#"
   ]
  },
  {
   "cell_type": "code",
   "execution_count": 1,
   "metadata": {},
   "outputs": [
    {
     "name": "stdout",
     "output_type": "stream",
     "text": [
      "/home/line/Dropbox/theanogeometry\n",
      "3 landmarks in R^2 (dim 6). kernel Gaussian, k_alpha=1, k_sigma=[[0.5 0. ]\n",
      " [0.  0.5]]\n"
     ]
    }
   ],
   "source": [
    "# LDDMM landmark dynamics - Corpora Callosa\n",
    "%cd ..\n",
    "from src.manifolds.landmarks import *\n",
    "M = landmarks(3)\n",
    "print(M)"
   ]
  },
  {
   "cell_type": "code",
   "execution_count": 2,
   "metadata": {},
   "outputs": [
    {
     "name": "stderr",
     "output_type": "stream",
     "text": [
      "WARNING (theano.tensor.blas): We did not found a dynamic library into the library_dir of the library we use for blas. If you use ATLAS, make sure to compile it with dynamics library.\n"
     ]
    }
   ],
   "source": [
    "# Riemannian structure\n",
    "from src.Riemannian import metric\n",
    "truncate_high_order_derivatives = True\n",
    "metric.initialize(M)"
   ]
  },
  {
   "cell_type": "code",
   "execution_count": 3,
   "metadata": {},
   "outputs": [],
   "source": [
    "from src.plotting import *\n",
    "%matplotlib inline\n",
    "plt.rcParams['figure.figsize'] = 7, 7"
   ]
  },
  {
   "cell_type": "code",
   "execution_count": 20,
   "metadata": {},
   "outputs": [],
   "source": [
    "from src.statistics.Regression.params import *\n",
    "\n",
    "# initialize\n",
    "M.N.set_value(1)\n",
    "n_steps.set_value(100)\n",
    "\n",
    "n_samples.set_value(20)\n",
    "mx.set_value(1)\n",
    "\n",
    "# Obs: takes time to load\n",
    "#from src.framebundle import FM\n",
    "#from src.stochastics import stochastic_development\n",
    "#FM.initialize(M)\n",
    "#stochastic_development.initialize(M)\n",
    "\n",
    "#from src.statistics.Regression import Processes\n",
    "#Processes.initialize(M)\n",
    "\n",
    "#from src.statistics.Regression import hfunction\n",
    "#hfunction.initialize(M)\n",
    "\n",
    "#from src.statistics.Regression import LaplaceApprox\n",
    "#LaplaceApprox.initialize(M)\n",
    "\n",
    "from scipy import io\n",
    "A=io.loadmat('/home/line/Desktop/Regressiongpu/Regression/ipmi-data/matlab.mat')"
   ]
  },
  {
   "cell_type": "markdown",
   "metadata": {},
   "source": [
    "# Corpus Callosum data:"
   ]
  },
  {
   "cell_type": "code",
   "execution_count": 21,
   "metadata": {},
   "outputs": [],
   "source": [
    "Seq = lambda m, n: [i*n//m + n//(2*m) for i in range(m)]"
   ]
  },
  {
   "cell_type": "code",
   "execution_count": 22,
   "metadata": {},
   "outputs": [
    {
     "name": "stdout",
     "output_type": "stream",
     "text": [
      "(20, 2)\n"
     ]
    }
   ],
   "source": [
    "# load data\n",
    "data=io.loadmat('/home/line/Desktop/Regressiongpu/Regression/ipmi-data/dataM-corpora-callosa-ipmi-full.mat')\n",
    "vi = data['vi'] # corpora callosa\n",
    "Nobs = vi.shape[1]\n",
    "N0 = int(vi.shape[0]/2-1)\n",
    "qs = vi[0:-2,:].T.reshape((Nobs,N0,2))\n",
    "\n",
    "yObsM = qs[0:n_samples.get_value(),Seq(M.N.get_value(),N0),:]/20\n",
    "yObs = yObsM.reshape((n_samples.get_value(),M.dim.eval()))\n",
    "print(yObs.shape)"
   ]
  },
  {
   "cell_type": "code",
   "execution_count": 23,
   "metadata": {},
   "outputs": [
    {
     "data": {
      "image/png": "[encoded data removed]",
      "text/plain": [
       "<matplotlib.figure.Figure at 0x7f3fb13e42b0>"
      ]
     },
     "metadata": {},
     "output_type": "display_data"
    }
   ],
   "source": [
    "%matplotlib inline\n",
    "for i in range(n_samples.get_value()):\n",
    "    plt.plot(yObsM[i,:,0],yObsM[i,:,1])"
   ]
  },
  {
   "cell_type": "code",
   "execution_count": 24,
   "metadata": {},
   "outputs": [],
   "source": [
    "gen = np.empty((n_samples.get_value()), dtype = str)\n",
    "ald = np.zeros(n_samples.get_value())\n",
    "for i in range(n_samples.get_value()):\n",
    "    ald[i] = A['combined'][0,i][2][0]\n",
    "    gen[i] = A['combined'][0,i][1][0][0]\n",
    "\n",
    "xT0 = ald.reshape((n_samples.get_value(),mx.get_value()))"
   ]
  },
  {
   "cell_type": "code",
   "execution_count": 25,
   "metadata": {},
   "outputs": [
    {
     "name": "stderr",
     "output_type": "stream",
     "text": [
      "/home/line/Dropbox/theanogeometry/lib/python3.5/site-packages/ipykernel_launcher.py:1: FutureWarning: `rcond` parameter will change to the default of machine precision times ``max(M, N)`` where M and N are the input matrix dimensions.\n",
      "To use the future default and silence this warning we advise to pass `rcond=None`, to keep using the old, explicitly pass `rcond=-1`.\n",
      "  \"\"\"Entry point for launching an IPython kernel.\n"
     ]
    }
   ],
   "source": [
    "ui0 = np.linalg.lstsq(xT0, yObs)[0].flatten()\n",
    "ui0 = ui0/np.linalg.norm(ui0)\n",
    "\n",
    "x01 = np.zeros(mx.get_value())"
   ]
  },
  {
   "cell_type": "code",
   "execution_count": 26,
   "metadata": {},
   "outputs": [
    {
     "name": "stdout",
     "output_type": "stream",
     "text": [
      "Initial para =  [0.1        0.01       1.         1.82520418 0.13137667 0.99760812\n",
      " 0.06912331]\n"
     ]
    }
   ],
   "source": [
    "W0 = np.array([[np.linalg.norm(ui0)]])[0:mx.get_value(),0:mx.get_value()]\n",
    "drift0 = np.array([0.01,0.01])[0:mx.get_value()]\n",
    "\n",
    "tau0 = 0.1\n",
    "\n",
    "y0 = np.mean(yObs, axis = 0)\n",
    "\n",
    "para0 = np.hstack((tau0,drift0,W0.flatten(),y0.flatten(),ui0.flatten()))\n",
    "print(\"Initial para = \", para0)"
   ]
  },
  {
   "cell_type": "markdown",
   "metadata": {},
   "source": [
    "# Laplace Approximation:"
   ]
  },
  {
   "cell_type": "markdown",
   "metadata": {},
   "source": [
    "### Optimal processes:"
   ]
  },
  {
   "cell_type": "code",
   "execution_count": null,
   "metadata": {
    "scrolled": true
   },
   "outputs": [],
   "source": [
    "dwtv = np.random.normal(0.0, dt.eval(), (n_samples.get_value(),n_steps.get_value(),mx.get_value()))\n",
    "\n",
    "start = time.time()\n",
    "print(M.hf(dwtv.flatten(),yObs,xT0,x01,para0))\n",
    "diff = time.time() - start\n",
    "print(\"time h = \", diff)\n",
    "\n",
    "start = time.time()\n",
    "print(M.logdethesshf(dwtv.flatten(),yObs,xT0,x01,para0))\n",
    "diff = time.time() - start\n",
    "print(\"time = \", diff)"
   ]
  },
  {
   "cell_type": "code",
   "execution_count": null,
   "metadata": {},
   "outputs": [],
   "source": [
    "start = time.time()\n",
    "dWtop = multprocdwt(para0,x01,yObs,xT0,n_pool=1)\n",
    "diff = time.time() - start\n",
    "print(\"time = \", diff)"
   ]
  },
  {
   "cell_type": "code",
   "execution_count": null,
   "metadata": {},
   "outputs": [],
   "source": [
    "def multprocdwt(para,x0,y,xT,n_pool):\n",
    "    \n",
    "    dwt = np.zeros((y.shape[0],n_steps.get_value()))\n",
    "    for i in range(y.shape[0]):\n",
    "        dwt[i,:] = M.multprocdwti(para,x0,(y[i,:],xT[i,:]))\n",
    "    #p = Pool(processes = n_pool)\n",
    "    #sol = p.map(partial(M.multprocdwti,para,x0),\\\n",
    "    #                     mpu.inputArgs(y,xT),chunksize = n_samples.get_value()/n_pool)\n",
    "    #res = list(sol)\n",
    "    #p.terminate()\n",
    "    \n",
    "    return dwt#np.array(zip(res))"
   ]
  },
  {
   "cell_type": "markdown",
   "metadata": {},
   "source": [
    "### Estimation:"
   ]
  },
  {
   "cell_type": "code",
   "execution_count": null,
   "metadata": {},
   "outputs": [],
   "source": [
    "dwtv = np.random.normal(0.0, dt.eval(), (n_samples.get_value(),n_steps.get_value(),mx.get_value()))\n",
    "start = time.time()\n",
    "print(\"Initial likelihood = \", M.loglikef(para0,x01,yObs,xT0,dwtv.flatten()))\n",
    "diff = time.time() - start\n",
    "print(\"time = \", diff)\n",
    "\n",
    "#start = time.time()\n",
    "#print(\"Gradient = \", np.round(scipy.optimize.approx_fprime(para0,loglikef,0.001,x01,yObs,xT0,dWtop.flatten()),2)\n",
    "#diff = (time.time() - start)/60\n",
    "#print(\"time gradient = \", diff)"
   ]
  },
  {
   "cell_type": "code",
   "execution_count": null,
   "metadata": {},
   "outputs": [],
   "source": [
    "paraEst = LapApprox(para0,10**(-4),300,0.2,x01,yObs,\n",
    "                    xT0,dWtop.flatten())"
   ]
  }
 ],
 "metadata": {
  "anaconda-cloud": {},
  "kernelspec": {
   "display_name": "Python 3",
   "language": "python",
   "name": "python3"
  },
  "language_info": {
   "codemirror_mode": {
    "name": "ipython",
    "version": 3
   },
   "file_extension": ".py",
   "mimetype": "text/x-python",
   "name": "python",
   "nbconvert_exporter": "python",
   "pygments_lexer": "ipython3",
   "version": "3.5.2"
  }
 },
 "nbformat": 4,
 "nbformat_minor": 1
}
