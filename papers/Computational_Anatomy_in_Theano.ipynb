{
 "cells": [
  {
   "cell_type": "code",
   "execution_count": null,
   "metadata": {
    "scrolled": true
   },
   "outputs": [],
   "source": [
    "# # This file is part of Theano Geometry\n",
    "#\n",
    "# Copyright (C) 2017, Stefan Sommer (sommer@di.ku.dk)\n",
    "# https://bitbucket.org/stefansommer/theanogemetry\n",
    "#\n",
    "# Theano Geometry is free software: you can redistribute it and/or modify\n",
    "# it under the terms of the GNU General Public License as published by\n",
    "# the Free Software Foundation, either version 3 of the License, or\n",
    "# (at your option) any later version.\n",
    "#\n",
    "# Theano Geometry is distributed in the hope that it will be useful,\n",
    "# but WITHOUT ANY WARRANTY; without even the implied warranty of\n",
    "# MERCHANTABILITY or FITNESS FOR A PARTICULAR PURPOSE.  See the\n",
    "# GNU General Public License for more details.\n",
    "#\n",
    "# You should have received a copy of the GNU General Public License\n",
    "# along with Theano Geometry. If not, see <http://www.gnu.org/licenses/>.\n",
    "#"
   ]
  },
  {
   "cell_type": "code",
   "execution_count": 1,
   "metadata": {
    "scrolled": false
   },
   "outputs": [
    {
     "name": "stdout",
     "output_type": "stream",
     "text": [
      "/home/line/Dropbox/theanogeometry\n"
     ]
    },
    {
     "ename": "NameError",
     "evalue": "name 'default_method' is not defined",
     "output_type": "error",
     "traceback": [
      "\u001b[0;31m---------------------------------------------------------------------------\u001b[0m",
      "\u001b[0;31mNameError\u001b[0m                                 Traceback (most recent call last)",
      "\u001b[0;32m<ipython-input-1-8292f5029c3c>\u001b[0m in \u001b[0;36m<module>\u001b[0;34m()\u001b[0m\n\u001b[1;32m      1\u001b[0m \u001b[0mget_ipython\u001b[0m\u001b[0;34m(\u001b[0m\u001b[0;34m)\u001b[0m\u001b[0;34m.\u001b[0m\u001b[0mrun_line_magic\u001b[0m\u001b[0;34m(\u001b[0m\u001b[0;34m'cd'\u001b[0m\u001b[0;34m,\u001b[0m \u001b[0;34m'..'\u001b[0m\u001b[0;34m)\u001b[0m\u001b[0;34m\u001b[0m\u001b[0m\n\u001b[0;32m----> 2\u001b[0;31m \u001b[0;32mimport\u001b[0m \u001b[0msrc\u001b[0m\u001b[0;34m.\u001b[0m\u001b[0mparams\u001b[0m \u001b[0;32mas\u001b[0m \u001b[0mparams\u001b[0m\u001b[0;34m\u001b[0m\u001b[0m\n\u001b[0m\u001b[1;32m      3\u001b[0m \u001b[0mparams\u001b[0m\u001b[0;34m.\u001b[0m\u001b[0mmanifold\u001b[0m \u001b[0;34m=\u001b[0m \u001b[0;34m'landmarks'\u001b[0m\u001b[0;34m\u001b[0m\u001b[0m\n",
      "\u001b[0;32m~/Dropbox/theanogeometry/src/params.py\u001b[0m in \u001b[0;36m<module>\u001b[0;34m()\u001b[0m\n\u001b[1;32m     18\u001b[0m \u001b[0;31m#\u001b[0m\u001b[0;34m\u001b[0m\u001b[0;34m\u001b[0m\u001b[0m\n\u001b[1;32m     19\u001b[0m \u001b[0;34m\u001b[0m\u001b[0m\n\u001b[0;32m---> 20\u001b[0;31m \u001b[0;32mfrom\u001b[0m \u001b[0msrc\u001b[0m\u001b[0;34m.\u001b[0m\u001b[0msetup\u001b[0m \u001b[0;32mimport\u001b[0m \u001b[0;34m*\u001b[0m\u001b[0;34m\u001b[0m\u001b[0m\n\u001b[0m\u001b[1;32m     21\u001b[0m \u001b[0;34m\u001b[0m\u001b[0m\n\u001b[1;32m     22\u001b[0m \u001b[0;31m##########################################################################\u001b[0m\u001b[0;34m\u001b[0m\u001b[0;34m\u001b[0m\u001b[0m\n",
      "\u001b[0;32m~/Dropbox/theanogeometry/src/setup.py\u001b[0m in \u001b[0;36m<module>\u001b[0;34m()\u001b[0m\n\u001b[1;32m     26\u001b[0m \u001b[0;32mfrom\u001b[0m \u001b[0mtheano\u001b[0m \u001b[0;32mimport\u001b[0m \u001b[0mfunction\u001b[0m\u001b[0;34m,\u001b[0m \u001b[0mconfig\u001b[0m\u001b[0;34m\u001b[0m\u001b[0m\n\u001b[1;32m     27\u001b[0m \u001b[0;34m\u001b[0m\u001b[0m\n\u001b[0;32m---> 28\u001b[0;31m \u001b[0;32mfrom\u001b[0m \u001b[0msrc\u001b[0m\u001b[0;34m.\u001b[0m\u001b[0mutils\u001b[0m \u001b[0;32mimport\u001b[0m \u001b[0;34m*\u001b[0m\u001b[0;34m\u001b[0m\u001b[0m\n\u001b[0m\u001b[1;32m     29\u001b[0m \u001b[0;34m\u001b[0m\u001b[0m\n\u001b[1;32m     30\u001b[0m \u001b[0;32mfrom\u001b[0m \u001b[0mscipy\u001b[0m\u001b[0;34m.\u001b[0m\u001b[0moptimize\u001b[0m \u001b[0;32mimport\u001b[0m \u001b[0mminimize\u001b[0m\u001b[0;34m,\u001b[0m \u001b[0mfmin_bfgs\u001b[0m\u001b[0;34m,\u001b[0m \u001b[0mfmin_cg\u001b[0m\u001b[0;34m,\u001b[0m \u001b[0mfmin_l_bfgs_b\u001b[0m\u001b[0;34m\u001b[0m\u001b[0m\n",
      "\u001b[0;32m~/Dropbox/theanogeometry/src/utils.py\u001b[0m in \u001b[0;36m<module>\u001b[0;34m()\u001b[0m\n\u001b[1;32m     62\u001b[0m \u001b[0;34m\u001b[0m\u001b[0m\n\u001b[1;32m     63\u001b[0m \u001b[0;31m# Integrator (non-stochastic)\u001b[0m\u001b[0;34m\u001b[0m\u001b[0;34m\u001b[0m\u001b[0m\n\u001b[0;32m---> 64\u001b[0;31m \u001b[0;32mdef\u001b[0m \u001b[0mintegrator\u001b[0m\u001b[0;34m(\u001b[0m\u001b[0mode_f\u001b[0m\u001b[0;34m,\u001b[0m\u001b[0mmethod\u001b[0m\u001b[0;34m=\u001b[0m\u001b[0mdefault_method\u001b[0m\u001b[0;34m)\u001b[0m\u001b[0;34m:\u001b[0m\u001b[0;34m\u001b[0m\u001b[0m\n\u001b[0m\u001b[1;32m     65\u001b[0m \u001b[0;34m\u001b[0m\u001b[0m\n\u001b[1;32m     66\u001b[0m     \u001b[0;31m# euler:\u001b[0m\u001b[0;34m\u001b[0m\u001b[0;34m\u001b[0m\u001b[0m\n",
      "\u001b[0;31mNameError\u001b[0m: name 'default_method' is not defined"
     ]
    }
   ],
   "source": [
    "%cd ..\n",
    "import src.params as params\n",
    "params.manifold = 'landmarks'"
   ]
  },
  {
   "cell_type": "code",
   "execution_count": null,
   "metadata": {
    "scrolled": true
   },
   "outputs": [],
   "source": [
    "from src.manifold import *\n",
    "from src.metric import *\n",
    "\n",
    "from src.plotting import *\n",
    "%matplotlib inline\n",
    "plt.rcParams['figure.figsize'] = 10, 10"
   ]
  },
  {
   "cell_type": "markdown",
   "metadata": {},
   "source": [
    "# Data preparation"
   ]
  },
  {
   "cell_type": "code",
   "execution_count": null,
   "metadata": {
    "scrolled": true
   },
   "outputs": [],
   "source": [
    "# load data\n",
    "DIM = 2\n",
    "from scipy import io\n",
    "# load CC data...\n",
    "\n",
    "vi = data['vi'] # corpora callosa\n",
    "Nsamples = vi.shape[1]\n",
    "N0 = int(vi.shape[0]/2-1) - 1\n",
    "#N.set_value(vi.shape[0]/DIM-1)\n",
    "print(vi[0:(-3),:].shape)\n",
    "qs = vi[0:(-4),:].T.reshape([Nsamples,N0,2])\n",
    "\n",
    "# Reduce the number of landmarks:\n",
    "qs = qs[:,np.arange(0,N0,2),:]\n",
    "N0 = qs.shape[1]\n",
    "\n",
    "qs = 1./20*qs # rescale\n",
    "print(qs.shape)\n",
    "\n",
    "%matplotlib inline\n",
    "qsr = qs\n",
    "m = np.mean(qsr,axis=0)\n",
    "for i in range(Nsamples):\n",
    "    plt.plot(qsr[i,:,0],qsr[i,:,1])\n",
    "plt.plot(m[:,0],m[:,1],linewidth=3,color = 'k')\n",
    "#plt.savefig(\"sample.pdf\")"
   ]
  },
  {
   "cell_type": "markdown",
   "metadata": {},
   "source": [
    "# Geodesic"
   ]
  },
  {
   "cell_type": "code",
   "execution_count": null,
   "metadata": {
    "scrolled": true
   },
   "outputs": [],
   "source": [
    "x0 = np.mean(qs[:,:,:], axis = 0)\n",
    "ind = np.arange(0,N0,5)\n",
    "dist = np.zeros(5)\n",
    "for i in range(5):\n",
    "    dist[i] = np.sqrt(np.sum((x0[ind[i],:] - x0[ind[i]+1,:])**2))\n",
    "\n",
    "k_sigma.set_value(np.diag((np.mean(dist),np.mean(dist))))\n",
    "print(\"Sigma = \", k_sigma.get_value())\n",
    "\n",
    "N.set_value(N0)\n",
    "#x0 = qs[0,:,:]\n",
    "q0 = x0.flatten()\n",
    "\n",
    "v0 = np.tile(np.array([0,1]), N.eval()).reshape(N.eval(),2)\n",
    "p0 = gMflatf(q0,v0.flatten())\n",
    "print(p0)\n",
    "\n",
    "plt.plot(x0[:,0],x0[:,1], 'ro')\n",
    "plt.quiver(x0[:,0],x0[:,1],v0[:,0],v0[:,1], scale = 12)\n",
    "plt.axis((np.min(x0[:,0])-0.5,np.max(x0[:,0])+0.5,np.min(x0[:,1])-0.1,\n",
    "          np.max(x0[:,1])+0.5))\n",
    "#plt.savefig(\"geoCCmean.pdf\")"
   ]
  },
  {
   "cell_type": "code",
   "execution_count": null,
   "metadata": {
    "scrolled": true
   },
   "outputs": [],
   "source": [
    "# Hamiltonian dynamics\n",
    "from src.Hamiltonian import *\n",
    "# test Hamiltionian and gradients\n",
    "print(p0)\n",
    "print(Hf(q0,p0))\n",
    "\n",
    "# geodesic\n",
    "start = time.time()\n",
    "qsv = Exptf(q0,p0).T\n",
    "diff = time.time() - start\n",
    "print(\"Time for geodesic = \", diff)\n",
    "%matplotlib inline\n",
    "plt.figure()\n",
    "plt.axis('equal')\n",
    "plotx(qsv,linewidth=2)\n",
    "qf = qsv[-1,:].reshape((N.eval(),2))\n",
    "plt.plot(qf[:,0],qf[:,1], 'ro')\n",
    "plt.plot(qf[:,0],qf[:,1], 'r-',linewidth=3)\n",
    "plt.plot(x0[:,0],x0[:,1], 'b--')\n",
    "plt.show()\n",
    "(ts,qpsv) = Hamf(q0,p0)\n",
    "psv = qpsv[:,1,:]\n",
    "print(\"Energy: \",np.array([Hf(q,p) for (q,p) in zip(qsv,psv)]))\n",
    "#plt.savefig(\"geoCC.pdf\")"
   ]
  },
  {
   "cell_type": "markdown",
   "metadata": {},
   "source": [
    "# Parallel Transport"
   ]
  },
  {
   "cell_type": "code",
   "execution_count": null,
   "metadata": {
    "scrolled": true
   },
   "outputs": [],
   "source": [
    "rank.set_value(d.eval())\n",
    "v0 = np.tile(np.array([1,0]), N.eval()).flatten()\n",
    "t = np.linspace(0,2,n_steps.get_value()+1)\n",
    "gamma0 = np.vstack((x0.flatten(),qsv))\n",
    "\n",
    "diffgamma0 = np.diff(gamma0, axis = 0)/dt.eval()"
   ]
  },
  {
   "cell_type": "code",
   "execution_count": null,
   "metadata": {
    "scrolled": true
   },
   "outputs": [],
   "source": [
    "# Parallel transport\n",
    "from src.parallel_transport import *\n",
    "# test parallel transport\n",
    "v0 = np.tile(np.array([0,1]), N.eval()).flatten()\n",
    "vt0 = partransf(v0,gamma0,diffgamma0)"
   ]
  },
  {
   "cell_type": "code",
   "execution_count": null,
   "metadata": {
    "scrolled": true
   },
   "outputs": [],
   "source": [
    "v0 = np.tile(np.array([1,0]), N.eval()).flatten()\n",
    "vt1 = partransf(v0,gamma0,diffgamma0)"
   ]
  },
  {
   "cell_type": "code",
   "execution_count": null,
   "metadata": {
    "scrolled": true
   },
   "outputs": [],
   "source": [
    "cur = gamma0.reshape((n_steps.eval()+1,N.eval(),2))\n",
    "ptv1 = vt1.reshape((n_steps.eval(),N.eval(),2))\n",
    "ptv0 = vt0.reshape((n_steps.eval(),N.eval(),2))\n",
    "ne = np.array([5,8,12,16,20])\n",
    "print(ne)\n",
    "qf = qsv[-1,:].reshape((N.eval(),2))\n",
    "plt.plot(qf[:,0],qf[:,1], color='r',marker='o',linestyle='')\n",
    "plt.plot(x0[:,0],x0[:,1], color='0.5', marker='o',linestyle='')\n",
    "#plt.plot(qf[:,0],qf[:,1], color='0.75', linestyle='-',linewidth=1)\n",
    "for i in range(N.eval()):\n",
    "    plt.plot(cur[:,i,0],cur[:,i,1], 'b--')\n",
    "    sg = np.array([1,99])\n",
    "    \n",
    "    if i in ne:\n",
    "        for j in range(sg.shape[0]):\n",
    "            plt.quiver(cur[sg[j],i,0],cur[sg[j],i,1],ptv1[sg[j],i,0],ptv1[sg[j],i,1],\n",
    "                      pivot='tail',linewidth=4,scale=10)\n",
    "            plt.quiver(cur[sg[j],i,0],cur[sg[j],i,1],ptv0[sg[j],i,0],ptv0[sg[j],i,1],\n",
    "                      pivot='tail',linewidth=4,scale=10)\n",
    "plt.axis((-2.6,2.9,-1.4,3))\n",
    "#plt.axis('equal')\n",
    "#plt.plot(x0[:,0],x0[:,1], 'b--')\n",
    "#plt.axis((-3,3,-1.5,3))\n",
    "#plt.savefig(\"partrans.pdf\")"
   ]
  },
  {
   "cell_type": "markdown",
   "metadata": {},
   "source": [
    "# Development and Stochastic Development"
   ]
  },
  {
   "cell_type": "markdown",
   "metadata": {},
   "source": [
    "### Development"
   ]
  },
  {
   "cell_type": "code",
   "execution_count": null,
   "metadata": {
    "scrolled": false
   },
   "outputs": [],
   "source": [
    "n_steps.set_value(50)\n",
    "ui0 = np.tile(np.array([1.,0,0,1.]), N.eval()).reshape(2*N.eval(),rank.eval())\n",
    "ui0 = GramSchmidt(ui0,x0.flatten()) #sp.linalg.orth(v0)\n",
    "rank.set_value(2)\n",
    "\n",
    "q0 = np.hstack([x0.flatten(),ui0.flatten()]).astype(theano.config.floatX)\n",
    "print(\"q0 = \", q0)\n",
    "\n",
    "# Curve in R^2:\n",
    "t = np.linspace(0,10,n_steps.get_value()+1)\n",
    "gamma0 = np.vstack([5*np.sin(t), (t**2 + 2*t)/10]).T\n",
    "dgamma0 = np.diff(gamma0, axis = 0)\n",
    "print(\"dgamma.shape =\", gamma0)"
   ]
  },
  {
   "cell_type": "code",
   "execution_count": null,
   "metadata": {
    "scrolled": true
   },
   "outputs": [],
   "source": [
    "%matplotlib inline\n",
    "plt.plot(gamma0[:,0],gamma0[:,1])\n",
    "plt.plot(gamma0[0,0],gamma0[0,1], 'ro')\n",
    "plt.plot(gamma0[-1,0],gamma0[-1,1],'go')\n",
    "#plt.axis((-21,21,-11,131))\n",
    "#plt.savefig(\"landDev1.pdf\")"
   ]
  },
  {
   "cell_type": "code",
   "execution_count": null,
   "metadata": {
    "scrolled": true
   },
   "outputs": [],
   "source": [
    "# Development dynamics\n",
    "from src.Stochastic_Development import *\n",
    "# test deterministic development\n",
    "start = time.time()\n",
    "qsv = devf(q0,dgamma0)\n",
    "diff = time.time() - start\n",
    "print(\"Time for development = \", diff)\n",
    "plt.figure()\n",
    "plotFMx(np.concatenate([q0.reshape((1,len(q0))),qsv]),N_vec = 0)\n",
    "plt.show()\n",
    "#plt.savefig(\"landDev2.pdf\")"
   ]
  },
  {
   "cell_type": "markdown",
   "metadata": {},
   "source": [
    "### Stochastic development:"
   ]
  },
  {
   "cell_type": "code",
   "execution_count": null,
   "metadata": {
    "scrolled": false
   },
   "outputs": [],
   "source": [
    "n_steps.set_value(200)\n",
    "ui0 = np.tile(np.array([1.,0,0,1.]), N.eval()).reshape(2*N.eval(),rank.eval())\n",
    "ui0 = GramSchmidt(ui0,x0.flatten())\n",
    "\n",
    "q0 = np.hstack([x0.flatten(),ui0.flatten()]).astype(theano.config.floatX)\n",
    "print(\"q0 = \", q0)\n",
    "\n",
    "# srng.seed(422)\n",
    "\n",
    "dWt0 = np.random.normal(0, np.sqrt(dt.eval()), (n_steps.get_value(),2))/2\n",
    "drift0 = np.array([0.1,0.1])"
   ]
  },
  {
   "cell_type": "code",
   "execution_count": null,
   "metadata": {
    "scrolled": true
   },
   "outputs": [],
   "source": [
    "dZt = dWt0 + drift0*dt.eval()\n",
    "Zt = np.concatenate([np.array([0,0]).reshape((1,2)),np.cumsum(dZt, axis = 0)])\n",
    "plt.plot(Zt[:,0],Zt[:,1],'b-',linewidth = 1)\n",
    "plt.plot(0,0, 'ro')\n",
    "plt.plot(Zt[-1,0],Zt[-1,1], 'go')\n",
    "#plt.savefig(\"stoc.pdf\")"
   ]
  },
  {
   "cell_type": "code",
   "execution_count": null,
   "metadata": {
    "scrolled": true
   },
   "outputs": [],
   "source": [
    "from src.Stochastic_Development import *\n",
    "# test stochastic development\n",
    "start = time.time()\n",
    "qsv = stoc_devf(q0,dWt0,drift0)\n",
    "diff = time.time() - start\n",
    "print(\"time = \", diff)\n",
    "\n",
    "plt.figure()\n",
    "plotFMx(np.concatenate([q0.reshape((1,len(q0))),qsv]),N_vec = 0)\n",
    "plt.show()\n",
    "#plt.savefig(\"landstoc2.pdf\")"
   ]
  },
  {
   "cell_type": "code",
   "execution_count": null,
   "metadata": {
    "scrolled": true
   },
   "outputs": [],
   "source": [
    "plt.figure()\n",
    "#plt.axis('equal')\n",
    "endq = qsv[-1,0:d.eval()].reshape((N.eval(),2))\n",
    "plotFMx(np.concatenate([q0.reshape((1,len(q0))),qsv]),N_vec = None,\n",
    "         color='0.4')\n",
    "plt.plot(endq[:,0],endq[:,1],'ro')\n",
    "plt.plot(endq[:,0],endq[:,1],'r-')\n",
    "plt.plot(x0[:,0],x0[:,1],'b-')\n",
    "plt.plot(x0[:,0],x0[:,1],'bo')\n",
    "plt.show()\n",
    "#plt.savefig(\"stocCC.pdf\")"
   ]
  },
  {
   "cell_type": "markdown",
   "metadata": {},
   "source": [
    "# Frechet Mean"
   ]
  },
  {
   "cell_type": "code",
   "execution_count": null,
   "metadata": {
    "scrolled": true
   },
   "outputs": [],
   "source": [
    "n_samp = 10\n",
    "N.set_value(N0)\n",
    "\n",
    "q0 = np.mean(qs[:,:,:], axis = 0).flatten()\n",
    "y0 = qs[0:n_samp,:,:].reshape((n_samp,N.eval()*2))\n",
    "\n",
    "v0 = np.tile(np.array([0,1]), N.eval()).reshape(N.eval(),2)\n",
    "v0 = GramSchmidt(v0.flatten(),q0)\n",
    "p0 = gMflatf(q0,v0)"
   ]
  },
  {
   "cell_type": "code",
   "execution_count": null,
   "metadata": {
    "scrolled": true
   },
   "outputs": [],
   "source": [
    "# Frechet mean\n",
    "from src.Frechet_mean import *\n",
    "\n",
    "start = time.time()\n",
    "mf = Frechet_mean(y0,q0,p0)\n",
    "diff = time.time() - start\n",
    "print(\"time = \", diff)\n",
    "print(\"loss = \", mf[1])\n",
    "print(\"mean = \", mf[0])\n",
    "\n",
    "#%matplotlib notebook\n",
    "qopt = mf[0]\n",
    "itera = mf[2]\n",
    "newfig()\n",
    "plotM(rotate = np.array([50,-45]))\n",
    "plotMean(qopt,y0,itera)\n",
    "plt.show()"
   ]
  },
  {
   "cell_type": "markdown",
   "metadata": {},
   "source": [
    "# Brownian motions in coordinates"
   ]
  },
  {
   "cell_type": "code",
   "execution_count": null,
   "metadata": {
    "scrolled": true
   },
   "outputs": [],
   "source": [
    "# Brownian motion\n",
    "from src.Brownian_coords import *\n",
    "\n",
    "# sample for Brownian motion transition distribution\n",
    "N_samples = 10\n",
    "obss = np.zeros((N_samples,)+q0.shape)\n",
    "qsvs = np.zeros((N_samples,n_steps.eval(),)+q0.shape)\n",
    "# srng.seed(422)\n",
    "for i in range(N_samples):\n",
    "    (ts,qsv) = Brownian_coordsf(q0,0.1*dWsf())\n",
    "    qsvs[i] = qsv\n",
    "    obss[i] = qsv[-1]"
   ]
  },
  {
   "cell_type": "code",
   "execution_count": null,
   "metadata": {
    "scrolled": true
   },
   "outputs": [],
   "source": [
    "def plotx(x,ui=None,color='b',color_intensity=1.,linewidth=1.,prevx=None,last=True,curve=False,markersize=None):\n",
    "    if len(x.shape)>1:\n",
    "        for i in range(x.shape[0]):\n",
    "            plotx(x[i],ui=ui if i==0 else None,\n",
    "                  color=color,\n",
    "                  color_intensity=color_intensity if i==0 or i==x.shape[0]-1 else .7,\n",
    "                  prevx=x[i-1] if i>0 else None,\n",
    "                  last=i==(x.shape[0]-1),\n",
    "                  curve=curve)\n",
    "        return\n",
    "    \n",
    "    x = x.reshape((-1,m.eval()))\n",
    "    NN = x.shape[0]\n",
    "    \n",
    "    for j in range(NN):  \n",
    "        if prevx is last:\n",
    "            plt.scatter(x[j,0],x[j,1],color='b',s=markersize)\n",
    "        if prevx is not None:\n",
    "            prevx = prevx.reshape((NN,m.eval()))\n",
    "            xx = np.stack((prevx[j,:],x[j,:]))\n",
    "            plt.plot(xx[:,0],xx[:,1],linewidth=linewidth,color='b')\n",
    "\n",
    "        if ui is not None:\n",
    "            ui = ui.reshape((NN,m.eval()))\n",
    "            plt.quiver(x[j,0],x[j,1],ui[j,0],ui[j,1],pivot='tail',linewidth=linewidth,scale=5)\n",
    "    if curve and last:#(last or prevx is None):\n",
    "        plt.plot(np.hstack((x[:,0],x[0,0])),np.hstack((x[:,1],x[0,1])),'o-',color=color)"
   ]
  },
  {
   "cell_type": "code",
   "execution_count": null,
   "metadata": {
    "scrolled": true
   },
   "outputs": [],
   "source": [
    "plot_samples = 1\n",
    "colors=[colormap(k) for k in np.linspace(0, 1, plot_samples)]\n",
    "plotx(q0,color='k',curve=True)\n",
    "for i in range(plot_samples):\n",
    "    plotx(qsvs[2+i],color='r',curve=True)#colors[i],curve=True)\n",
    "plt.axis('equal')\n",
    "plt.show()\n",
    "#plt.savefig('browncoord.pdf')"
   ]
  },
  {
   "cell_type": "markdown",
   "metadata": {},
   "source": [
    "# Samples from Normal distribution"
   ]
  },
  {
   "cell_type": "code",
   "execution_count": null,
   "metadata": {
    "scrolled": true
   },
   "outputs": [],
   "source": [
    "colormap = plt.get_cmap('winter')\n",
    "plot_samples = 10\n",
    "colors=[colormap(k) for k in np.linspace(0, 1, 2)]#plot_samples)]\n",
    "for i in range(2,plot_samples):\n",
    "    plotx(obss[i],curve=True,color='0.75')\n",
    "plotx(q0,color='k',curve=True)\n",
    "for i in range(2):\n",
    "    plotx(obss[i],curve=True,color=colors[i])\n",
    "plt.axis('equal')\n",
    "#plt.savefig('normsamples.pdf')\n",
    "plt.show()"
   ]
  }
 ],
 "metadata": {
  "kernelspec": {
   "display_name": "Python 3",
   "language": "python",
   "name": "python3"
  },
  "language_info": {
   "codemirror_mode": {
    "name": "ipython",
    "version": 3
   },
   "file_extension": ".py",
   "mimetype": "text/x-python",
   "name": "python",
   "nbconvert_exporter": "python",
   "pygments_lexer": "ipython3",
   "version": "3.5.2"
  }
 },
 "nbformat": 4,
 "nbformat_minor": 1
}
