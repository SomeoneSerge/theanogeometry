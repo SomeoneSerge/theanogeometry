{
 "cells": [
  {
   "cell_type": "code",
   "execution_count": null,
   "metadata": {
    "collapsed": true
   },
   "outputs": [],
   "source": [
    "# # This file is part of Theano Geometry\n",
    "#\n",
    "# Copyright (C) 2017, Stefan Sommer (sommer@di.ku.dk)\n",
    "# https://bitbucket.org/stefansommer/theanogemetry\n",
    "#\n",
    "# Theano Geometry is free software: you can redistribute it and/or modify\n",
    "# it under the terms of the GNU General Public License as published by\n",
    "# the Free Software Foundation, either version 3 of the License, or\n",
    "# (at your option) any later version.\n",
    "#\n",
    "# Theano Geometry is distributed in the hope that it will be useful,\n",
    "# but WITHOUT ANY WARRANTY; without even the implied warranty of\n",
    "# MERCHANTABILITY or FITNESS FOR A PARTICULAR PURPOSE.  See the\n",
    "# GNU General Public License for more details.\n",
    "#\n",
    "# You should have received a copy of the GNU General Public License\n",
    "# along with Theano Geometry. If not, see <http://www.gnu.org/licenses/>.\n",
    "#"
   ]
  },
  {
   "cell_type": "code",
   "execution_count": null,
   "metadata": {
    "collapsed": true
   },
   "outputs": [],
   "source": [
    "# Stochastic Lie group dynamics"
   ]
  },
  {
   "cell_type": "code",
   "execution_count": null,
   "metadata": {
    "collapsed": true
   },
   "outputs": [],
   "source": [
    "import src.params as params\n",
    "params.group = 'SON'\n",
    "params.manifold = 'S2'"
   ]
  },
  {
   "cell_type": "code",
   "execution_count": null,
   "metadata": {},
   "outputs": [],
   "source": [
    "from src.group import *\n",
    "from src.manifold import *\n",
    "from src.metric import *\n",
    "\n",
    "from src.plotting import *\n",
    "%matplotlib inline\n",
    "plt.rcParams['figure.figsize'] = 7, 7"
   ]
  },
  {
   "cell_type": "code",
   "execution_count": null,
   "metadata": {
    "collapsed": true
   },
   "outputs": [],
   "source": [
    "# initialize\n",
    "init(3)"
   ]
  },
  {
   "cell_type": "code",
   "execution_count": null,
   "metadata": {
    "collapsed": true
   },
   "outputs": [],
   "source": [
    "# setup for testing different versions of stochastic dynamics\n",
    "q0 = np.array([1e-6,0,0])\n",
    "g0 = psif(q0)\n",
    "v0 = np.array([0,1,-1])\n",
    "p0 = sharppsif(q0,v0)\n",
    "mu0 = sharpVf(v0)"
   ]
  },
  {
   "cell_type": "code",
   "execution_count": null,
   "metadata": {},
   "outputs": [],
   "source": [
    "# Brownian motion\n",
    "from src.Brownian_inv import *\n",
    "\n",
    "# srng.seed(422)\n",
    "srng.seed(422)\n",
    "(ts,gsv) = Brownian_invf(g0,dWsGf())\n",
    "newfig()\n",
    "plotg(gsv)\n",
    "plt.show()\n",
    "#plt.savefig('stocso3.pdf')\n",
    "\n",
    "# on S2\n",
    "newfig()\n",
    "plotM()\n",
    "x0 = np.array([0,0,1])\n",
    "plotx(actsf(gsv.transpose((1,2,0)),x0).T)\n",
    "plt.show()\n",
    "#plt.savefig('stocso32.pdf')"
   ]
  },
  {
   "cell_type": "code",
   "execution_count": null,
   "metadata": {},
   "outputs": [],
   "source": [
    "# Brownian processes\n",
    "from src.Brownian_process import *\n",
    "\n",
    "(ts,gsv) = Brownian_processf(g0,dWsGf())\n",
    "newfig()\n",
    "plotg(gsv)\n",
    "plt.show()"
   ]
  },
  {
   "cell_type": "code",
   "execution_count": null,
   "metadata": {
    "scrolled": false
   },
   "outputs": [],
   "source": [
    "# Stochastic coadjoint motion\n",
    "from src.stochastic_coadjoint import *\n",
    "\n",
    "(ts,musv) = stochastic_coadjointf(mu0,dWsGf())\n",
    "(ts,gsv) = stochastic_coadjointrecf(g0,musv)\n",
    "newfig()\n",
    "plotg(gsv)\n",
    "plt.show()"
   ]
  },
  {
   "cell_type": "code",
   "execution_count": null,
   "metadata": {},
   "outputs": [],
   "source": [
    "# Delyon/Hu guided process\n",
    "from src.guided_process import *\n",
    "\n",
    "# q0 = np.array([1e-6,0,1])\n",
    "# g0 = psif(q0)\n",
    "# v0 = q0+np.array([.5,0,0])\n",
    "\n",
    "# phi = lambda g: -(g-v)\n",
    "phi = lambda g,v: T.tensordot(inv(sigma),LAtoV(log(invtrns(inv(g),v))),(1,0))\n",
    "sde_Brownian_inv_guided = get_sde_guided(sde_Brownian_inv,phi,lambda q: sigma)\n",
    "Brownian_inv_guided = lambda g,v,dWt: integrate_sde(sde_Brownian_inv_guided,\n",
    "                                                   integrator_stratonovich,\n",
    "                                                   g,dWt,T.constant(0.),T.constant(0.),v)\n",
    "v = T.matrix() # target\n",
    "Brownian_inv_guidedf = theano.function([g,v,dWt], Brownian_inv_guided(g,v,dWt)[:4])\n",
    "\n",
    "# derivatives\n",
    "theta = sigma # parameters\n",
    "def dlog_likelihood(g,v,dWt):\n",
    "    s = Brownian_inv_guided(g,v,dWt)\n",
    "    dlog_likelihood = T.grad(s[2][-1],theta)\n",
    "    \n",
    "    return [s[0],s[1],s[2],s[3],dlog_likelihood]\n",
    "dlog_likelihoodf = theano.function([g,v,dWt],dlog_likelihood(g,v,dWt))\n",
    "\n",
    "v = psif(v0)\n",
    "(ts,gsv,log_likelihood,log_varphi) = Brownian_inv_guidedf(g0,v,dWsGf())\n",
    "print(\"log likelihood: \", log_likelihood[-1], \", log varphi: \", log_varphi[-1])\n",
    "newfig()\n",
    "plotg(gsv)\n",
    "plotg(v,color='k')\n",
    "plt.show()\n",
    "\n",
    "# on S2\n",
    "newfig()\n",
    "plotM()\n",
    "plotx(actsf(gsv.transpose((1,2,0)),x0).T)\n",
    "plotx(actf(v,x0),color='k')\n",
    "plt.show()"
   ]
  },
  {
   "cell_type": "code",
   "execution_count": null,
   "metadata": {
    "collapsed": true
   },
   "outputs": [],
   "source": []
  }
 ],
 "metadata": {
  "kernelspec": {
   "display_name": "Python 3",
   "language": "python",
   "name": "python3"
  },
  "language_info": {
   "codemirror_mode": {
    "name": "ipython",
    "version": 3
   },
   "file_extension": ".py",
   "mimetype": "text/x-python",
   "name": "python",
   "nbconvert_exporter": "python",
   "pygments_lexer": "ipython3",
   "version": "3.5.3"
  }
 },
 "nbformat": 4,
 "nbformat_minor": 1
}
