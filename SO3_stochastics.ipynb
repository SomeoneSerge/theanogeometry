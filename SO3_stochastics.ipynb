{
 "cells": [
  {
   "cell_type": "code",
   "execution_count": null,
   "metadata": {},
   "outputs": [],
   "source": [
    "# # This file is part of Theano Geometry\n",
    "#\n",
    "# Copyright (C) 2017, Stefan Sommer (sommer@di.ku.dk)\n",
    "# https://bitbucket.org/stefansommer/theanogemetry\n",
    "#\n",
    "# Theano Geometry is free software: you can redistribute it and/or modify\n",
    "# it under the terms of the GNU General Public License as published by\n",
    "# the Free Software Foundation, either version 3 of the License, or\n",
    "# (at your option) any later version.\n",
    "#\n",
    "# Theano Geometry is distributed in the hope that it will be useful,\n",
    "# but WITHOUT ANY WARRANTY; without even the implied warranty of\n",
    "# MERCHANTABILITY or FITNESS FOR A PARTICULAR PURPOSE.  See the\n",
    "# GNU General Public License for more details.\n",
    "#\n",
    "# You should have received a copy of the GNU General Public License\n",
    "# along with Theano Geometry. If not, see <http://www.gnu.org/licenses/>.\n",
    "#"
   ]
  },
  {
   "cell_type": "markdown",
   "metadata": {
    "collapsed": true
   },
   "source": [
    "# Stochastic Lie group dynamics"
   ]
  },
  {
   "cell_type": "code",
   "execution_count": null,
   "metadata": {},
   "outputs": [],
   "source": [
    "# SO(3)\n",
    "from src.groups.SON import *\n",
    "G = SON(3)\n",
    "print(G)\n",
    "\n",
    "# SO(3) acts on S^2\n",
    "from src.manifolds.S2 import *\n",
    "M = S2()\n",
    "print(M)\n",
    "\n",
    "from src.plotting import *"
   ]
  },
  {
   "cell_type": "code",
   "execution_count": null,
   "metadata": {},
   "outputs": [],
   "source": [
    "# setup for testing different versions of stochastic dynamics\n",
    "q = np.array([1e-6,0,0])\n",
    "g = G.psif(q)\n",
    "v = np.array([0,1,1])\n",
    "\n",
    "from src.group import invariant_metric\n",
    "invariant_metric.initialize(G)\n",
    "p = G.sharppsif(q,v)\n",
    "mu = G.sharpVf(v)\n",
    "print(p)\n",
    "print(mu)\n",
    "\n",
    "from src.group import energy\n",
    "energy.initialize(G)"
   ]
  },
  {
   "cell_type": "code",
   "execution_count": null,
   "metadata": {},
   "outputs": [],
   "source": [
    "# Brownian motion\n",
    "from src.stochastics import Brownian_inv\n",
    "Brownian_inv.initialize(G)\n",
    "\n",
    "n_steps.set_value(1000)\n",
    "\n",
    "# srng.seed(422)\n",
    "srng.seed(407)\n",
    "(ts,gsv) = G.Brownian_invf(g,dWsf(G.dim.eval()))\n",
    "newfig()\n",
    "G.plotg(gsv,linewidth=0.1,alpha=0.1)\n",
    "plt.show()\n",
    "#plt.savefig('stocso3.pdf')\n",
    "\n",
    "# on S2\n",
    "newfig()\n",
    "M.plot()\n",
    "x = np.array([0,0,1])\n",
    "M.plotx(M.actsf(gsv.transpose((1,2,0)),x).T)\n",
    "plt.show()\n",
    "#plt.savefig('stocso32.pdf')"
   ]
  },
  {
   "cell_type": "code",
   "execution_count": null,
   "metadata": {},
   "outputs": [],
   "source": [
    "# Brownian processes\n",
    "from src.stochastics import Brownian_process\n",
    "Brownian_process.initialize(G)\n",
    "\n",
    "(ts,gsv) = G.Brownian_processf(g,dWsf(G.dim.eval()))\n",
    "newfig()\n",
    "G.plotg(gsv)\n",
    "plt.show()"
   ]
  },
  {
   "cell_type": "code",
   "execution_count": null,
   "metadata": {
    "scrolled": false
   },
   "outputs": [],
   "source": [
    "# Stochastic coadjoint motion\n",
    "from src.stochastics import stochastic_coadjoint\n",
    "stochastic_coadjoint.initialize(G)\n",
    "\n",
    "(ts,musv) = G.stochastic_coadjointf(mu,dWsf(G.dim.eval()))\n",
    "(ts,gsv) = G.stochastic_coadjointrecf(g,musv)\n",
    "newfig()\n",
    "G.plotg(gsv,color_intensity=1,alpha=0.1)\n",
    "plt.show()\n",
    "#plt.savefig('coadgeo.pdf')"
   ]
  },
  {
   "cell_type": "code",
   "execution_count": null,
   "metadata": {},
   "outputs": [],
   "source": [
    "# Delyon/Hu guided process\n",
    "from src.stochastics.guided_process import *\n",
    "\n",
    "# guide function\n",
    "# phi = lambda g,v: -(g-v)\n",
    "phi = lambda g,v: T.tensordot(G.inv(G.sigma),G.LAtoV(G.log(G.invtrns(G.inv(g),v))),(1,0))\n",
    "g0 = G.element()\n",
    "(dlog_likelihood,dlog_likelihoodf,Brownian_inv_guided,Brownian_inv_guidedf) = get_guided_likelihood(G,G.sde_Brownian_inv,phi,lambda g: G.sigma, g0, (), A=G.gG, integration='stratonovich')\n",
    "\n",
    "(ts,gs,log_likelihood,log_varphi) = Brownian_inv_guidedf(g,G.psif(v),dWsf(G.dim.eval()))\n",
    "print(\"log likelihood: \", log_likelihood[-1], \", log varphi: \", log_varphi[-1])\n",
    "\n",
    "newfig()\n",
    "w = G.psif(v)\n",
    "G.plotg(gs)\n",
    "G.plotg(w,color='k')\n",
    "plt.show()\n",
    "\n",
    "# on S2\n",
    "newfig()\n",
    "M.plot()\n",
    "M.plotx(M.actsf(gs.transpose((1,2,0)),x).T)\n",
    "M.plotx(M.actf(w,x),color='k')\n",
    "plt.show()"
   ]
  }
 ],
 "metadata": {
  "kernelspec": {
   "display_name": "Python 3",
   "language": "python",
   "name": "python3"
  },
  "language_info": {
   "codemirror_mode": {
    "name": "ipython",
    "version": 3
   },
   "file_extension": ".py",
   "mimetype": "text/x-python",
   "name": "python",
   "nbconvert_exporter": "python",
   "pygments_lexer": "ipython3",
   "version": "3.5.2"
  }
 },
 "nbformat": 4,
 "nbformat_minor": 1
}
