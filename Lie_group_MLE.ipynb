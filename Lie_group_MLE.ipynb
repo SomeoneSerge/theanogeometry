{
 "cells": [
  {
   "cell_type": "code",
   "execution_count": null,
   "metadata": {
    "collapsed": true
   },
   "outputs": [],
   "source": [
    "# Maximum Likelihood on Lie Groups"
   ]
  },
  {
   "cell_type": "code",
   "execution_count": null,
   "metadata": {
    "collapsed": true
   },
   "outputs": [],
   "source": [
    "import src.params as params\n",
    "params.group = 'SON'\n",
    "params.manifold = 'S2'"
   ]
  },
  {
   "cell_type": "code",
   "execution_count": null,
   "metadata": {},
   "outputs": [],
   "source": [
    "from src.group import *\n",
    "from src.manifold import *\n",
    "from src.metric import *\n",
    "import src.multiprocess_utils as mpu\n",
    "\n",
    "from src.plotting import *\n",
    "%matplotlib inline\n",
    "plt.rcParams['figure.figsize'] = 13, 10"
   ]
  },
  {
   "cell_type": "code",
   "execution_count": null,
   "metadata": {
    "collapsed": true
   },
   "outputs": [],
   "source": [
    "# initialize\n",
    "init(3)"
   ]
  },
  {
   "cell_type": "code",
   "execution_count": null,
   "metadata": {
    "collapsed": true
   },
   "outputs": [],
   "source": [
    "# setup for testing different versions of stochastic dynamics\n",
    "q0 = np.array([1e-6,0,0])\n",
    "g0 = psif(q0)\n",
    "v0 = np.array([0,1,-1])\n",
    "p0 = sharppsif(q0,v0)"
   ]
  },
  {
   "cell_type": "code",
   "execution_count": null,
   "metadata": {},
   "outputs": [],
   "source": [
    "# Brownian motion\n",
    "from src.Brownian_inv import *\n",
    "\n",
    "sigma.set_value(.3*np.eye(G_dim.eval())) # set metric\n",
    "K = 64\n",
    "obss = np.zeros((K,)+g0.shape)\n",
    "# srng.seed(422)\n",
    "for i in range(K):\n",
    "    (ts,gsv) = Brownian_invf(g0,dWsGf())\n",
    "    obss[i] = gsv[-1]\n",
    "\n",
    "# plot samples\n",
    "newfig()\n",
    "for i in range(K):\n",
    "    plotg(obss[i])\n",
    "plt.show()\n",
    "\n",
    "# on S2\n",
    "x0 = np.array([0,0,1])\n",
    "obss_M = np.zeros((K,M_emb_dim.eval(),))\n",
    "newfig()\n",
    "plotM()\n",
    "for i in range(K):\n",
    "    obss_M[i] = actf(obss[i],x0)\n",
    "    plotx(obss_M[i])\n",
    "plt.show()"
   ]
  },
  {
   "cell_type": "code",
   "execution_count": null,
   "metadata": {},
   "outputs": [],
   "source": [
    "# plot estimated density        \n",
    "newfig()\n",
    "# plotM(alpha=.4)\n",
    "plot_density_estimate(obss_M)\n",
    "plt.show()"
   ]
  },
  {
   "cell_type": "code",
   "execution_count": null,
   "metadata": {},
   "outputs": [],
   "source": [
    "# fiber Brownian motion\n",
    "from src.quotient import *\n",
    "from src.Brownian_inv import *\n",
    "sde_Brownian_inv_fiber = get_sde_fiber(sde_Brownian_inv,lambda g: act(g,x0))\n",
    "Brownian_inv_fiber = lambda g,dWt: integrate_sde(sde_Brownian_inv_fiber,\n",
    "                                                  integrator_stratonovich,\n",
    "                                                  g,dWt)\n",
    "Brownian_inv_fiberf = theano.function([g,dWt], Brownian_inv_fiber(g,dWt))\n",
    "\n",
    "(ts,gsv) = Brownian_inv_fiberf(g0,dWsGf())\n",
    "newfig()\n",
    "plotg(gsv)\n",
    "plt.show()\n",
    "\n",
    "# on S2\n",
    "newfig()\n",
    "plotM()\n",
    "plotx(actsf(gsv.transpose((1,2,0)),x0).T)\n",
    "plt.show()"
   ]
  },
  {
   "cell_type": "code",
   "execution_count": null,
   "metadata": {},
   "outputs": [],
   "source": [
    "# find g in fiber above x closests to g0\n",
    "xx = actf(psif(v0),x0)\n",
    "print(xx)\n",
    "\n",
    "(lift,mu_lift) = lift_to_fiber(xx,x0)\n",
    "print(actf(lift,x0))\n",
    "\n",
    "(ts,gsv) = exptf(VtoLAf(mu_lift))\n",
    "newfig()\n",
    "plotg(gsv)\n",
    "plotg(lift,color='k')\n",
    "plt.show()\n",
    "\n",
    "# on S2\n",
    "newfig()\n",
    "plotM()\n",
    "plotx(actsf(gsv.transpose((1,2,0)),x0).T)\n",
    "plotx(xx,color='k')\n",
    "plt.show()"
   ]
  },
  {
   "cell_type": "code",
   "execution_count": null,
   "metadata": {},
   "outputs": [],
   "source": [
    "# Delyon/Hu guided process\n",
    "from src.guided_process import *\n",
    "\n",
    "# q0 = np.array([1e-6,0,1])\n",
    "# g0 = psif(q0)\n",
    "# v0 = q0+np.array([.5,0,0])\n",
    "\n",
    "# phi = lambda g: -(g-v)\n",
    "phi = lambda g,v: T.tensordot(inv(sigma),LAtoV(log(invtrns(inv(g),v))),(1,0))\n",
    "sde_Brownian_inv_guided = get_sde_guided(sde_Brownian_inv,phi,lambda g: sigma)\n",
    "Brownian_inv_guided = lambda g,v,dWt: integrate_sde(sde_Brownian_inv_guided,\n",
    "                                                   integrator_stratonovich,\n",
    "                                                   g,dWt,T.constant(0.),T.constant(0.),v)\n",
    "v = T.matrix() # target\n",
    "Brownian_inv_guidedf = theano.function([g,v,dWt], Brownian_inv_guided(g,v,dWt)[:4])\n",
    "\n",
    "# derivatives\n",
    "theta = sigma # parameters\n",
    "def dlog_likelihood(g,v,dWt):\n",
    "    s = Brownian_inv_guided(g,v,dWt)\n",
    "    dlog_likelihood = T.grad(s[2][-1],theta)\n",
    "    \n",
    "    return [s[0],s[1],s[2],s[3],dlog_likelihood]\n",
    "dlog_likelihoodf = theano.function([g,v,dWt],dlog_likelihood(g,v,dWt))\n",
    "\n",
    "v = psif(v0)\n",
    "(ts,gsv,log_likelihood,log_varphi) = Brownian_inv_guidedf(g0,v,dWsGf())\n",
    "print(\"log likelihood: \", log_likelihood[-1], \", log varphi: \", log_varphi[-1])\n",
    "newfig()\n",
    "plotg(gsv)\n",
    "plotg(v,color='k')\n",
    "plt.show()\n",
    "\n",
    "# on S2\n",
    "newfig()\n",
    "plotM()\n",
    "plotx(actsf(gsv.transpose((1,2,0)),x0).T)\n",
    "plotx(actf(v,x0),color='k')\n",
    "plt.show()"
   ]
  },
  {
   "cell_type": "code",
   "execution_count": null,
   "metadata": {
    "collapsed": true
   },
   "outputs": [],
   "source": [
    "from src.mle import *\n",
    "import src.mle as mle\n",
    "mle.dlog_likelihoodf = dlog_likelihoodf\n",
    "mle.theta = theta\n",
    "\n",
    "options['samples_per_obs'] = 1\n",
    "options['epochs'] = 50\n",
    "options['learning_rate'] = 1.e-4\n",
    "options['varphi_update_rate'] = 1.\n",
    "options['initial'] = np.diag((.08,.1,.2))#.1*np.eye(G_dim.eval())\n",
    "options['update_v'] = lambda g: g"
   ]
  },
  {
   "cell_type": "code",
   "execution_count": null,
   "metadata": {
    "collapsed": true,
    "scrolled": true
   },
   "outputs": [],
   "source": [
    "log_phis = np.zeros((K,))\n",
    "try:\n",
    "    mpu.openPool()\n",
    "    sol = mpu.pool.imap(partial(bridge_sampling,g0,options['initial'],dWsGf,options),\\\n",
    "                        mpu.inputArgs(obss,log_phis,np.random.randint(1000,size=K)))\n",
    "    res = list(sol)\n",
    "    bridges = mpu.getRes(res,0)\n",
    "    log_varphis = mpu.getRes(res,1)\n",
    "    log_likelihoods = mpu.getRes(res,2)\n",
    "    dlog_likelihoods = mpu.getRes(res,3)\n",
    "except:\n",
    "    mpu.closePool()\n",
    "    raise\n",
    "else:\n",
    "    mpu.closePool()\n",
    "\n",
    "# Plot on S2\n",
    "newfig()\n",
    "plotM()\n",
    "colormap = plt.get_cmap('winter')\n",
    "colors=[colormap(k) for k in np.linspace(0, 1, K)]\n",
    "for i in range(bridges.shape[0]):\n",
    "    plotx(actf(obss[i],x0),color=colors[i])\n",
    "    for j in range(bridges.shape[1]):\n",
    "        gsv = bridges[i,j]\n",
    "        plotx(actsf(gsv.transpose((1,2,0)),x0).T,linewidth=.2,color=colors[i])\n",
    "plt.show()"
   ]
  },
  {
   "cell_type": "code",
   "execution_count": null,
   "metadata": {
    "collapsed": true
   },
   "outputs": [],
   "source": [
    "try:\n",
    "    log_likelihoods = np.zeros(options['epochs'])\n",
    "    thetas = np.zeros((options['epochs'],)+theta.eval().shape)\n",
    "    log_varphis = np.zeros(K)\n",
    "    vs = np.array([lift_to_fiber(obs,x0)[0] for obs in obss]) # obs # either obs on G or point in fiber above obs on M\n",
    "    theta.set_value(options['initial'])\n",
    "    mpu.openPool()\n",
    "    for i in range(options['epochs']):\n",
    "        sol = mpu.pool.imap(partial(bridge_sampling,g0,sigma.eval(),dWsGf,options),\\\n",
    "                            mpu.inputArgs(vs,log_phis,np.random.randint(1000,size=K)))\n",
    "        res = list(sol)\n",
    "        bridges = mpu.getRes(res,0)\n",
    "        log_varphi = np.mean(mpu.getRes(res,1),axis=(0,1))\n",
    "        log_likelihood = np.mean(mpu.getRes(res,2),axis=(0,1))\n",
    "        dlog_likelihood = np.mean(mpu.getRes(res,3),axis=(0,1))\n",
    "        vs = mpu.getRes(res,4)\n",
    "        \n",
    "        log_likelihoods[i] = log_likelihood # total log likelihood        \n",
    "        thetas[i] = theta.eval()\n",
    "        print(\"iteration: \", i, \", log-likelihood: \", log_likelihood, \", theta:\\n\", theta.eval())\n",
    "\n",
    "        # step, update parameters and varphis\n",
    "        theta.set_value(theta.eval()+options['learning_rate']*dlog_likelihood)\n",
    "        log_varphis = (1.-options['varphi_update_rate'])*log_varphis+options['varphi_update_rate']*log_varphi # update log varphis\n",
    "except:\n",
    "    mpu.closePool()\n",
    "    raise\n",
    "else:\n",
    "    mpu.closePool()\n",
    "\n",
    "## plot\n",
    "plt.plot(range(options['epochs']),log_likelihoods)\n",
    "plt.plot(np.tile(range(options['epochs']),(thetas[0].size,1)).T,thetas.reshape(thetas.shape[0],-1))\n",
    "None"
   ]
  },
  {
   "cell_type": "code",
   "execution_count": null,
   "metadata": {
    "collapsed": true
   },
   "outputs": [],
   "source": []
  }
 ],
 "metadata": {
  "kernelspec": {
   "display_name": "Python 3",
   "language": "python",
   "name": "python3"
  },
  "language_info": {
   "codemirror_mode": {
    "name": "ipython",
    "version": 3
   },
   "file_extension": ".py",
   "mimetype": "text/x-python",
   "name": "python",
   "nbconvert_exporter": "python",
   "pygments_lexer": "ipython3",
   "version": "3.5.3"
  }
 },
 "nbformat": 4,
 "nbformat_minor": 1
}
