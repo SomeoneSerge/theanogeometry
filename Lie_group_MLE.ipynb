{
 "cells": [
  {
   "cell_type": "code",
   "execution_count": null,
   "metadata": {},
   "outputs": [],
   "source": [
    "# # This file is part of Theano Geometry\n",
    "#\n",
    "# Copyright (C) 2017, Stefan Sommer (sommer@di.ku.dk)\n",
    "# https://bitbucket.org/stefansommer/theanogemetry\n",
    "#\n",
    "# Theano Geometry is free software: you can redistribute it and/or modify\n",
    "# it under the terms of the GNU General Public License as published by\n",
    "# the Free Software Foundation, either version 3 of the License, or\n",
    "# (at your option) any later version.\n",
    "#\n",
    "# Theano Geometry is distributed in the hope that it will be useful,\n",
    "# but WITHOUT ANY WARRANTY; without even the implied warranty of\n",
    "# MERCHANTABILITY or FITNESS FOR A PARTICULAR PURPOSE.  See the\n",
    "# GNU General Public License for more details.\n",
    "#\n",
    "# You should have received a copy of the GNU General Public License\n",
    "# along with Theano Geometry. If not, see <http://www.gnu.org/licenses/>.\n",
    "#"
   ]
  },
  {
   "cell_type": "markdown",
   "metadata": {
    "collapsed": true
   },
   "source": [
    "# Maximum Likelihood on Lie Groups\n",
    "Exemplified on SO(3)"
   ]
  },
  {
   "cell_type": "code",
   "execution_count": null,
   "metadata": {},
   "outputs": [],
   "source": [
    "# SO(3)\n",
    "from src.groups.SON import *\n",
    "G = SON(3)\n",
    "print(G)\n",
    "\n",
    "# SO(3) acts on S^2\n",
    "from src.manifolds.S2 import *\n",
    "M = S2()\n",
    "print(M)\n",
    "\n",
    "from src.plotting import *"
   ]
  },
  {
   "cell_type": "code",
   "execution_count": null,
   "metadata": {},
   "outputs": [],
   "source": [
    "from src.group import invariant_metric\n",
    "invariant_metric.initialize(G)\n",
    "\n",
    "from src.group import energy\n",
    "energy.initialize(G)"
   ]
  },
  {
   "cell_type": "code",
   "execution_count": null,
   "metadata": {},
   "outputs": [],
   "source": [
    "q = np.array([1e-6,0,0])\n",
    "g = G.psif(q)\n",
    "v = np.array([0,1,1])"
   ]
  },
  {
   "cell_type": "code",
   "execution_count": null,
   "metadata": {},
   "outputs": [],
   "source": [
    "# sample data\n",
    "from src.stochastics import Brownian_inv\n",
    "Brownian_inv.initialize(G)\n",
    "\n",
    "G.sigma.set_value(np.diag((.3,.1,.7))) # set metric\n",
    "K = 64\n",
    "obss = np.zeros((K,)+g.shape)\n",
    "# srng.seed(422)\n",
    "for i in range(K):\n",
    "    (ts,gs) = G.Brownian_invf(g,dWsf(G.dim.eval()))\n",
    "    obss[i] = gs[-1]\n",
    "\n",
    "# plot samples\n",
    "newfig()\n",
    "for i in range(K):\n",
    "    G.plotg(obss[i])\n",
    "plt.show()\n",
    "\n",
    "# on S2\n",
    "x = np.array([0,0,1])\n",
    "obss_M = np.zeros((K,M.emb_dim.eval(),))\n",
    "newfig()\n",
    "M.plot()\n",
    "for i in range(K):\n",
    "    obss_M[i] = M.actf(obss[i],x)\n",
    "    M.plotx(obss_M[i])\n",
    "plt.show()"
   ]
  },
  {
   "cell_type": "code",
   "execution_count": null,
   "metadata": {},
   "outputs": [],
   "source": [
    "# plot estimated density        \n",
    "newfig()\n",
    "# M.plot(alpha=.4)\n",
    "plot_density_estimate(M,obss_M)\n",
    "plt.show()"
   ]
  },
  {
   "cell_type": "code",
   "execution_count": null,
   "metadata": {},
   "outputs": [],
   "source": [
    "# fiber Brownian motion\n",
    "from src.group.quotient import *\n",
    "sde_Brownian_inv_fiber = get_sde_fiber(G.sde_Brownian_inv,lambda g: M.act(g,x),G,M)\n",
    "Brownian_inv_fiber = lambda g,dWt: integrate_sde(sde_Brownian_inv_fiber,\n",
    "                                                  integrator_stratonovich,\n",
    "                                                  g,dWt)\n",
    "g0 = G.element()\n",
    "Brownian_inv_fiberf = theano.function([g0,dWt], Brownian_inv_fiber(g0,dWt))\n",
    "\n",
    "(ts,gs) = Brownian_inv_fiberf(g,dWsf(G.dim.eval()))\n",
    "newfig()\n",
    "G.plotg(gs)\n",
    "plt.show()\n",
    "\n",
    "# on S2\n",
    "newfig()\n",
    "M.plot()\n",
    "M.plotx(M.actsf(gs.transpose((1,2,0)),x).T)\n",
    "plt.show()"
   ]
  },
  {
   "cell_type": "code",
   "execution_count": null,
   "metadata": {},
   "outputs": [],
   "source": [
    "# find g in fiber above x closests to g0\n",
    "xx = M.actf(G.psif(v),x)\n",
    "print(xx)\n",
    "\n",
    "(lift,mu_lift) = lift_to_fiber(xx,x,G,M)\n",
    "print(M.actf(lift,x))\n",
    "\n",
    "(ts,gs) = G.exptf(G.VtoLAf(mu_lift))\n",
    "newfig()\n",
    "G.plotg(gs)\n",
    "G.plotg(lift,color='k')\n",
    "plt.show()\n",
    "\n",
    "# on S2\n",
    "newfig()\n",
    "M.plot()\n",
    "M.plotx(M.actsf(gs.transpose((1,2,0)),x).T)\n",
    "M.plotx(xx,color='k')\n",
    "plt.show()"
   ]
  },
  {
   "cell_type": "code",
   "execution_count": null,
   "metadata": {},
   "outputs": [],
   "source": [
    "# Delyon/Hu guided process\n",
    "from src.stochastics.guided_process import *\n",
    "\n",
    "# parameters\n",
    "thetas = (G.sigma,)\n",
    "thetas_true = [theta.eval() for theta in thetas]\n",
    "\n",
    "# guide function\n",
    "# phi = lambda g,v: -(g-v)\n",
    "phi = lambda g,v: T.tensordot(G.inv(G.sigma),G.LAtoV(G.log(G.invtrns(G.inv(g),v))),(1,0))\n",
    "\n",
    "(dlog_likelihood,dlog_likelihoodf,Brownian_inv_guided,Brownian_inv_guidedf) = get_guided_likelihood(G,G.sde_Brownian_inv,phi,lambda g: G.sigma, g0, thetas, A=G.gG, integration='stratonovich')\n",
    "\n",
    "w = G.psif(v)\n",
    "(ts,gs,log_likelihood,log_varphi) = Brownian_inv_guidedf(g,w,dWsf(G.dim.eval()))\n",
    "print(\"log likelihood: \", log_likelihood[-1], \", log varphi: \", log_varphi[-1])\n",
    "\n",
    "newfig()\n",
    "G.plotg(gs)\n",
    "G.plotg(w,color='k')\n",
    "plt.show()\n",
    "\n",
    "# on S2\n",
    "newfig()\n",
    "M.plot()\n",
    "M.plotx(M.actsf(gs.transpose((1,2,0)),x).T)\n",
    "M.plotx(M.actf(w,x),color='k')\n",
    "plt.show()"
   ]
  },
  {
   "cell_type": "code",
   "execution_count": null,
   "metadata": {},
   "outputs": [],
   "source": [
    "options = {}\n",
    "options['samples_per_obs'] = 1\n",
    "options['epochs'] = 200\n",
    "options['learning_rate'] = 2.5*1.e-3\n",
    "options['varphi_update_rate'] = 1.\n",
    "options['initial'] = (np.diag((.08,.1,.2)),)#.1*np.eye(G_dim.eval())"
   ]
  },
  {
   "cell_type": "code",
   "execution_count": null,
   "metadata": {
    "scrolled": false
   },
   "outputs": [],
   "source": [
    "# Transition density\n",
    "g0 = G.element()\n",
    "v = G.element()\n",
    "log_p_Tf = theano.function([g0,v],log_p_T(g0,v,dWs(G.dim),Brownian_inv_guided,phi,options,sde=G.sde_Brownian_inv,sigma=G.sigma))\n",
    "dlog_p_Tf = theano.function([g0,v],dlog_p_T(thetas,g0,v,dWs(G.dim),Brownian_inv_guided,phi,options,sde=G.sde_Brownian_inv,sigma=G.sigma))\n",
    "p_Tf = theano.function([g0,v],T.exp(log_p_T(g0,v,dWs(G.dim),Brownian_inv_guided,phi,options,sde=G.sde_Brownian_inv,sigma=G.sigma)))"
   ]
  },
  {
   "cell_type": "code",
   "execution_count": null,
   "metadata": {
    "scrolled": false
   },
   "outputs": [],
   "source": [
    "# sample bridges\n",
    "def lbridge_sampling(thetas,*args,**kwargs):\n",
    "    G.sigma.set_value(thetas[0])\n",
    "    return partial(bridge_sampling,g,dlog_likelihoodf,lambda: dWsf(G.dim.eval()),options)(*args,**kwargs)\n",
    "\n",
    "log_phis = np.zeros((K,))\n",
    "try:\n",
    "    mpu.openPool()\n",
    "    sol = mpu.pool.imap(partial(lbridge_sampling,options['initial']),mpu.inputArgs(obss,np.random.randint(1000,size=K)))\n",
    "    res = list(sol)\n",
    "    bridges = mpu.getRes(res,0)\n",
    "    log_varphis = mpu.getRes(res,1)\n",
    "    log_likelihoods = mpu.getRes(res,2)\n",
    "except:\n",
    "    mpu.closePool()\n",
    "    raise\n",
    "else:\n",
    "    mpu.closePool()\n",
    "\n",
    "# Plot on S2\n",
    "newfig()\n",
    "M.plot()\n",
    "colormap = plt.get_cmap('winter')\n",
    "colors=[colormap(k) for k in np.linspace(0, 1, K)]\n",
    "for i in range(bridges.shape[0]):\n",
    "    M.plotx(M.actf(obss[i],x),color=colors[i])\n",
    "    for j in range(bridges.shape[1]):\n",
    "        gs = bridges[i,j]\n",
    "        M.plotx(M.actsf(gs.transpose((1,2,0)),x).T,linewidth=.2,color=colors[i])\n",
    "plt.show()"
   ]
  },
  {
   "cell_type": "code",
   "execution_count": null,
   "metadata": {
    "scrolled": false
   },
   "outputs": [],
   "source": [
    "%%time\n",
    "from src.statistics.mle import *\n",
    "\n",
    "def llog_p_T(thetas,pars):\n",
    "    (v,seed) = pars\n",
    "    if seed:\n",
    "        srng.seed(seed)    \n",
    "    G.sigma.set_value(thetas[0])\n",
    "    return dlog_p_Tf(g,v)\n",
    "\n",
    "def update_thetas(thetas, dthetas):\n",
    "    sigma = thetas[0]\n",
    "    sigma += options['learning_rate']*dthetas[0]\n",
    "    \n",
    "    return (sigma,)\n",
    "\n",
    "# run MLE\n",
    "(thetas, log_likelihood, log_likelihoods, thetass) = iterative_mle(obss,llog_p_T,update_thetas,options)\n",
    "\n",
    "# plot\n",
    "plt.plot(range(options['epochs']),log_likelihoods)\n",
    "plt.show()\n",
    "plt.plot(range(options['epochs']),thetass[0].reshape((thetass[0].shape[0],-1)))\n",
    "plt.hlines(thetas_true[0].flatten(),plt.xlim()[0],plt.xlim()[1],color='r')\n",
    "plt.show()\n",
    "None"
   ]
  },
  {
   "cell_type": "code",
   "execution_count": null,
   "metadata": {},
   "outputs": [],
   "source": []
  }
 ],
 "metadata": {
  "kernelspec": {
   "display_name": "Python 3",
   "language": "python",
   "name": "python3"
  }
 },
 "nbformat": 4,
 "nbformat_minor": 1
}
