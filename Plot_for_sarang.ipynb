{
 "cells": [
  {
   "cell_type": "code",
   "execution_count": null,
   "metadata": {
    "collapsed": true
   },
   "outputs": [],
   "source": [
    "# # This file is part of Theano Geometry\n",
    "#\n",
    "# Copyright (C) 2017, Stefan Sommer (sommer@di.ku.dk)\n",
    "# https://bitbucket.org/stefansommer/theanogemetry\n",
    "#\n",
    "# Theano Geometry is free software: you can redistribute it and/or modify\n",
    "# it under the terms of the GNU General Public License as published by\n",
    "# the Free Software Foundation, either version 3 of the License, or\n",
    "# (at your option) any later version.\n",
    "#\n",
    "# Theano Geometry is distributed in the hope that it will be useful,\n",
    "# but WITHOUT ANY WARRANTY; without even the implied warranty of\n",
    "# MERCHANTABILITY or FITNESS FOR A PARTICULAR PURPOSE.  See the\n",
    "# GNU General Public License for more details.\n",
    "#\n",
    "# You should have received a copy of the GNU General Public License\n",
    "# along with Theano Geometry. If not, see <http://www.gnu.org/licenses/>.\n",
    "#"
   ]
  },
  {
   "cell_type": "markdown",
   "metadata": {},
   "source": [
    "# LDDMM landmark dynamics"
   ]
  },
  {
   "cell_type": "code",
   "execution_count": null,
   "metadata": {
    "collapsed": false
   },
   "outputs": [],
   "source": [
    "from src.manifolds.landmarks import *\n",
    "M = landmarks(5)\n",
    "print(M)\n",
    "\n",
    "from src.plotting import *"
   ]
  },
  {
   "cell_type": "code",
   "execution_count": null,
   "metadata": {
    "collapsed": true
   },
   "outputs": [],
   "source": [
    "# Riemannian structure\n",
    "from src.Riemannian import metric\n",
    "metric.initialize(M)"
   ]
  },
  {
   "cell_type": "code",
   "execution_count": null,
   "metadata": {
    "collapsed": false
   },
   "outputs": [],
   "source": [
    "# example configuration\n",
    "M.k_sigma.set_value(np.diag((.5,.5)))\n",
    "\n",
    "q = np.vstack((np.linspace(-.5,.5,M.N.eval()),np.zeros(M.N.eval()))).T.flatten()\n",
    "v = np.vstack((np.zeros(M.N.eval()),np.ones(M.N.eval()))).T.flatten()\n",
    "p = M.flatf(q,v.flatten())\n",
    "print(\"q = \", q)\n",
    "print(\"p = \", p)"
   ]
  },
  {
   "cell_type": "markdown",
   "metadata": {},
   "source": [
    "## Geodesics"
   ]
  },
  {
   "cell_type": "code",
   "execution_count": null,
   "metadata": {
    "collapsed": false
   },
   "outputs": [],
   "source": [
    "# 2nd order geodesic equation\n",
    "from src.Riemannian import geodesic\n",
    "geodesic.initialize(M)\n",
    "\n",
    "qs = M.Exptf(q,v)\n",
    "M.plot()\n",
    "M.plotx(qs,v,linewidth=1.5)\n",
    "plt.show()"
   ]
  },
  {
   "cell_type": "code",
   "execution_count": null,
   "metadata": {
    "collapsed": true
   },
   "outputs": [],
   "source": [
    "# Hamiltonian dynamics\n",
    "print(M.Hf(q,p))\n",
    "from src.dynamics import Hamiltonian\n",
    "Hamiltonian.initialize(M)\n",
    "\n",
    "# geodesic\n",
    "qs = M.Exp_Hamiltoniantf(q,p).T\n",
    "M.plot()\n",
    "M.plotx(qs,v)\n",
    "plt.show()\n",
    "(ts,qps) = M.Hamiltonian_dynamicsf(q,p)\n",
    "ps = qps[:,1,:]\n",
    "print(\"Energy: \",np.array([M.Hf(q,p) for (q,p) in zip(qs,ps)]))"
   ]
  },
  {
   "cell_type": "markdown",
   "metadata": {},
   "source": [
    "# Matching of shapes:"
   ]
  },
  {
   "cell_type": "code",
   "execution_count": null,
   "metadata": {
    "collapsed": false
   },
   "outputs": [],
   "source": [
    "from src.manifolds.landmarks import *\n",
    "M = landmarks(10)\n",
    "print(M)\n",
    "\n",
    "from src.plotting import *\n",
    "\n",
    "Nl = 10\n",
    "\n",
    "# Circle representation:\n",
    "theta = np.linspace(0,2*np.pi, Nl+1)\n",
    "a = 0.5\n",
    "b = 0.7\n",
    "xc = 0\n",
    "yc = 4\n",
    "x = xc + a*np.sin(theta[0:Nl])\n",
    "y = yc + b*np.cos(theta[0:Nl])\n",
    "plt.plot(x,y,'ro')\n",
    "\n",
    "q1 = np.vstack((x,y)).T.flatten()\n",
    "\n",
    "# Ellipse:\n",
    "a = 2\n",
    "b = 0.5\n",
    "cx = 0\n",
    "cy = 2\n",
    "xe = cx + a*np.sin(theta[0:Nl])\n",
    "ye = cy + b*np.cos(theta[0:Nl])\n",
    "plt.plot(xe,ye,'go')\n",
    "\n",
    "q0 = np.vstack((xe,ye)).T.flatten()\n",
    "\n",
    "# Initial tangent vector:\n",
    "v0 = np.tile(np.array([0,1]),Nl).reshape(Nl,2)\n",
    "plt.quiver(xe,ye,v0[:,0],v0[:,1], scale = 12)\n",
    "v0 = v0.flatten()\n",
    "\n",
    "plt.show()\n",
    "plt.axis('equal')"
   ]
  },
  {
   "cell_type": "code",
   "execution_count": null,
   "metadata": {
    "collapsed": true
   },
   "outputs": [],
   "source": [
    "# Riemannian structure\n",
    "from src.Riemannian import metric\n",
    "metric.initialize(M)\n",
    "# example configuration\n",
    "for i in range(Nl):\n",
    "    diffq0 = np.diff(q0.reshape((-1,2)),axis = 0)\n",
    "    diffq1 = np.diff(q1.reshape((-1,2)),axis = 0)\n",
    "foo1 = np.vstack([diffq0,diffq1])\n",
    "ks = np.mean(abs(foo1), axis = 0)\n",
    "print(ks)\n",
    "\n",
    "M.k_sigma.set_value(np.diag((ks[0],ks[1])))\n",
    "\n",
    "from src.Riemannian import geodesic\n",
    "geodesic.initialize(M)\n",
    "from src.Riemannian import Log\n",
    "Log.initialize(M)"
   ]
  },
  {
   "cell_type": "code",
   "execution_count": null,
   "metadata": {
    "collapsed": true
   },
   "outputs": [],
   "source": [
    "# Matching:\n",
    "start = time.time()\n",
    "v1 = M.Logf(q0,q1,v0)\n",
    "print(v1[1])\n",
    "print(\"time = \", time.time() - start)"
   ]
  },
  {
   "cell_type": "code",
   "execution_count": null,
   "metadata": {
    "collapsed": true
   },
   "outputs": [],
   "source": [
    "qs = M.Exptf(q0,v1[0])\n",
    "M.plot()\n",
    "M.plotx(qs,linewidth=1.5)\n",
    "\n",
    "plt.plot(x,y,'ro')\n",
    "plt.plot(xe,ye,'go')\n",
    "plt.show()"
   ]
  },
  {
   "cell_type": "markdown",
   "metadata": {},
   "source": [
    "# Grid transformation:"
   ]
  },
  {
   "cell_type": "code",
   "execution_count": null,
   "metadata": {
    "collapsed": true
   },
   "outputs": [],
   "source": [
    "from src.dynamics import Hamiltonian\n",
    "Hamiltonian.initialize(M)\n",
    "\n",
    "# geodesic\n",
    "p = M.flatf(q0,v1[0].flatten())\n",
    "qsv = M.Exp_Hamiltoniantf(q0,p).T\n",
    "M.plot()\n",
    "M.plotx(qsv,v1[0])\n",
    "plt.show()\n",
    "(ts,qps) = M.Hamiltonian_dynamicsf(q0,p)\n",
    "psv = qps[:,1,:]"
   ]
  },
  {
   "cell_type": "code",
   "execution_count": null,
   "metadata": {
    "collapsed": true
   },
   "outputs": [],
   "source": [
    "# Deformation of grid:\n",
    "def ode_Ham_advect2(q,p,t,x):\n",
    "     dxt = T.tensordot(M.gsharp(q),p,(1,0)).reshape((-1,2))\n",
    "     return dxt\n",
    "\n",
    "def ode_Ham_advect(q,p,t,x):\n",
    "     dxt = T.tensordot(M.K(x,q.reshape((-1,2))),p,(1,0)).reshape((-1,2))\n",
    "     return dxt\n",
    "\n",
    "xs = T.matrix() # point to be advected with flow\n",
    "qt = T.matrix() # fixed flow, q part\n",
    "pt = T.matrix() # fixed flow, p part\n",
    "Ham_advect = lambda xs,qt,pt: integrate(ode_Ham_advect,xs,qt,pt)\n",
    "Ham_advectf = theano.function([xs,qt,pt], Ham_advect(xs,qt,pt))\n",
    "\n",
    "Ham_advect2 = lambda xs,qt,pt: integrate(ode_Ham_advect2,xs,qt,pt)\n",
    "Ham_advect2f = theano.function([xs,qt,pt], Ham_advect2(xs,qt,pt))"
   ]
  },
  {
   "cell_type": "code",
   "execution_count": null,
   "metadata": {
    "collapsed": true
   },
   "outputs": [],
   "source": [
    "def d2zip(grid):\n",
    "    return np.dstack(grid).reshape([-1,2])\n",
    "\n",
    "def d2unzip(points,Nx,Ny):\n",
    "    return np.array([points[:,0].reshape(Nx,Ny),points[:,1].reshape(Nx,Ny)])\n",
    "\n",
    "def getGrid(xmin,xmax,ymin,ymax,xres=None,yres=None,xpts=None,ypts=None):\n",
    "        \"\"\"\n",
    "        Make regular grid\n",
    "        Grid spacing is determined either by (x|y)res or (x|y)pts\n",
    "        \"\"\"\n",
    "\n",
    "        if xres:\n",
    "            xd = xres\n",
    "        elif xpts:\n",
    "            xd = np.complex(0,xpts)\n",
    "        else:\n",
    "            assert(False)\n",
    "        if yres:\n",
    "            yd = yres\n",
    "        elif ypts:\n",
    "            yd = np.complex(0,ypts)\n",
    "        else:\n",
    "            assert(False)\n",
    "\n",
    "        grid = np.mgrid[xmin:xmax:xd,ymin:ymax:yd]\n",
    "        Nx = grid.shape[1]\n",
    "        Ny = grid.shape[2]\n",
    "\n",
    "        return (d2zip(grid),Nx,Ny)"
   ]
  },
  {
   "cell_type": "code",
   "execution_count": null,
   "metadata": {
    "collapsed": true
   },
   "outputs": [],
   "source": [
    "def plotGrid(grid,Nx,Ny,coloring=True):\n",
    "    \"\"\"\n",
    "    Plot grid\n",
    "    \"\"\"\n",
    "\n",
    "    xmin = grid[:,0].min(); xmax = grid[:,0].max()\n",
    "    ymin = grid[:,1].min(); ymax = grid[:,1].max()\n",
    "    border = .5*(0.2*(xmax-xmin)+0.2*(ymax-ymin))\n",
    "\n",
    "    grid = d2unzip(grid,Nx,Ny)\n",
    "\n",
    "    color = 0.75\n",
    "    colorgrid = np.full([Nx,Ny],color)\n",
    "    cm = plt.cm.get_cmap('gray')\n",
    "    if coloring:\n",
    "        cm = plt.cm.get_cmap('coolwarm')\n",
    "        hx = (xmax-xmin) / (Nx-1)\n",
    "        hy = (ymax-ymin) / (Ny-1)\n",
    "        for i,j in itertools.product(range(Nx),range(Ny)):\n",
    "            p = grid[:,i,j]\n",
    "            xs = np.empty([0,2])\n",
    "            ys = np.empty([0,2])\n",
    "            if 0 < i:\n",
    "                xs = np.vstack((xs,grid[:,i,j]-grid[:,i-1,j],))\n",
    "            if i < Nx-1:\n",
    "                xs = np.vstack((xs,grid[:,i+1,j]-grid[:,i,j],))\n",
    "            if 0 < j:\n",
    "                ys = np.vstack((ys,grid[:,i,j]-grid[:,i,j-1],))\n",
    "            if j < Ny-1:\n",
    "                ys = np.vstack((ys,grid[:,i,j+1]-grid[:,i,j],))\n",
    "\n",
    "            Jx = np.mean(xs,0) / hx\n",
    "            Jy = np.mean(ys,0) / hy\n",
    "            J = np.vstack((Jx,Jy,)).T\n",
    "\n",
    "            A = .5*(J+J.T)-np.eye(2)\n",
    "            CSstrain = np.log(np.trace(A*A.T))\n",
    "            logdetJac = np.log(sp.linalg.det(J))\n",
    "            colorgrid[i,j] = logdetJac\n",
    "\n",
    "        cmin = np.min(colorgrid)\n",
    "        cmax = np.max(colorgrid)\n",
    "        f = 2*np.max((np.abs(cmin),np.abs(cmax),.5))\n",
    "        colorgrid = colorgrid / f + 0.5\n",
    "\n",
    "        print(\"mean color: \", np.mean(colorgrid))\n",
    "\n",
    "        # plot lines\n",
    "    for i,j in itertools.product(range(Nx),range(Ny)):\n",
    "        if i < Nx-1:\n",
    "            plt.plot(grid[0,i:i+2,j],grid[1,i:i+2,j],color=cm(colorgrid[i,j]), alpha = 0.7)\n",
    "        if j < Ny-1:\n",
    "            plt.plot(grid[0,i,j:j+2],grid[1,i,j:j+2],color=cm(colorgrid[i,j]), alpha = 0.7)\n",
    "\n",
    "    #for i in range(0,grid.shape[1]):\n",
    "    #    plt.plot(grid[0,i,:],grid[1,i,:],color)\n",
    "    ## plot x lines\n",
    "    #for i in range(0,grid.shape[2]):\n",
    "    #    plt.plot(grid[0,:,i],grid[1,:,i],color)\n",
    "    plt.xlim(xmin-border,xmax+border)\n",
    "    plt.ylim(ymin-border,ymax+border)"
   ]
  },
  {
   "cell_type": "code",
   "execution_count": null,
   "metadata": {
    "collapsed": true
   },
   "outputs": [],
   "source": [
    "# test\n",
    "qqsv = Ham_advectf(q0.reshape((-1,2)),\n",
    "                    qsv,psv)[1].reshape((n_steps.eval(),-1))\n",
    "#M.plotx(qqsv)\n",
    "# grid\n",
    "(grid,Nx,Ny) = getGrid(-4.,4.,1.,5.,xpts=50,ypts=50)\n",
    "mgrid = Ham_advectf(grid,qsv,psv)[1][-1]\n",
    "plotGrid(mgrid,Nx,Ny,coloring=True)\n",
    "\n",
    "# Evolution:\n",
    "for i in range(qqsv.shape[0]):\n",
    "    xi = qqsv[i,:].reshape((-1,2))\n",
    "    NN = xi.shape[0]\n",
    "    \n",
    "    for j in range(NN):\n",
    "        if (i == 0) or (i == qqsv.shape[0]-1):\n",
    "            plt.plot(xi[j,0],xi[j,1],'bo')\n",
    "        else:\n",
    "            prevx = qqsv[i-1].reshape((NN,2))\n",
    "            xx = np.stack((prevx[j,:],xi[j,:]))\n",
    "            plt.plot(xx[:,0],xx[:,1],'b-')\n",
    "\n",
    "plt.show()\n",
    "plt.axis('equal')"
   ]
  },
  {
   "cell_type": "code",
   "execution_count": null,
   "metadata": {
    "collapsed": true
   },
   "outputs": [],
   "source": [
    "# Make movie:\n",
    "import os\n",
    "mgrid = Ham_advectf(grid,qsv,psv)[1]\n",
    "w = 40\n",
    "h = 25\n",
    "for k in np.arange(0,100,2)[1:]:\n",
    "    qsvk = qsv[0:k,:]\n",
    "    (grid,Nx,Ny) = getGrid(-4.,4.,1.,5.,xpts=50,ypts=50)\n",
    "    plotGrid(mgrid[k,:,:],Nx,Ny,coloring=True)\n",
    "\n",
    "    # Evolution:\n",
    "    for i in range(qsvk.shape[0]):\n",
    "        xi = qsvk[i,:].reshape((-1,2))\n",
    "        NN = xi.shape[0]\n",
    "    \n",
    "        for j in range(NN):\n",
    "            if (i == 0) or (i == qsvk.shape[0]-1):\n",
    "                plt.plot(xi[j,0],xi[j,1],'bo')\n",
    "            else:\n",
    "                prevx = qsvk[i-1].reshape((NN,2))\n",
    "                xx = np.stack((prevx[j,:],xi[j,:]))\n",
    "                plt.plot(xx[:,0],xx[:,1],'b-')\n",
    "    plt.axis('equal')\n",
    "    # Create one frame and inject in the movie object\n",
    "    filename = os.path.join(\"/home/line/Dropbox/MOVIE/\", 'pic%04d.png' % k-1)\n",
    "    plt.savefig(filename)\n",
    "    #writePictureTo(pic, filename)"
   ]
  },
  {
   "cell_type": "code",
   "execution_count": null,
   "metadata": {
    "collapsed": true
   },
   "outputs": [],
   "source": [
    "nb_frames = 60       # Will give 60 frames at 30 fps => movie duration : 2 sec.\n",
    "  for z in range(0, nb_frames):\n",
    "    pic=makeEmptyPicture(w, h)\n",
    "    for x in range (0, w):\n",
    "      for y in range (0, h):\n",
    "        #makeColor() takes red, green, and blue (in that order) between 0 and 255\n",
    "        r = random.randint(0, 255)\n",
    "        g = random.randint(0, 255)\n",
    "        b = random.randint(0, 255)\n",
    "        color = makeColor(r,g,b)\n",
    "        px = getPixel(pic, x, y)\n",
    "        setColor(px, color)\n",
    "\n",
    "    # Create one frame and inject in the movie object\n",
    "    filename = os.path.join(folder, 'pic%03d.png' % z)\n",
    "    writePictureTo(pic, filename)\n",
    "    addFrameToMovie(filename, movie)\n",
    "\n"
   ]
  },
  {
   "cell_type": "markdown",
   "metadata": {},
   "source": [
    "# Brownian motions and grid change:"
   ]
  },
  {
   "cell_type": "code",
   "execution_count": null,
   "metadata": {
    "collapsed": false
   },
   "outputs": [],
   "source": [
    "from src.manifolds.landmarks import *\n",
    "M = landmarks(20)\n",
    "print(M)\n",
    "\n",
    "from src.plotting import *\n",
    "\n",
    "Nl = M.N.eval()\n",
    "\n",
    "# example configuration\n",
    "M.k_sigma.set_value(np.diag((1,1)))\n",
    "M.k_alpha.set_value(1)\n",
    "n_steps.set_value(50)"
   ]
  },
  {
   "cell_type": "code",
   "execution_count": null,
   "metadata": {
    "collapsed": false
   },
   "outputs": [],
   "source": [
    "# Circle representation:\n",
    "theta = np.linspace(0,2*np.pi, Nl+1)\n",
    "a = 1\n",
    "b = 1\n",
    "xc = 0\n",
    "yc = 4\n",
    "x = xc + a*np.sin(theta[0:Nl])\n",
    "y = yc + b*np.cos(theta[0:Nl])\n",
    "plt.close()\n",
    "plt.plot(x,y,'ro')\n",
    "plt.show()\n",
    "\n",
    "q0 = np.vstack((x,y)).T.flatten()"
   ]
  },
  {
   "cell_type": "code",
   "execution_count": null,
   "metadata": {
    "collapsed": true
   },
   "outputs": [],
   "source": [
    "# Riemannian structure\n",
    "from src.Riemannian import metric\n",
    "metric.initialize(M)"
   ]
  },
  {
   "cell_type": "code",
   "execution_count": null,
   "metadata": {
    "collapsed": false
   },
   "outputs": [],
   "source": [
    "from src.stochastics import Brownian_coords\n",
    "Brownian_coords.initialize(M)\n",
    "\n",
    "dwt0 = dWsf(M.dim.eval())\n",
    "(ts,qs) = M.Brownian_coordsf(q0,dwt0)\n",
    "\n",
    "#dqs = np.zeros_like(qs)\n",
    "#for i in range(n_steps.eval()):\n",
    "#    sde0 = M.sde_Brownian_coordsf(dwt0[i,:],i,qs[i,:])\n",
    "#    dqs[i,:] = sde0[0]*dt.eval() + sde0[1]\n",
    "\n",
    "M.plot()\n",
    "M.plotx(qs)\n",
    "plt.show()"
   ]
  },
  {
   "cell_type": "code",
   "execution_count": null,
   "metadata": {
    "collapsed": true
   },
   "outputs": [],
   "source": [
    "from src.utils import *\n",
    "\n",
    "# Brownian motion as dx_t = K*dW_t:\n",
    "def sde_KBrown(dwt,t,q):\n",
    "    det = T.zeros_like(q)\n",
    "    X = theano.tensor.slinalg.Cholesky()(M.gsharp(q))\n",
    "    sto = T.tensordot(X,dwt,(1,0))#M.gsharp(q),dwt,(1,0))\n",
    "    return (det,sto,X)\n",
    "dwt = T.matrix()\n",
    "q = T.vector()\n",
    "BrownK = lambda q,dwt: integrate_sde(sde_KBrown,integrator_ito,q,dwt)\n",
    "Brownkf = theano.function([q,dwt], BrownK(q,dwt))"
   ]
  },
  {
   "cell_type": "code",
   "execution_count": null,
   "metadata": {
    "collapsed": false
   },
   "outputs": [],
   "source": [
    "(tsK,qsK) = Brownkf(q0,dwt0)\n",
    "M.plot()\n",
    "M.plotx(qsK)\n",
    "plt.show()"
   ]
  },
  {
   "cell_type": "code",
   "execution_count": null,
   "metadata": {
    "collapsed": true
   },
   "outputs": [],
   "source": [
    "import os\n",
    "for i in range(n_steps.eval()):\n",
    "    qsr = qs[i,:].reshape((M.N.eval(),2))\n",
    "    qsKr = qsK[i,:].reshape((M.N.eval(),2))\n",
    "    plt.plot(qsr[:,0],qsr[:,1], 'r-')\n",
    "    #plt.plot(qsr[:,0],qsr[:,1], 'ro')\n",
    "    plt.plot(np.array([qsr[0,0],qsr[-1,0]]),np.array([qsr[0,1],qsr[-1,1]]),'r-')\n",
    "    plt.plot(qsKr[:,0],qsKr[:,1], 'g-')\n",
    "    #plt.plot(qsKr[:,0],qsKr[:,1], 'go')\n",
    "    plt.plot(np.array([qsKr[0,0],qsKr[-1,0]]),\n",
    "             np.array([qsKr[0,1],qsKr[-1,1]]),'g-')\n",
    "    plt.axis((-4,4,0,8))\n",
    "    #plt.show()\n",
    "    # Create one frame and inject in the movie object\n",
    "    filename = os.path.join(\"/home/line/Dropbox/MOVIES/\", 'pic%04d.png' % i)\n",
    "    plt.savefig(filename)\n",
    "    plt.close()\n"
   ]
  },
  {
   "cell_type": "code",
   "execution_count": null,
   "metadata": {
    "collapsed": true
   },
   "outputs": [],
   "source": [
    "dqs = np.vstack([qs[0,:],np.diff(qs, axis = 0)])"
   ]
  },
  {
   "cell_type": "code",
   "execution_count": null,
   "metadata": {
    "collapsed": true
   },
   "outputs": [],
   "source": [
    "# Momentum for each time step:\n",
    "ps = np.zeros_like(qs)\n",
    "for i in range(n_steps.eval()):\n",
    "    ps[i,:] = np.tensordot(M.gf(qs[i,:]),dqs[i,:],(1,0))"
   ]
  },
  {
   "cell_type": "code",
   "execution_count": null,
   "metadata": {
    "collapsed": false
   },
   "outputs": [],
   "source": [
    "print(qs)\n",
    "print(qqsv)"
   ]
  },
  {
   "cell_type": "code",
   "execution_count": null,
   "metadata": {
    "collapsed": false
   },
   "outputs": [],
   "source": [
    "# test\n",
    "qqsv = Ham_advect2f(q0.reshape((-1,2)),\n",
    "                    qs,ps)[1].reshape((n_steps.eval(),-1))\n",
    "#M.plotx(qqsv)\n",
    "# grid\n",
    "(grid,Nx,Ny) = getGrid(-3.,3.,2.,6.,xpts=50,ypts=50)\n",
    "mgrid = Ham_advectf(grid,qs,ps)[1][-1]\n",
    "plotGrid(mgrid,Nx,Ny,coloring=True)\n",
    "\n",
    "# Evolution:\n",
    "for i in range(qqsv.shape[0]):\n",
    "    xi = qqsv[i,:].reshape((-1,2))\n",
    "    NN = xi.shape[0]\n",
    "    \n",
    "    for j in range(NN):\n",
    "        if (i == 0) or (i == qqsv.shape[0]-1):\n",
    "            plt.plot(xi[j,0],xi[j,1],'bo')\n",
    "        else:\n",
    "            prevx = qqsv[i-1].reshape((NN,2))\n",
    "            xx = np.stack((prevx[j,:],xi[j,:]))\n",
    "            plt.plot(xx[:,0],xx[:,1],'b-')\n",
    "\n",
    "plt.show()\n",
    "plt.axis('equal')"
   ]
  },
  {
   "cell_type": "code",
   "execution_count": null,
   "metadata": {
    "collapsed": false
   },
   "outputs": [],
   "source": [
    "import os\n",
    "qqsv = Ham_advectf(q0.reshape((-1,2)),\n",
    "                    qs,ps)[1].reshape((n_steps.eval(),-1))\n",
    "(grid,Nx,Ny) = getGrid(-3.,3.,2.,7.,xpts=30,ypts=30)\n",
    "mgrid = Ham_advectf(grid,qs,ps)[1]\n",
    "w = 40\n",
    "h = 25\n",
    "plt.close()\n",
    "for k in range(50):\n",
    "    plt.close()\n",
    "    qsvk = qqsv[0:k,:]\n",
    "    #(grid,Nx,Ny) = getGrid(-4.,4.,1.,5.,xpts=30,ypts=30)\n",
    "    plotGrid(mgrid[k,:,:],Nx,Ny,coloring=True)\n",
    "\n",
    "    # Evolution:\n",
    "    for i in range(qsvk.shape[0]):\n",
    "        xi = qsvk[i,:].reshape((-1,2))\n",
    "        NN = xi.shape[0]\n",
    "    \n",
    "        for j in range(NN):\n",
    "            if (i == 0) or (i == qsvk.shape[0]-1):\n",
    "                plt.plot(xi[j,0],xi[j,1],'bo')\n",
    "            else:\n",
    "                prevx = qsvk[i-1].reshape((NN,2))\n",
    "                xx = np.stack((prevx[j,:],xi[j,:]))\n",
    "                plt.plot(xx[:,0],xx[:,1],'b-')\n",
    "    plt.axis('equal')\n",
    "    # Create one frame and inject in the movie object\n",
    "    filename = os.path.join(\"/home/line/Dropbox/MOVIES/\", 'picg%04d.png' % k)\n",
    "    plt.savefig(filename)\n",
    "    #writePictureTo(pic, filename)"
   ]
  },
  {
   "cell_type": "markdown",
   "metadata": {},
   "source": [
    "# Brownian motion on SO(3)"
   ]
  },
  {
   "cell_type": "code",
   "execution_count": null,
   "metadata": {
    "collapsed": false
   },
   "outputs": [],
   "source": [
    "# SO(3)\n",
    "from src.groups.SON import *\n",
    "G = SON(3)\n",
    "print(G)\n",
    "\n",
    "# SO(3) acts on S^2\n",
    "from src.manifolds.S2 import *\n",
    "M = S2()\n",
    "print(M)\n",
    "\n",
    "from src.plotting import *"
   ]
  },
  {
   "cell_type": "code",
   "execution_count": null,
   "metadata": {
    "collapsed": false
   },
   "outputs": [],
   "source": [
    "# setup for testing different versions of stochastic dynamics\n",
    "q = np.array([1e-6,0,0])\n",
    "g = G.psif(q)\n",
    "v = np.array([0,1,1])\n",
    "\n",
    "from src.group import invariant_metric\n",
    "invariant_metric.initialize(G)\n",
    "\n",
    "p = G.sharppsif(q,v)\n",
    "mu = G.sharpVf(v)\n",
    "print(p)\n",
    "print(mu)\n",
    "\n",
    "from src.group import energy\n",
    "energy.initialize(G)"
   ]
  },
  {
   "cell_type": "code",
   "execution_count": null,
   "metadata": {
    "collapsed": false
   },
   "outputs": [],
   "source": [
    "# Brownian motion\n",
    "from src.stochastics import Brownian_inv\n",
    "Brownian_inv.initialize(G)\n",
    "\n",
    "G.sigma.set_value(np.diag(np.array([1,1,1])))\n",
    "\n",
    "srng.seed(420)\n",
    "dwt0 = dWsf(G.dim.eval())\n",
    "\n",
    "# srng.seed(422)\n",
    "(ts,gsv) = G.Brownian_invf(g,dwt0)\n",
    "newfig()\n",
    "G.plotg(gsv)\n",
    "plt.show()\n",
    "#plt.savefig('stocso3.pdf')\n",
    "\n",
    "# on S2\n",
    "newfig()\n",
    "M.plot()\n",
    "x = np.array([0,0,1])\n",
    "M.plotx(M.actsf(gsv.transpose((1,2,0)),x).T)\n",
    "plt.show()\n",
    "#plt.savefig('stocso32.pdf')"
   ]
  },
  {
   "cell_type": "code",
   "execution_count": null,
   "metadata": {
    "collapsed": true
   },
   "outputs": [],
   "source": [
    "import os\n",
    "for i in range(n_steps.eval()):\n",
    "    newfig()\n",
    "    G.plotg(gsv[i,:,:])\n",
    "    #plt.show()\n",
    "    # Create one frame and inject in the movie object\n",
    "    filename = os.path.join(\"/home/line/Dropbox/MOVIE_son/\", 'pic%04d.png' % i)\n",
    "    plt.savefig(filename)\n",
    "    plt.close()\n",
    "\n",
    "for i in np.arange(1,100):\n",
    "    #newfig()\n",
    "    M.plot()\n",
    "    x = np.array([0,0,1])\n",
    "    M.plotx(M.actsf(gsv[0:i,:,:].transpose((1,2,0)),x).T)\n",
    "    filename = os.path.join(\"/home/line/Dropbox/MOVIE_son/\", 'pics%04d.png' % i)\n",
    "    plt.savefig(filename)\n",
    "    plt.close()"
   ]
  },
  {
   "cell_type": "code",
   "execution_count": null,
   "metadata": {
    "collapsed": false
   },
   "outputs": [],
   "source": [
    "G.sigma.set_value(np.diag(np.array([2,1,1])))\n",
    "\n",
    "#srng.seed(422)\n",
    "(ts,gsv) = G.Brownian_invf(g,dwt0)\n",
    "newfig()\n",
    "G.plotg(gsv)\n",
    "plt.show()\n",
    "#plt.savefig('stocso3.pdf')\n",
    "\n",
    "# on S2\n",
    "newfig()\n",
    "M.plot()\n",
    "x = np.array([0,0,1])\n",
    "M.plotx(M.actsf(gsv.transpose((1,2,0)),x).T)\n",
    "plt.show()"
   ]
  },
  {
   "cell_type": "code",
   "execution_count": null,
   "metadata": {
    "collapsed": true
   },
   "outputs": [],
   "source": [
    "import os\n",
    "for i in range(n_steps.eval()):\n",
    "    newfig()\n",
    "    G.plotg(gsv[i,:,:])\n",
    "    #plt.show()\n",
    "    # Create one frame and inject in the movie object\n",
    "    filename = os.path.join(\"/home/line/Dropbox/MOVIE_son/\", 'pic211%04d.png' % i)\n",
    "    plt.savefig(filename)\n",
    "    plt.close()\n",
    "\n",
    "for i in np.arange(1,100):\n",
    "    #newfig()\n",
    "    M.plot()\n",
    "    x = np.array([0,0,1])\n",
    "    M.plotx(M.actsf(gsv[0:i,:,:].transpose((1,2,0)),x).T)\n",
    "    filename = os.path.join(\"/home/line/Dropbox/MOVIE_son/\", 'pic211s%04d.png' % i)\n",
    "    plt.savefig(filename)\n",
    "    plt.close()"
   ]
  },
  {
   "cell_type": "code",
   "execution_count": null,
   "metadata": {
    "collapsed": false
   },
   "outputs": [],
   "source": [
    "G.sigma.set_value(np.diag(np.array([1,2,1])))\n",
    "\n",
    "#srng.seed(422)\n",
    "(ts,gsv) = G.Brownian_invf(g,dwt0)\n",
    "newfig()\n",
    "G.plotg(gsv)\n",
    "plt.show()\n",
    "#plt.savefig('stocso3.pdf')\n",
    "\n",
    "# on S2\n",
    "newfig()\n",
    "M.plot()\n",
    "x = np.array([0,0,1])\n",
    "M.plotx(M.actsf(gsv.transpose((1,2,0)),x).T)\n",
    "plt.show()"
   ]
  },
  {
   "cell_type": "code",
   "execution_count": null,
   "metadata": {
    "collapsed": true
   },
   "outputs": [],
   "source": [
    "import os\n",
    "for i in range(n_steps.eval()):\n",
    "    newfig()\n",
    "    G.plotg(gsv[i,:,:])\n",
    "    #plt.show()\n",
    "    # Create one frame and inject in the movie object\n",
    "    filename = os.path.join(\"/home/line/Dropbox/MOVIE_son/\", 'pic121%04d.png' % i)\n",
    "    plt.savefig(filename)\n",
    "    plt.close()\n",
    "\n",
    "for i in np.arange(1,100):\n",
    "    #newfig()\n",
    "    M.plot()\n",
    "    x = np.array([0,0,1])\n",
    "    M.plotx(M.actsf(gsv[0:i,:,:].transpose((1,2,0)),x).T)\n",
    "    filename = os.path.join(\"/home/line/Dropbox/MOVIE_son/\", 'pic121s%04d.png' % i)\n",
    "    plt.savefig(filename)\n",
    "    plt.close()"
   ]
  },
  {
   "cell_type": "code",
   "execution_count": null,
   "metadata": {
    "collapsed": false
   },
   "outputs": [],
   "source": [
    "G.sigma.set_value(np.diag(np.array([1,1,2])))\n",
    "\n",
    "#srng.seed(422)\n",
    "(ts,gsv) = G.Brownian_invf(g,dwt0)\n",
    "newfig()\n",
    "G.plotg(gsv)\n",
    "plt.show()\n",
    "#plt.savefig('stocso3.pdf')\n",
    "\n",
    "# on S2\n",
    "newfig()\n",
    "M.plot()\n",
    "x = np.array([0,0,1])\n",
    "M.plotx(M.actsf(gsv.transpose((1,2,0)),x).T)\n",
    "plt.show()"
   ]
  },
  {
   "cell_type": "code",
   "execution_count": null,
   "metadata": {
    "collapsed": true
   },
   "outputs": [],
   "source": [
    "import os\n",
    "for i in range(n_steps.eval()):\n",
    "    newfig()\n",
    "    G.plotg(gsv[i,:,:])\n",
    "    #plt.show()\n",
    "    # Create one frame and inject in the movie object\n",
    "    filename = os.path.join(\"/home/line/Dropbox/MOVIE_son/\", 'pic112%04d.png' % i)\n",
    "    plt.savefig(filename)\n",
    "    plt.close()\n",
    "\n",
    "for i in np.arange(1,100):\n",
    "    #newfig()\n",
    "    M.plot()\n",
    "    x = np.array([0,0,1])\n",
    "    M.plotx(M.actsf(gsv[0:i,:,:].transpose((1,2,0)),x).T)\n",
    "    filename = os.path.join(\"/home/line/Dropbox/MOVIE_son/\", 'pic112s%04d.png' % i)\n",
    "    plt.savefig(filename)\n",
    "    plt.close()"
   ]
  }
 ],
 "metadata": {
  "kernelspec": {
   "display_name": "Python 2",
   "language": "python",
   "name": "python2"
  },
  "language_info": {
   "codemirror_mode": {
    "name": "ipython",
    "version": 2
   },
   "file_extension": ".py",
   "mimetype": "text/x-python",
   "name": "python",
   "nbconvert_exporter": "python",
   "pygments_lexer": "ipython2",
   "version": "2.7.12"
  }
 },
 "nbformat": 4,
 "nbformat_minor": 1
}
